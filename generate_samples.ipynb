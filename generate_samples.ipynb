{
 "cells": [
  {
   "cell_type": "code",
   "execution_count": 1,
   "metadata": {},
   "outputs": [],
   "source": [
    "import tqdm\n",
    "import torch\n",
    "import pickle\n",
    "import vec2text\n",
    "import numpy as np\n",
    "import pandas as pd\n",
    "from typing import List\n",
    "from transformers import AutoModel, AutoTokenizer\n",
    "from sentence_transformers import SentenceTransformer\n",
    "\n",
    "def log_print(str_to_print):\n",
    "    eval_str_to_print = eval(str_to_print)\n",
    "    if type(eval_str_to_print) == list:\n",
    "        eval_str_to_print = '\\n'.join(eval_str_to_print)\n",
    "    print(f\"{str_to_print}: {eval_str_to_print}\")\n",
    "\n",
    "IS_FIRST = False\n",
    "BASE_MODEL = 'gtr-base'\n",
    "MAX_SEQUENCE_LENGTH = 32\n",
    "DEVICE = 'cuda:0' if torch.cuda.is_available() else 'cpu'\n",
    "BATCH_SIZE = 512"
   ]
  },
  {
   "cell_type": "code",
   "execution_count": 2,
   "metadata": {
    "ExecuteTime": {
     "end_time": "2024-01-26T21:14:38.049760435Z",
     "start_time": "2024-01-26T21:14:11.640687331Z"
    }
   },
   "outputs": [
    {
     "name": "stderr",
     "output_type": "stream",
     "text": [
      "/home/nlp/matan_avitan/mambaforge/envs/vec2text_inter/lib/python3.10/site-packages/transformers/models/t5/tokenization_t5_fast.py:160: FutureWarning: This tokenizer was incorrectly instantiated with a model max length of 512 which will be corrected in Transformers v5.\n",
      "For now, this behavior is kept to avoid breaking backwards compatibility when padding/encoding with `truncation is True`.\n",
      "- Be aware that you SHOULD NOT rely on t5-base automatically truncating your input to 512 when padding/encoding.\n",
      "- If you want to encode/pad to sequences longer than 512 you can either instantiate this tokenizer with `model_max_length` or pass `max_length` when encoding/padding.\n",
      "- To avoid this warning, please instantiate this tokenizer with `model_max_length` set to your preferred value.\n",
      "  warnings.warn(\n"
     ]
    },
    {
     "data": {
      "text/plain": "Loading checkpoint shards:   0%|          | 0/8 [00:00<?, ?it/s]",
      "application/vnd.jupyter.widget-view+json": {
       "version_major": 2,
       "version_minor": 0,
       "model_id": "c228a2a433ff43cd94ce18d573886d0c"
      }
     },
     "metadata": {},
     "output_type": "display_data"
    },
    {
     "data": {
      "text/plain": "Loading checkpoint shards:   0%|          | 0/6 [00:00<?, ?it/s]",
      "application/vnd.jupyter.widget-view+json": {
       "version_major": 2,
       "version_minor": 0,
       "model_id": "613bf25806504db0b2e502f38d7ce30d"
      }
     },
     "metadata": {},
     "output_type": "display_data"
    }
   ],
   "source": [
    "corrector = vec2text.load_corrector(BASE_MODEL)"
   ]
  },
  {
   "cell_type": "code",
   "execution_count": 1,
   "outputs": [
    {
     "ename": "NameError",
     "evalue": "name 'corrector' is not defined",
     "output_type": "error",
     "traceback": [
      "\u001B[0;31m---------------------------------------------------------------------------\u001B[0m",
      "\u001B[0;31mNameError\u001B[0m                                 Traceback (most recent call last)",
      "Cell \u001B[0;32mIn[1], line 4\u001B[0m\n\u001B[1;32m      1\u001B[0m \u001B[38;5;28;01mdef\u001B[39;00m \u001B[38;5;21mcount_parameters\u001B[39m(model):\n\u001B[1;32m      2\u001B[0m     \u001B[38;5;28;01mreturn\u001B[39;00m \u001B[38;5;28msum\u001B[39m(p\u001B[38;5;241m.\u001B[39mnumel() \u001B[38;5;28;01mfor\u001B[39;00m p \u001B[38;5;129;01min\u001B[39;00m model\u001B[38;5;241m.\u001B[39mparameters() \u001B[38;5;28;01mif\u001B[39;00m p\u001B[38;5;241m.\u001B[39mrequires_grad)\n\u001B[0;32m----> 4\u001B[0m count_parameters(\u001B[43mcorrector\u001B[49m\u001B[38;5;241m.\u001B[39mmodel)\n",
      "\u001B[0;31mNameError\u001B[0m: name 'corrector' is not defined"
     ]
    }
   ],
   "source": [
    "def count_parameters(model):\n",
    "    return sum(p.numel() for p in model.parameters() if p.requires_grad)\n",
    "\n",
    "count_parameters(corrector.model)"
   ],
   "metadata": {
    "collapsed": false,
    "ExecuteTime": {
     "end_time": "2024-01-31T12:14:19.365679546Z",
     "start_time": "2024-01-31T12:14:19.148375835Z"
    }
   }
  },
  {
   "cell_type": "code",
   "execution_count": 2,
   "outputs": [
    {
     "data": {
      "text/plain": "253.02528"
     },
     "execution_count": 2,
     "metadata": {},
     "output_type": "execute_result"
    }
   ],
   "source": [
    "253025280 / 1_000_000"
   ],
   "metadata": {
    "collapsed": false,
    "ExecuteTime": {
     "end_time": "2024-01-31T12:14:23.390414952Z",
     "start_time": "2024-01-31T12:14:23.387756352Z"
    }
   }
  },
  {
   "cell_type": "code",
   "execution_count": 7,
   "outputs": [
    {
     "name": "stdout",
     "output_type": "stream",
     "text": [
      "--2024-01-24 18:28:51--  https://nlp.biu.ac.il/~ravfogs/rlace-cr/bios/bios_data/\r\n",
      "Resolving nlp.biu.ac.il (nlp.biu.ac.il)... 132.70.196.153\r\n",
      "Connecting to nlp.biu.ac.il (nlp.biu.ac.il)|132.70.196.153|:443... connected.\r\n",
      "HTTP request sent, awaiting response... 200 OK\r\n",
      "Length: 2703 (2.6K) [text/html]\r\n",
      "Saving to: ‘bios_data/index.html.tmp’\r\n",
      "\r\n",
      "index.html.tmp      100%[===================>]   2.64K  --.-KB/s    in 0s      \r\n",
      "\r\n",
      "2024-01-24 18:28:51 (53.9 MB/s) - ‘bios_data/index.html.tmp’ saved [2703/2703]\r\n",
      "\r\n",
      "Loading robots.txt; please ignore errors.\r\n",
      "--2024-01-24 18:28:51--  https://nlp.biu.ac.il/robots.txt\r\n",
      "Reusing existing connection to nlp.biu.ac.il:443.\r\n",
      "HTTP request sent, awaiting response... 404 Not Found\r\n",
      "2024-01-24 18:28:51 ERROR 404: Not Found.\r\n",
      "\r\n",
      "Removing bios_data/index.html.tmp since it should be rejected.\r\n",
      "\r\n",
      "--2024-01-24 18:28:51--  https://nlp.biu.ac.il/~ravfogs/rlace-cr/bios/bios_data/?C=N;O=D\r\n",
      "Reusing existing connection to nlp.biu.ac.il:443.\r\n",
      "HTTP request sent, awaiting response... 200 OK\r\n",
      "Length: 2703 (2.6K) [text/html]\r\n",
      "Saving to: ‘bios_data/index.html?C=N;O=D.tmp’\r\n",
      "\r\n",
      "index.html?C=N;O=D. 100%[===================>]   2.64K  --.-KB/s    in 0s      \r\n",
      "\r\n",
      "2024-01-24 18:28:51 (57.5 MB/s) - ‘bios_data/index.html?C=N;O=D.tmp’ saved [2703/2703]\r\n",
      "\r\n",
      "Removing bios_data/index.html?C=N;O=D.tmp since it should be rejected.\r\n",
      "\r\n",
      "--2024-01-24 18:28:51--  https://nlp.biu.ac.il/~ravfogs/rlace-cr/bios/bios_data/?C=M;O=A\r\n",
      "Reusing existing connection to nlp.biu.ac.il:443.\r\n",
      "HTTP request sent, awaiting response... 200 OK\r\n",
      "Length: 2703 (2.6K) [text/html]\r\n",
      "Saving to: ‘bios_data/index.html?C=M;O=A.tmp’\r\n",
      "\r\n",
      "index.html?C=M;O=A. 100%[===================>]   2.64K  --.-KB/s    in 0s      \r\n",
      "\r\n",
      "2024-01-24 18:28:51 (46.2 MB/s) - ‘bios_data/index.html?C=M;O=A.tmp’ saved [2703/2703]\r\n",
      "\r\n",
      "Removing bios_data/index.html?C=M;O=A.tmp since it should be rejected.\r\n",
      "\r\n",
      "--2024-01-24 18:28:51--  https://nlp.biu.ac.il/~ravfogs/rlace-cr/bios/bios_data/?C=S;O=A\r\n",
      "Reusing existing connection to nlp.biu.ac.il:443.\r\n",
      "HTTP request sent, awaiting response... 200 OK\r\n",
      "Length: 2703 (2.6K) [text/html]\r\n",
      "Saving to: ‘bios_data/index.html?C=S;O=A.tmp’\r\n",
      "\r\n",
      "index.html?C=S;O=A. 100%[===================>]   2.64K  --.-KB/s    in 0s      \r\n",
      "\r\n",
      "2024-01-24 18:28:51 (125 MB/s) - ‘bios_data/index.html?C=S;O=A.tmp’ saved [2703/2703]\r\n",
      "\r\n",
      "Removing bios_data/index.html?C=S;O=A.tmp since it should be rejected.\r\n",
      "\r\n",
      "--2024-01-24 18:28:51--  https://nlp.biu.ac.il/~ravfogs/rlace-cr/bios/bios_data/?C=D;O=A\r\n",
      "Reusing existing connection to nlp.biu.ac.il:443.\r\n",
      "HTTP request sent, awaiting response... 200 OK\r\n",
      "Length: 2703 (2.6K) [text/html]\r\n",
      "Saving to: ‘bios_data/index.html?C=D;O=A.tmp’\r\n",
      "\r\n",
      "index.html?C=D;O=A. 100%[===================>]   2.64K  --.-KB/s    in 0s      \r\n",
      "\r\n",
      "2024-01-24 18:28:51 (110 MB/s) - ‘bios_data/index.html?C=D;O=A.tmp’ saved [2703/2703]\r\n",
      "\r\n",
      "Removing bios_data/index.html?C=D;O=A.tmp since it should be rejected.\r\n",
      "\r\n",
      "--2024-01-24 18:28:51--  https://nlp.biu.ac.il/~ravfogs/rlace-cr/bios/bios_data/bios_dev.pickle\r\n",
      "Reusing existing connection to nlp.biu.ac.il:443.\r\n",
      "HTTP request sent, awaiting response... 200 OK\r\n",
      "Length: 66595445 (64M)\r\n",
      "Saving to: ‘bios_data/bios_dev.pickle’\r\n",
      "\r\n",
      "bios_dev.pickle     100%[===================>]  63.51M  30.5MB/s    in 2.1s    \r\n",
      "\r\n",
      "2024-01-24 18:28:53 (30.5 MB/s) - ‘bios_data/bios_dev.pickle’ saved [66595445/66595445]\r\n",
      "\r\n",
      "--2024-01-24 18:28:53--  https://nlp.biu.ac.il/~ravfogs/rlace-cr/bios/bios_data/bios_test.pickle\r\n",
      "Reusing existing connection to nlp.biu.ac.il:443.\r\n",
      "HTTP request sent, awaiting response... 200 OK\r\n",
      "Length: 182106720 (174M)\r\n",
      "Saving to: ‘bios_data/bios_test.pickle’\r\n",
      "\r\n",
      "bios_test.pickle    100%[===================>] 173.67M  40.9MB/s    in 4.3s    \r\n",
      "\r\n",
      "2024-01-24 18:28:58 (40.5 MB/s) - ‘bios_data/bios_test.pickle’ saved [182106720/182106720]\r\n",
      "\r\n",
      "--2024-01-24 18:28:58--  https://nlp.biu.ac.il/~ravfogs/rlace-cr/bios/bios_data/bios_train.pickle\r\n",
      "Reusing existing connection to nlp.biu.ac.il:443.\r\n",
      "HTTP request sent, awaiting response... 200 OK\r\n",
      "Length: 455284434 (434M)\r\n",
      "Saving to: ‘bios_data/bios_train.pickle’\r\n",
      "\r\n",
      "bios_train.pickle   100%[===================>] 434.19M  57.2MB/s    in 8.6s    \r\n",
      "\r\n",
      "2024-01-24 18:29:07 (50.5 MB/s) - ‘bios_data/bios_train.pickle’ saved [455284434/455284434]\r\n",
      "\r\n",
      "--2024-01-24 18:29:08--  https://nlp.biu.ac.il/~ravfogs/rlace-cr/bios/bios_data/dev.pickle\r\n",
      "Reusing existing connection to nlp.biu.ac.il:443.\r\n",
      "HTTP request sent, awaiting response... 200 OK\r\n",
      "Length: 66595445 (64M)\r\n",
      "Saving to: ‘bios_data/dev.pickle’\r\n",
      "\r\n",
      "dev.pickle          100%[===================>]  63.51M  45.5MB/s    in 1.4s    \r\n",
      "\r\n",
      "2024-01-24 18:29:10 (45.5 MB/s) - ‘bios_data/dev.pickle’ saved [66595445/66595445]\r\n",
      "\r\n",
      "--2024-01-24 18:29:10--  https://nlp.biu.ac.il/~ravfogs/rlace-cr/bios/bios_data/dev_cls.npy\r\n",
      "Reusing existing connection to nlp.biu.ac.il:443.\r\n",
      "HTTP request sent, awaiting response... 200 OK\r\n",
      "Length: 120941696 (115M)\r\n",
      "Saving to: ‘bios_data/dev_cls.npy’\r\n",
      "\r\n",
      "dev_cls.npy         100%[===================>] 115.34M  57.7MB/s    in 2.0s    \r\n",
      "\r\n",
      "2024-01-24 18:29:12 (57.7 MB/s) - ‘bios_data/dev_cls.npy’ saved [120941696/120941696]\r\n",
      "\r\n",
      "--2024-01-24 18:29:12--  https://nlp.biu.ac.il/~ravfogs/rlace-cr/bios/bios_data/test.pickle\r\n",
      "Reusing existing connection to nlp.biu.ac.il:443.\r\n",
      "HTTP request sent, awaiting response... 200 OK\r\n",
      "Length: 182106720 (174M)\r\n",
      "Saving to: ‘bios_data/test.pickle’\r\n",
      "\r\n",
      "test.pickle         100%[===================>] 173.67M  59.9MB/s    in 2.9s    \r\n",
      "\r\n",
      "2024-01-24 18:29:15 (59.9 MB/s) - ‘bios_data/test.pickle’ saved [182106720/182106720]\r\n",
      "\r\n",
      "--2024-01-24 18:29:16--  https://nlp.biu.ac.il/~ravfogs/rlace-cr/bios/bios_data/test_cls.npy\r\n",
      "Reusing existing connection to nlp.biu.ac.il:443.\r\n",
      "HTTP request sent, awaiting response... 200 OK\r\n",
      "Length: 302112896 (288M)\r\n",
      "Saving to: ‘bios_data/test_cls.npy’\r\n",
      "\r\n",
      "test_cls.npy        100%[===================>] 288.12M  61.7MB/s    in 4.7s    \r\n",
      "\r\n",
      "2024-01-24 18:29:21 (61.1 MB/s) - ‘bios_data/test_cls.npy’ saved [302112896/302112896]\r\n",
      "\r\n",
      "--2024-01-24 18:29:21--  https://nlp.biu.ac.il/~ravfogs/rlace-cr/bios/bios_data/train.pickle\r\n",
      "Reusing existing connection to nlp.biu.ac.il:443.\r\n",
      "HTTP request sent, awaiting response... 200 OK\r\n",
      "Length: 455284434 (434M)\r\n",
      "Saving to: ‘bios_data/train.pickle’\r\n",
      "\r\n",
      "train.pickle        100%[===================>] 434.19M  61.6MB/s    in 7.3s    \r\n",
      "\r\n",
      "2024-01-24 18:29:29 (59.1 MB/s) - ‘bios_data/train.pickle’ saved [455284434/455284434]\r\n",
      "\r\n",
      "--2024-01-24 18:29:30--  https://nlp.biu.ac.il/~ravfogs/rlace-cr/bios/bios_data/train_cls.npy\r\n",
      "Reusing existing connection to nlp.biu.ac.il:443.\r\n",
      "HTTP request sent, awaiting response... 200 OK\r\n",
      "Length: 785541248 (749M)\r\n",
      "Saving to: ‘bios_data/train_cls.npy’\r\n",
      "\r\n",
      "train_cls.npy       100%[===================>] 749.15M  62.0MB/s    in 13s     \r\n",
      "\r\n",
      "2024-01-24 18:29:44 (57.8 MB/s) - ‘bios_data/train_cls.npy’ saved [785541248/785541248]\r\n",
      "\r\n",
      "--2024-01-24 18:29:46--  https://nlp.biu.ac.il/~ravfogs/rlace-cr/bios/bios_data/?C=N;O=A\r\n",
      "Reusing existing connection to nlp.biu.ac.il:443.\r\n",
      "HTTP request sent, awaiting response... 200 OK\r\n",
      "Length: 2703 (2.6K) [text/html]\r\n",
      "Saving to: ‘bios_data/index.html?C=N;O=A.tmp’\r\n",
      "\r\n",
      "index.html?C=N;O=A. 100%[===================>]   2.64K  --.-KB/s    in 0s      \r\n",
      "\r\n",
      "2024-01-24 18:29:46 (115 MB/s) - ‘bios_data/index.html?C=N;O=A.tmp’ saved [2703/2703]\r\n",
      "\r\n",
      "Removing bios_data/index.html?C=N;O=A.tmp since it should be rejected.\r\n",
      "\r\n",
      "--2024-01-24 18:29:46--  https://nlp.biu.ac.il/~ravfogs/rlace-cr/bios/bios_data/?C=M;O=D\r\n",
      "Reusing existing connection to nlp.biu.ac.il:443.\r\n",
      "HTTP request sent, awaiting response... 200 OK\r\n",
      "Length: 2703 (2.6K) [text/html]\r\n",
      "Saving to: ‘bios_data/index.html?C=M;O=D.tmp’\r\n",
      "\r\n",
      "index.html?C=M;O=D. 100%[===================>]   2.64K  --.-KB/s    in 0s      \r\n",
      "\r\n",
      "2024-01-24 18:29:46 (91.7 MB/s) - ‘bios_data/index.html?C=M;O=D.tmp’ saved [2703/2703]\r\n",
      "\r\n",
      "Removing bios_data/index.html?C=M;O=D.tmp since it should be rejected.\r\n",
      "\r\n",
      "--2024-01-24 18:29:46--  https://nlp.biu.ac.il/~ravfogs/rlace-cr/bios/bios_data/?C=S;O=D\r\n",
      "Reusing existing connection to nlp.biu.ac.il:443.\r\n",
      "HTTP request sent, awaiting response... 200 OK\r\n",
      "Length: 2703 (2.6K) [text/html]\r\n",
      "Saving to: ‘bios_data/index.html?C=S;O=D.tmp’\r\n",
      "\r\n",
      "index.html?C=S;O=D. 100%[===================>]   2.64K  --.-KB/s    in 0s      \r\n",
      "\r\n",
      "2024-01-24 18:29:46 (121 MB/s) - ‘bios_data/index.html?C=S;O=D.tmp’ saved [2703/2703]\r\n",
      "\r\n",
      "Removing bios_data/index.html?C=S;O=D.tmp since it should be rejected.\r\n",
      "\r\n",
      "--2024-01-24 18:29:46--  https://nlp.biu.ac.il/~ravfogs/rlace-cr/bios/bios_data/?C=D;O=D\r\n",
      "Reusing existing connection to nlp.biu.ac.il:443.\r\n",
      "HTTP request sent, awaiting response... 200 OK\r\n",
      "Length: 2703 (2.6K) [text/html]\r\n",
      "Saving to: ‘bios_data/index.html?C=D;O=D.tmp’\r\n",
      "\r\n",
      "index.html?C=D;O=D. 100%[===================>]   2.64K  --.-KB/s    in 0s      \r\n",
      "\r\n",
      "2024-01-24 18:29:46 (122 MB/s) - ‘bios_data/index.html?C=D;O=D.tmp’ saved [2703/2703]\r\n",
      "\r\n",
      "Removing bios_data/index.html?C=D;O=D.tmp since it should be rejected.\r\n",
      "\r\n",
      "--2024-01-24 18:29:46--  https://nlp.biu.ac.il/~ravfogs/rlace-cr/bios/bios_data/%E2%80%9Dhttp://www.eagledailyinvestor.com/%E2%80%9D\r\n",
      "Reusing existing connection to nlp.biu.ac.il:443.\r\n",
      "HTTP request sent, awaiting response... 404 Not Found\r\n",
      "2024-01-24 18:29:46 ERROR 404: Not Found.\r\n",
      "\r\n",
      "--2024-01-24 18:29:46--  https://nlp.biu.ac.il/~ravfogs/rlace-cr/bios/bios_data/%E2%80%9Dhttps://www.markskousen.com/offers/products/fss121-skousen-editorial-ss4-aud/%E2%80%9D\r\n",
      "Reusing existing connection to nlp.biu.ac.il:443.\r\n",
      "HTTP request sent, awaiting response... 404 Not Found\r\n",
      "2024-01-24 18:29:46 ERROR 404: Not Found.\r\n",
      "\r\n",
      "--2024-01-24 18:29:46--  https://nlp.biu.ac.il/~ravfogs/rlace-cr/bios/bios_data/%E2%80%9Dhttps://www.fabian.com/offers/products/wsj225-editorial-link-wash-aud/%E2%80%9D\r\n",
      "Reusing existing connection to nlp.biu.ac.il:443.\r\n",
      "HTTP request sent, awaiting response... 404 Not Found\r\n",
      "2024-01-24 18:29:46 ERROR 404: Not Found.\r\n",
      "\r\n",
      "--2024-01-24 18:29:46--  https://nlp.biu.ac.il/~ravfogs/rlace-cr/bios/bios_data/%E2%80%9Dhttps://www.fabian.com/offers/products/hyh215-amrheim-editorial-link-fear-aud/%E2%80%9D\r\n",
      "Reusing existing connection to nlp.biu.ac.il:443.\r\n",
      "HTTP request sent, awaiting response... 404 Not Found\r\n",
      "2024-01-24 18:29:46 ERROR 404: Not Found.\r\n",
      "\r\n",
      "--2024-01-24 18:29:46--  https://nlp.biu.ac.il/~ravfogs/rlace-cr/bios/bios_data/%E2%80%9Dhttps://order.nicholasvardy.com/offers/products/aip351-alpha-editorial-link-aud/%E2%80%9D\r\n",
      "Reusing existing connection to nlp.biu.ac.il:443.\r\n",
      "HTTP request sent, awaiting response... 404 Not Found\r\n",
      "2024-01-24 18:29:46 ERROR 404: Not Found.\r\n",
      "\r\n",
      "--2024-01-24 18:29:46--  https://nlp.biu.ac.il/~ravfogs/rlace-cr/bios/bios_data/%E2%80%9Dhttps://order.chrisversace.com/offers/products/ptp346-dawson-editorial-2lifetime-audio/%E2%80%9D\r\n",
      "Reusing existing connection to nlp.biu.ac.il:443.\r\n",
      "HTTP request sent, awaiting response... 404 Not Found\r\n",
      "2024-01-24 18:29:46 ERROR 404: Not Found.\r\n",
      "\r\n",
      "--2024-01-24 18:29:46--  https://nlp.biu.ac.il/~ravfogs/rlace-cr/bios/bios_data/mailto%20:%20malinjr@miamioh.edu\r\n",
      "Reusing existing connection to nlp.biu.ac.il:443.\r\n",
      "HTTP request sent, awaiting response... 404 Not Found\r\n",
      "2024-01-24 18:29:46 ERROR 404: Not Found.\r\n",
      "\r\n",
      "FINISHED --2024-01-24 18:29:46--\r\n",
      "Total wall clock time: 55s\r\n",
      "Downloaded: 18 files, 2.4G in 46s (53.9 MB/s)\r\n"
     ]
    }
   ],
   "source": [
    "if IS_FIRST:\n",
    "    !wget -r --no-clobber --no-parent -R \"index.html*\" -nH --cut-dirs=4 -P bios_data https://nlp.biu.ac.il/~ravfogs/rlace-cr/bios/bios_data/"
   ],
   "metadata": {
    "collapsed": false,
    "ExecuteTime": {
     "end_time": "2024-01-24T16:29:46.669344545Z",
     "start_time": "2024-01-24T16:28:50.956393303Z"
    }
   }
  },
  {
   "cell_type": "code",
   "execution_count": 4,
   "metadata": {
    "ExecuteTime": {
     "end_time": "2024-01-24T23:56:36.375972616Z",
     "start_time": "2024-01-24T23:56:32.934710403Z"
    }
   },
   "outputs": [],
   "source": [
    "#download the bios_train, bios_dev, bios_test files from https://nlp.biu.ac.il/~ravfogs/rlace-cr/bios/bios_data/\n",
    "\n",
    "with open(\"bios_data/bios_train.pickle\", \"rb\") as f:\n",
    "  bios_train = pickle.load(f)\n",
    "\n",
    "with open(\"bios_data/bios_dev.pickle\", \"rb\") as f:\n",
    "  bios_dev = pickle.load(f)\n",
    "\n",
    "with open(\"bios_data/bios_test.pickle\", \"rb\") as f:\n",
    "  bios_test = pickle.load(f)"
   ]
  },
  {
   "cell_type": "code",
   "execution_count": 88,
   "outputs": [
    {
     "name": "stdout",
     "output_type": "stream",
     "text": [
      "bios_train_df.shape: (255710, 7)\n",
      "bios_dev_df.shape: (39369, 7)\n",
      "bios_test_df.shape: (98344, 7)\n"
     ]
    },
    {
     "data": {
      "text/plain": "       g             p                                               text  \\\n0      m      attorney  Mark Chauvin Bezinque, Esq. is an attorney who...   \n1      f     professor  Pamela Burke Martin is an assistant professor ...   \n2      f      attorney  Ms. Stacy Tromble is a Staff Attorney with NVL...   \n3      m     professor  Farid Abdel-Nour is an associate professor of ...   \n4      m     professor  Sergio F. Ochoa is an Assistant Professor of C...   \n...   ..           ...                                                ...   \n98339  m  psychologist  Joe Bavonese, PhD is a Licensed Psychologist i...   \n98340  f       teacher  Julia Stacey is a paraprofessional teacher at ...   \n98341  f       teacher  Mariam Noronha is a teacher with over nine yea...   \n98342  m       surgeon  Dr. John Silverton is a leading plastic surgeo...   \n98343  f  psychologist  Dr. Kelly Bowers is a licensed psychologist. S...   \n\n       start                                          hard_text  \\\n0        209  Mr. Bezinque helps clients regain control of t...   \n1         58  She has a Ph.D. from the University of Marylan...   \n2         49  She is admitted to practice before the U.S. Co...   \n3        168  Related StoriesEducation and Behavior in Israe...   \n4         89  He received his PhD in Computer Science from C...   \n...      ...                                                ...   \n98339     57  Joe is the Founder and Director of the Relatio...   \n98340     50  She graduated from Hawaii Pacific University w...   \n98341     72  She has taught a wide range of management rela...   \n98342    129  Over the decades , he has treated numerous ind...   \n98343     44  She received her Ph.D. in Counseling Psycholog...   \n\n                                   hard_text_untokenized  \\\n0      Mr. Bezinque helps clients regain control of t...   \n1      She has a Ph.D. from the University of Marylan...   \n2      She is admitted to practice before the U.S. Co...   \n3      Related StoriesEducation and Behavior in Israe...   \n4      He received his PhD in Computer Science from C...   \n...                                                  ...   \n98339  Joe is the Founder and Director of the Relatio...   \n98340  She graduated from Hawaii Pacific University w...   \n98341  She has taught a wide range of management rela...   \n98342  Over the decades, he has treated numerous indi...   \n98343  She received her Ph.D. in Counseling Psycholog...   \n\n                                     text_without_gender  \n0      _. _ helps clients regain control of their liv...  \n1      _ has a Ph.D. from the University of Maryland....  \n2      _ is admitted to practice before the U.S. Cour...  \n3      Related StoriesEducation and Behavior in Israe...  \n4      _ received _ PhD in Computer Science from Cath...  \n...                                                  ...  \n98339  _ is the Founder and Director of the Relations...  \n98340  _ graduated from Hawaii Pacific University wit...  \n98341  _ has taught a wide range of management relate...  \n98342  Over the decades, _ has treated numerous indiv...  \n98343  _ received _ Ph.D. in Counseling Psychology fr...  \n\n[98344 rows x 7 columns]",
      "text/html": "<div>\n<style scoped>\n    .dataframe tbody tr th:only-of-type {\n        vertical-align: middle;\n    }\n\n    .dataframe tbody tr th {\n        vertical-align: top;\n    }\n\n    .dataframe thead th {\n        text-align: right;\n    }\n</style>\n<table border=\"1\" class=\"dataframe\">\n  <thead>\n    <tr style=\"text-align: right;\">\n      <th></th>\n      <th>g</th>\n      <th>p</th>\n      <th>text</th>\n      <th>start</th>\n      <th>hard_text</th>\n      <th>hard_text_untokenized</th>\n      <th>text_without_gender</th>\n    </tr>\n  </thead>\n  <tbody>\n    <tr>\n      <th>0</th>\n      <td>m</td>\n      <td>attorney</td>\n      <td>Mark Chauvin Bezinque, Esq. is an attorney who...</td>\n      <td>209</td>\n      <td>Mr. Bezinque helps clients regain control of t...</td>\n      <td>Mr. Bezinque helps clients regain control of t...</td>\n      <td>_. _ helps clients regain control of their liv...</td>\n    </tr>\n    <tr>\n      <th>1</th>\n      <td>f</td>\n      <td>professor</td>\n      <td>Pamela Burke Martin is an assistant professor ...</td>\n      <td>58</td>\n      <td>She has a Ph.D. from the University of Marylan...</td>\n      <td>She has a Ph.D. from the University of Marylan...</td>\n      <td>_ has a Ph.D. from the University of Maryland....</td>\n    </tr>\n    <tr>\n      <th>2</th>\n      <td>f</td>\n      <td>attorney</td>\n      <td>Ms. Stacy Tromble is a Staff Attorney with NVL...</td>\n      <td>49</td>\n      <td>She is admitted to practice before the U.S. Co...</td>\n      <td>She is admitted to practice before the U.S. Co...</td>\n      <td>_ is admitted to practice before the U.S. Cour...</td>\n    </tr>\n    <tr>\n      <th>3</th>\n      <td>m</td>\n      <td>professor</td>\n      <td>Farid Abdel-Nour is an associate professor of ...</td>\n      <td>168</td>\n      <td>Related StoriesEducation and Behavior in Israe...</td>\n      <td>Related StoriesEducation and Behavior in Israe...</td>\n      <td>Related StoriesEducation and Behavior in Israe...</td>\n    </tr>\n    <tr>\n      <th>4</th>\n      <td>m</td>\n      <td>professor</td>\n      <td>Sergio F. Ochoa is an Assistant Professor of C...</td>\n      <td>89</td>\n      <td>He received his PhD in Computer Science from C...</td>\n      <td>He received his PhD in Computer Science from C...</td>\n      <td>_ received _ PhD in Computer Science from Cath...</td>\n    </tr>\n    <tr>\n      <th>...</th>\n      <td>...</td>\n      <td>...</td>\n      <td>...</td>\n      <td>...</td>\n      <td>...</td>\n      <td>...</td>\n      <td>...</td>\n    </tr>\n    <tr>\n      <th>98339</th>\n      <td>m</td>\n      <td>psychologist</td>\n      <td>Joe Bavonese, PhD is a Licensed Psychologist i...</td>\n      <td>57</td>\n      <td>Joe is the Founder and Director of the Relatio...</td>\n      <td>Joe is the Founder and Director of the Relatio...</td>\n      <td>_ is the Founder and Director of the Relations...</td>\n    </tr>\n    <tr>\n      <th>98340</th>\n      <td>f</td>\n      <td>teacher</td>\n      <td>Julia Stacey is a paraprofessional teacher at ...</td>\n      <td>50</td>\n      <td>She graduated from Hawaii Pacific University w...</td>\n      <td>She graduated from Hawaii Pacific University w...</td>\n      <td>_ graduated from Hawaii Pacific University wit...</td>\n    </tr>\n    <tr>\n      <th>98341</th>\n      <td>f</td>\n      <td>teacher</td>\n      <td>Mariam Noronha is a teacher with over nine yea...</td>\n      <td>72</td>\n      <td>She has taught a wide range of management rela...</td>\n      <td>She has taught a wide range of management rela...</td>\n      <td>_ has taught a wide range of management relate...</td>\n    </tr>\n    <tr>\n      <th>98342</th>\n      <td>m</td>\n      <td>surgeon</td>\n      <td>Dr. John Silverton is a leading plastic surgeo...</td>\n      <td>129</td>\n      <td>Over the decades , he has treated numerous ind...</td>\n      <td>Over the decades, he has treated numerous indi...</td>\n      <td>Over the decades, _ has treated numerous indiv...</td>\n    </tr>\n    <tr>\n      <th>98343</th>\n      <td>f</td>\n      <td>psychologist</td>\n      <td>Dr. Kelly Bowers is a licensed psychologist. S...</td>\n      <td>44</td>\n      <td>She received her Ph.D. in Counseling Psycholog...</td>\n      <td>She received her Ph.D. in Counseling Psycholog...</td>\n      <td>_ received _ Ph.D. in Counseling Psychology fr...</td>\n    </tr>\n  </tbody>\n</table>\n<p>98344 rows × 7 columns</p>\n</div>"
     },
     "execution_count": 88,
     "metadata": {},
     "output_type": "execute_result"
    }
   ],
   "source": [
    "\"\"\"\n",
    "A look into the dataset\n",
    "\"\"\"\n",
    "bios_train_df = pd.DataFrame(bios_train)\n",
    "bios_dev_df = pd.DataFrame(bios_dev)\n",
    "bios_test_df = pd.DataFrame(bios_test)\n",
    "log_print('bios_train_df.shape');log_print('bios_dev_df.shape');log_print('bios_test_df.shape');bios_test_df"
   ],
   "metadata": {
    "collapsed": false,
    "ExecuteTime": {
     "end_time": "2024-01-25T00:51:45.840545460Z",
     "start_time": "2024-01-25T00:51:44.895530944Z"
    }
   }
  },
  {
   "cell_type": "markdown",
   "source": [
    "# Preprocess for gender prediction"
   ],
   "metadata": {
    "collapsed": false
   }
  },
  {
   "cell_type": "code",
   "execution_count": 89,
   "outputs": [],
   "source": [
    "# text_train_df = bios_train_df[['hard_text']]\n",
    "# text_dev_df = bios_dev_df[['hard_text']]\n",
    "# text_test_df = bios_test_df[['hard_text']]\n",
    "\n",
    "z_train = bios_train_df['g'].replace('f', 0).replace('m', 1).astype(int).to_numpy()\n",
    "z_dev = bios_dev_df['g'].replace('f', 0).replace('m', 1).astype(int).to_numpy()\n",
    "\n",
    "y_train = bios_train_df['p'].to_numpy()\n",
    "y_dev = bios_dev_df['p'].to_numpy()"
   ],
   "metadata": {
    "collapsed": false,
    "ExecuteTime": {
     "end_time": "2024-01-25T00:51:49.004795302Z",
     "start_time": "2024-01-25T00:51:48.891483657Z"
    }
   }
  },
  {
   "cell_type": "code",
   "execution_count": 91,
   "metadata": {
    "ExecuteTime": {
     "end_time": "2024-01-25T00:51:59.389373455Z",
     "start_time": "2024-01-25T00:51:59.378680724Z"
    }
   },
   "outputs": [],
   "source": [
    "def encode(corrector, sents: List):\n",
    "    inputs = corrector.embedder_tokenizer(\n",
    "        sents,\n",
    "        return_tensors=\"pt\",\n",
    "        max_length=MAX_SEQUENCE_LENGTH,\n",
    "        truncation=True,\n",
    "        padding=\"max_length\",\n",
    "    )\n",
    "    inputs = inputs.to(DEVICE)\n",
    "    with torch.no_grad():\n",
    "        frozen_embeddings = corrector.inversion_trainer.call_embedding_model(\n",
    "            input_ids=inputs.input_ids,\n",
    "            attention_mask=inputs.attention_mask,\n",
    "        )\n",
    "    return frozen_embeddings.detach().cpu().numpy()"
   ]
  },
  {
   "cell_type": "code",
   "execution_count": 65,
   "outputs": [
    {
     "name": "stderr",
     "output_type": "stream",
     "text": [
      "100%|██████████| 500/500 [03:27<00:00,  2.41it/s]\n"
     ]
    }
   ],
   "source": [
    "# tqdm.tqdm.pandas()\n",
    "# bios_train_df['batch_group'] = bios_train_df.index // BATCH_SIZE\n",
    "# bios_train_df['embedding'] = bios_train_df.groupby('batch_group').progress_apply(lambda batch: encode(corrector, batch['hard_text'].tolist()))"
   ],
   "metadata": {
    "collapsed": false,
    "ExecuteTime": {
     "end_time": "2024-01-25T00:38:15.015766642Z",
     "start_time": "2024-01-25T00:34:46.442001082Z"
    }
   }
  },
  {
   "cell_type": "code",
   "execution_count": 92,
   "outputs": [
    {
     "name": "stderr",
     "output_type": "stream",
     "text": [
      "100%|██████████| 500/500 [03:38<00:00,  2.29it/s]\n"
     ]
    }
   ],
   "source": [
    "encodings = []\n",
    "\n",
    "for i in tqdm.tqdm(range(0, len(bios_train_df), BATCH_SIZE)):\n",
    "    sents_batch = bios_train_df.loc[i:i+BATCH_SIZE, 'hard_text'].tolist()\n",
    "    encodings.append(encode(corrector, sents_batch))\n",
    "x = np.concatenate(encodings, axis=0)\n",
    "x = x[:len(bios_train_df)] # Nan are added to the last batch, let's remove them"
   ],
   "metadata": {
    "collapsed": false,
    "ExecuteTime": {
     "end_time": "2024-01-25T00:55:47.312186792Z",
     "start_time": "2024-01-25T00:52:08.706921187Z"
    }
   }
  },
  {
   "cell_type": "code",
   "execution_count": 93,
   "outputs": [],
   "source": [
    "x = x[:len(bios_train_df)] # Nan are added to the last batch, let's remove them"
   ],
   "metadata": {
    "collapsed": false,
    "ExecuteTime": {
     "end_time": "2024-01-25T00:55:47.735497095Z",
     "start_time": "2024-01-25T00:55:47.694754597Z"
    }
   }
  },
  {
   "cell_type": "code",
   "execution_count": 56,
   "outputs": [
    {
     "name": "stderr",
     "output_type": "stream",
     "text": [
      "huggingface/tokenizers: The current process just got forked, after parallelism has already been used. Disabling parallelism to avoid deadlocks...\n",
      "To disable this warning, you can either:\n",
      "\t- Avoid using `tokenizers` before the fork if possible\n",
      "\t- Explicitly set the environment variable TOKENIZERS_PARALLELISM=(true | false)\n"
     ]
    },
    {
     "name": "stdout",
     "output_type": "stream",
     "text": [
      "Collecting POT\r\n",
      "  Downloading POT-0.9.3-cp310-cp310-manylinux_2_17_x86_64.manylinux2014_x86_64.whl.metadata (30 kB)\r\n",
      "Requirement already satisfied: numpy>=1.16 in /home/nlp/matan_avitan/mambaforge/envs/vec2text_inter/lib/python3.10/site-packages (from POT) (1.26.3)\r\n",
      "Requirement already satisfied: scipy>=1.6 in /home/nlp/matan_avitan/mambaforge/envs/vec2text_inter/lib/python3.10/site-packages (from POT) (1.11.4)\r\n",
      "Downloading POT-0.9.3-cp310-cp310-manylinux_2_17_x86_64.manylinux2014_x86_64.whl (823 kB)\r\n",
      "\u001B[2K   \u001B[90m━━━━━━━━━━━━━━━━━━━━━━━━━━━━━━━━━━━━━━━━\u001B[0m \u001B[32m823.0/823.0 kB\u001B[0m \u001B[31m3.7 MB/s\u001B[0m eta \u001B[36m0:00:00\u001B[0m00:01\u001B[0m00:01\u001B[0m\r\n",
      "\u001B[?25hInstalling collected packages: POT\r\n",
      "Successfully installed POT-0.9.3\r\n"
     ]
    }
   ],
   "source": [
    "!pip install POT"
   ],
   "metadata": {
    "collapsed": false,
    "ExecuteTime": {
     "end_time": "2024-01-24T17:15:19.824144617Z",
     "start_time": "2024-01-24T17:15:09.586188844Z"
    }
   }
  },
  {
   "cell_type": "code",
   "execution_count": 58,
   "outputs": [
    {
     "data": {
      "text/plain": "(255710,)"
     },
     "execution_count": 58,
     "metadata": {},
     "output_type": "execute_result"
    }
   ],
   "source": [
    "x.shape\n"
   ],
   "metadata": {
    "collapsed": false,
    "ExecuteTime": {
     "end_time": "2024-01-24T17:16:55.883494824Z",
     "start_time": "2024-01-24T17:16:55.877586960Z"
    }
   }
  },
  {
   "cell_type": "code",
   "execution_count": 65,
   "outputs": [
    {
     "data": {
      "text/plain": "(255710,)"
     },
     "execution_count": 65,
     "metadata": {},
     "output_type": "execute_result"
    }
   ],
   "source": [
    "z_train.shape"
   ],
   "metadata": {
    "collapsed": false,
    "ExecuteTime": {
     "end_time": "2024-01-24T17:18:43.216620928Z",
     "start_time": "2024-01-24T17:18:43.165078691Z"
    }
   }
  },
  {
   "cell_type": "code",
   "execution_count": 66,
   "outputs": [
    {
     "data": {
      "text/plain": "array([0, 1, 1, ..., 1, 1, 1])"
     },
     "execution_count": 66,
     "metadata": {},
     "output_type": "execute_result"
    }
   ],
   "source": [
    "z_train"
   ],
   "metadata": {
    "collapsed": false,
    "ExecuteTime": {
     "end_time": "2024-01-24T17:18:47.758464104Z",
     "start_time": "2024-01-24T17:18:47.749648129Z"
    }
   }
  },
  {
   "cell_type": "code",
   "execution_count": 73,
   "outputs": [
    {
     "data": {
      "text/plain": "(512, 768)"
     },
     "execution_count": 73,
     "metadata": {},
     "output_type": "execute_result"
    }
   ],
   "source": [
    "mean_source.shape"
   ],
   "metadata": {
    "collapsed": false,
    "ExecuteTime": {
     "end_time": "2024-01-24T17:19:42.823966396Z",
     "start_time": "2024-01-24T17:19:42.806852427Z"
    }
   }
  },
  {
   "cell_type": "code",
   "execution_count": 74,
   "outputs": [
    {
     "data": {
      "text/plain": "(117588,)"
     },
     "execution_count": 74,
     "metadata": {},
     "output_type": "execute_result"
    }
   ],
   "source": [
    "x_source.shape"
   ],
   "metadata": {
    "collapsed": false,
    "ExecuteTime": {
     "end_time": "2024-01-24T17:19:53.282118043Z",
     "start_time": "2024-01-24T17:19:53.275291157Z"
    }
   }
  },
  {
   "cell_type": "code",
   "execution_count": 80,
   "outputs": [
    {
     "data": {
      "text/plain": "array([array([[-0.0497366 , -0.00015856, -0.00924454, ..., -0.01336172,\n               -0.00856602,  0.01299139],\n              [-0.02049584,  0.023458  ,  0.00439336, ..., -0.03785922,\n                0.06920397,  0.01912325],\n              [-0.0175851 ,  0.01037407, -0.017476  , ..., -0.01886234,\n               -0.04385024, -0.01259412],\n              ...,\n              [-0.02673947,  0.03209867,  0.01383689, ..., -0.04575445,\n                0.03480659, -0.01481058],\n              [-0.0231976 ,  0.01479353, -0.01672669, ..., -0.01648185,\n               -0.01150068,  0.01943053],\n              [-0.03965582,  0.04591341, -0.02192282, ..., -0.03959581,\n                0.02463359,  0.02900159]], dtype=float32)              ,\n       array([[-0.01509149,  0.0214959 ,  0.02386822, ...,  0.00423233,\n               -0.0327222 , -0.01192302],\n              [-0.06285723,  0.02630466,  0.00207998, ..., -0.02741456,\n                0.02783123, -0.00455019],\n              [-0.03087803,  0.03436966,  0.03666638, ..., -0.02761826,\n                0.01682389, -0.03046431],\n              ...,\n              [-0.00340786,  0.01184561,  0.00224371, ..., -0.05795942,\n                0.03280833, -0.03485733],\n              [ 0.01473244,  0.01772542,  0.00617875, ..., -0.07633519,\n               -0.03431143, -0.03548634],\n              [-0.01395444,  0.03843683, -0.0003038 , ..., -0.02397382,\n               -0.0265214 ,  0.00114869]], dtype=float32)              ,\n       array([[-0.02663766,  0.01540578, -0.02376847, ..., -0.0534988 ,\n                0.06287141,  0.00772498],\n              [-0.02530311, -0.01864841, -0.01891796, ..., -0.02388119,\n               -0.05544133,  0.0685918 ],\n              [-0.08521182, -0.01563967,  0.01139715, ..., -0.00117986,\n               -0.00066921, -0.00039834],\n              ...,\n              [-0.05786364,  0.02015375, -0.00056777, ..., -0.02366084,\n                0.02709666, -0.04700836],\n              [-0.03888743,  0.01465544, -0.00808391, ...,  0.00090276,\n                0.04597852, -0.0299469 ],\n              [-0.01353143, -0.03013564, -0.01470696, ..., -0.05752822,\n               -0.00359091, -0.02266436]], dtype=float32)              ,\n       ..., nan, nan, nan], dtype=object)"
     },
     "execution_count": 80,
     "metadata": {},
     "output_type": "execute_result"
    }
   ],
   "source": [
    "x"
   ],
   "metadata": {
    "collapsed": false,
    "ExecuteTime": {
     "end_time": "2024-01-24T17:20:48.294360673Z",
     "start_time": "2024-01-24T17:20:48.289012530Z"
    }
   }
  },
  {
   "cell_type": "code",
   "execution_count": 87,
   "outputs": [
    {
     "data": {
      "text/plain": "(256209, 768)"
     },
     "execution_count": 87,
     "metadata": {},
     "output_type": "execute_result"
    }
   ],
   "source": [
    "x.shape"
   ],
   "metadata": {
    "collapsed": false,
    "ExecuteTime": {
     "end_time": "2024-01-25T00:50:19.729792758Z",
     "start_time": "2024-01-25T00:50:19.722997321Z"
    }
   }
  },
  {
   "cell_type": "code",
   "execution_count": 86,
   "outputs": [
    {
     "data": {
      "text/plain": "(255710,)"
     },
     "execution_count": 86,
     "metadata": {},
     "output_type": "execute_result"
    }
   ],
   "source": [
    "z_train.shape"
   ],
   "metadata": {
    "collapsed": false,
    "ExecuteTime": {
     "end_time": "2024-01-25T00:50:15.274674562Z",
     "start_time": "2024-01-25T00:50:15.267629750Z"
    }
   }
  },
  {
   "cell_type": "code",
   "execution_count": 94,
   "metadata": {
    "ExecuteTime": {
     "end_time": "2024-01-25T00:55:53.374654036Z",
     "start_time": "2024-01-25T00:55:47.735215607Z"
    }
   },
   "outputs": [],
   "source": [
    "import ot # !pip install POT\n",
    "\n",
    "\n",
    "# generate counterfactuals\n",
    "\n",
    "z_train = z_train[:len(x)]\n",
    "x_source = x[z_train==0]\n",
    "x_target = x[z_train==1]\n",
    "\n",
    "mean_source = np.mean(x_source, axis=0)\n",
    "mean_target = np.mean(x_target, axis=0)\n",
    "\n",
    "\n",
    "ot_linear = ot.da.LinearTransport(reg=1e-7)\n",
    "ot_linear.fit(Xs=x_source, Xt=x_target)\n",
    "train_x_transformed = x.copy()\n",
    "train_x_transformed[z_train==0] = ot_linear.transform(Xs=x_source) # optimal transport intervention\n",
    "#train_x_transformed[z_train==1] = train_x_transformed[z_train==0] + (mean_target - mean_source) # steering vector intervention\n"
   ]
  },
  {
   "cell_type": "markdown",
   "metadata": {},
   "source": []
  },
  {
   "cell_type": "code",
   "execution_count": 97,
   "outputs": [
    {
     "name": "stdout",
     "output_type": "stream",
     "text": [
      "Original:  She has been working with children in camp , community and school settings for the past 8 years . She believes in the importance of cultivating self - love and awareness in black children at a very young age and is excited to be apart of Black Lives Matter Toronto ’s Freedom School !\n",
      "Transformed:  ['She has worked with children in the community for the past 8 years and cultivating a sense of self-importance. She believes that she is developing camp']\n",
      "----------------\n",
      "Original:  He holds a PhD in Biosystems Engineering from University College Dublin ( Ireland ) . He previously held academic positions at University College Dublin ( Ireland ) , Dublin Institute of Technology ( Ireland ) and Harper Adams University ( UK ) . He was a PhD research assistant at Teagasc Irish Agriculture and Food Development Authority . His current research focus is on PLF applications , focussing on real - time modelling and control of animal bio - responses . Tomas started as daily coordinator of the EU - PLF project ( 2012 - 2016 ) and now coordinates 4 Ph.D. students and Masters students in PLF at M3-BIORES . He is PI and co - PI on collaborative National and International projects . He also coordinator of courses on Measuring , Modelling and Managing Bio - responses and Sustainable PLF , and Animal Production Engineering .\n",
      "Transformed:  ['He holds a PhD in Biosystems Engineering Dublin, Ireland. He did his PhD at University College London (UK) in Biosystems Engineering from']\n",
      "----------------\n",
      "Original:  John served as the Department Chair of Foley ’s national litigation department from 1986 to 1994 and as the Managing Partner of Foley ’s Milwaukee office from 1994 to 1999 . W hen he retired in 2005 , John was listed in The\n",
      "Transformed:  ['John served as the Department’s Foley partner from 1996 to 2001 and served as Chair of the Department’s Office of Corporate Compliance from 2001 to 2003']\n",
      "----------------\n",
      "Original:  She has more 20 years of experience in the field of Neurosurgery . Dr. Konstantia Stoforou is currently the Director at NeuroCure , Greece . Her clinical interest includes Neurosurgical Oncology of Brain , Spine , Skull Base , Endoscopic Pituitary Surgery and Skull Base , Microsurgery , Neuroendoscopy , Spinal Neuromodulation for Pain Surgery , Gamma Knife Radiation . In 2003 , she was co - author in two chapters in a book named \" Neoplasms - Cranial Base Tumors , \" \" Skull Base Surgery \" and extensively many publications in the field of Neurosurgery .\n",
      "Transformed:  ['she has over 40 years of experience in the field. Dr. Konstantin Suroostou is currently the Director of Neurosurgery for']\n",
      "----------------\n",
      "Original:  Over the years Ash has built an impressive fashion portfolio featuring work done for stylists , designers , magazines , and models . In the past decade , the photographer has also covered events such as parties , speeches , conferences , fundraisers , and many corporate events . Ash has embraced the opportunities offered by working in a city famed for its music and has developed skills in live music photography . His colorful pictures are delivered within 24 hours of the music event .\n",
      "Transformed:  ['Over the years, Ash has built a portfolio of impressive work in fashion, fashion shows, stylists and designers. In the past he had ']\n",
      "----------------\n",
      "Original:  Her primary research commitments focus on school - based strategies to promote active healthy lifestyles among children and youth . In particular , she works collaboratively with teachers , researchers , and community stakeholders to enhance students ’ physical activity behaviours and well - being through changes to school curricula , school policy , and school environments .\n",
      "Transformed:  ['Her research efforts focus on primary school commitments to healthy lifestyles, particularly those that encourage young people to engage in active sports and other activities. Her work']\n",
      "----------------\n",
      "Original:  She holds an MFA from the California College of the Arts , and has taught painting and drawing at many Bay Area institutions , including the San Francisco Art Institute , the California College of the Arts , the University of California Berkeley , and San Francisco State University . Her work is in both public and private collections , among them the Oakland Museum , the San Antonio Museum , and the Long Beach Museum of Art . She has been awarded artist ’s residencies at the Djerassi Ucross foundations in the United States , and the Delfina Studio Trust and Fundacion Valparaiso in Spain . Bovenzi ’s art has always used the natural world as a source for imagery . For the past ten years , she has spent summers in rural southern Colorado , where the landscape and the indigenous cultures have been a strong influence on her work .\n",
      "Transformed:  ['She holds an MFA in drawing and painting from the California College of the Arts and has taught at numerous institutions, including San Francisco, the Bay Area,']\n",
      "----------------\n",
      "Original:  At both Weskoppies Hospital in Pretoria and in his current practice he has worked with adults , couples and children . He may be reached at Intercare on 041 - 395 9600 or 082 564 1071 .\n",
      "Transformed:  ['at Wekopesplis Hospital in Pretoria and he has worked with both adults and children in his practice. As of 2018, he']\n",
      "----------------\n",
      "Original:  She holds a clinical license in social work from NJ where she lived and practiced social work for 11 years before moving to Washington State in 2016 to teach at EWU . She has earned her BSW and MSW from Sofia University \" St. Kliment Ohridski \" , Bulgaria and DSW in Clinical Social work from University of Pennsylvania . Rumyana ’s clinical and scholarly interests include women&#39;s reproductive rights and mental health , perinatal social work , trauma and grief , trauma - informed interventions and systems , and interdisciplinary studies and approach to holistic healthcare .\n",
      "Transformed:  ['She worked for 11 years before moving to Washington in 2016 to pursue a clinical teaching degree and holds a social work license from the State of Washington ']\n",
      "----------------\n",
      "Original:  The main research field lie in the area of image processing and analysis , pattern recognition and machine learning . Recently , he has participated 3 projects from National Science Foundation , several projects from 863 Hi - tech project , International Science and Technology Cooperation and National Science - technology support Plan . He has published more than 50 scientific papers in international or Chinese journals and conferences , and he obtained the first , second and third prizes of Hubei Science and Technology Progress Award , respectively . He received the title of National Excellent Courses for teaching Assembly language programming\n",
      "Transformed:  ['The main research area lies in the following fields: pattern recognition, image processing and machine learning. Currently, the team has participated in more than 2 ']\n",
      "----------------\n",
      "Original:  Her work focuses on the politics of representation and resistance from an intersectional perspective . She ’s most interested in surreal , realist , genre - bending filmmaking .\n",
      "Transformed:  ['Her work focuses on intersectionalism and political realism. She is most interested in the representational and surrealist sides of resistance to re']\n",
      "----------------\n",
      "Original:  He has lectured nationally on surgery and diabetic care , and was a speaker at the largest podiatric medical conference in the world . Dr. McLean has taught at two different medical schools , both in the department of surgery . Board certified in wound care , McLean utilizes a revolutionary treatment for wound healing , which is also used to treat neuropathy , the nerve problem developed by many diabetics .\n"
     ]
    },
    {
     "ename": "KeyboardInterrupt",
     "evalue": "",
     "output_type": "error",
     "traceback": [
      "\u001B[0;31m---------------------------------------------------------------------------\u001B[0m",
      "\u001B[0;31mKeyboardInterrupt\u001B[0m                         Traceback (most recent call last)",
      "Cell \u001B[0;32mIn[97], line 3\u001B[0m\n\u001B[1;32m      1\u001B[0m \u001B[38;5;28;01mfor\u001B[39;00m i \u001B[38;5;129;01min\u001B[39;00m \u001B[38;5;28mrange\u001B[39m(\u001B[38;5;241m30\u001B[39m):\n\u001B[1;32m      2\u001B[0m     \u001B[38;5;28mprint\u001B[39m(\u001B[38;5;124m\"\u001B[39m\u001B[38;5;124mOriginal: \u001B[39m\u001B[38;5;124m\"\u001B[39m, bios_train_df\u001B[38;5;241m.\u001B[39mloc[i, \u001B[38;5;124m'\u001B[39m\u001B[38;5;124mhard_text\u001B[39m\u001B[38;5;124m'\u001B[39m])\n\u001B[0;32m----> 3\u001B[0m     \u001B[38;5;28mprint\u001B[39m(\u001B[38;5;124m\"\u001B[39m\u001B[38;5;124mTransformed: \u001B[39m\u001B[38;5;124m\"\u001B[39m, \u001B[43mvec2text\u001B[49m\u001B[38;5;241;43m.\u001B[39;49m\u001B[43minvert_embeddings\u001B[49m\u001B[43m(\u001B[49m\u001B[43mtorch\u001B[49m\u001B[38;5;241;43m.\u001B[39;49m\u001B[43mtensor\u001B[49m\u001B[43m(\u001B[49m\u001B[43mtrain_x_transformed\u001B[49m\u001B[43m[\u001B[49m\u001B[43mi\u001B[49m\u001B[43m]\u001B[49m\u001B[43m)\u001B[49m\u001B[38;5;241;43m.\u001B[39;49m\u001B[43munsqueeze\u001B[49m\u001B[43m(\u001B[49m\u001B[38;5;241;43m0\u001B[39;49m\u001B[43m)\u001B[49m\u001B[38;5;241;43m.\u001B[39;49m\u001B[43mcuda\u001B[49m\u001B[43m(\u001B[49m\u001B[43m)\u001B[49m\u001B[38;5;241;43m.\u001B[39;49m\u001B[43mfloat\u001B[49m\u001B[43m(\u001B[49m\u001B[43m)\u001B[49m\u001B[43m,\u001B[49m\u001B[43m \u001B[49m\u001B[43mcorrector\u001B[49m\u001B[38;5;241;43m=\u001B[39;49m\u001B[43mcorrector\u001B[49m\u001B[43m)\u001B[49m)\n\u001B[1;32m      4\u001B[0m     \u001B[38;5;28mprint\u001B[39m(\u001B[38;5;124m\"\u001B[39m\u001B[38;5;124m----------------\u001B[39m\u001B[38;5;124m\"\u001B[39m)\n",
      "File \u001B[0;32m~/git/vec2text_inter/vec2text/api.py:81\u001B[0m, in \u001B[0;36minvert_embeddings\u001B[0;34m(embeddings, corrector, num_steps, sequence_beam_width)\u001B[0m\n\u001B[1;32m     76\u001B[0m \u001B[38;5;28;01mif\u001B[39;00m num_steps \u001B[38;5;129;01mis\u001B[39;00m \u001B[38;5;28;01mNone\u001B[39;00m:\n\u001B[1;32m     77\u001B[0m     \u001B[38;5;28;01massert\u001B[39;00m (\n\u001B[1;32m     78\u001B[0m         sequence_beam_width \u001B[38;5;241m==\u001B[39m \u001B[38;5;241m0\u001B[39m\n\u001B[1;32m     79\u001B[0m     ), \u001B[38;5;124m\"\u001B[39m\u001B[38;5;124mcan\u001B[39m\u001B[38;5;124m'\u001B[39m\u001B[38;5;124mt set a nonzero beam width without multiple steps\u001B[39m\u001B[38;5;124m\"\u001B[39m\n\u001B[0;32m---> 81\u001B[0m     regenerated \u001B[38;5;241m=\u001B[39m \u001B[43mcorrector\u001B[49m\u001B[38;5;241;43m.\u001B[39;49m\u001B[43minversion_trainer\u001B[49m\u001B[38;5;241;43m.\u001B[39;49m\u001B[43mgenerate\u001B[49m\u001B[43m(\u001B[49m\n\u001B[1;32m     82\u001B[0m \u001B[43m        \u001B[49m\u001B[43minputs\u001B[49m\u001B[38;5;241;43m=\u001B[39;49m\u001B[43m{\u001B[49m\n\u001B[1;32m     83\u001B[0m \u001B[43m            \u001B[49m\u001B[38;5;124;43m\"\u001B[39;49m\u001B[38;5;124;43mfrozen_embeddings\u001B[39;49m\u001B[38;5;124;43m\"\u001B[39;49m\u001B[43m:\u001B[49m\u001B[43m \u001B[49m\u001B[43membeddings\u001B[49m\u001B[43m,\u001B[49m\n\u001B[1;32m     84\u001B[0m \u001B[43m        \u001B[49m\u001B[43m}\u001B[49m\u001B[43m,\u001B[49m\n\u001B[1;32m     85\u001B[0m \u001B[43m        \u001B[49m\u001B[43mgeneration_kwargs\u001B[49m\u001B[38;5;241;43m=\u001B[39;49m\u001B[43mgen_kwargs\u001B[49m\u001B[43m,\u001B[49m\n\u001B[1;32m     86\u001B[0m \u001B[43m    \u001B[49m\u001B[43m)\u001B[49m\n\u001B[1;32m     87\u001B[0m \u001B[38;5;28;01melse\u001B[39;00m:\n\u001B[1;32m     88\u001B[0m     corrector\u001B[38;5;241m.\u001B[39mreturn_best_hypothesis \u001B[38;5;241m=\u001B[39m sequence_beam_width \u001B[38;5;241m>\u001B[39m \u001B[38;5;241m0\u001B[39m\n",
      "File \u001B[0;32m~/git/vec2text_inter/vec2text/trainers/inversion.py:21\u001B[0m, in \u001B[0;36mInversionTrainer.generate\u001B[0;34m(self, inputs, generation_kwargs)\u001B[0m\n\u001B[1;32m     20\u001B[0m \u001B[38;5;28;01mdef\u001B[39;00m \u001B[38;5;21mgenerate\u001B[39m(\u001B[38;5;28mself\u001B[39m, inputs: Dict, generation_kwargs: Dict) \u001B[38;5;241m-\u001B[39m\u001B[38;5;241m>\u001B[39m torch\u001B[38;5;241m.\u001B[39mTensor:\n\u001B[0;32m---> 21\u001B[0m     \u001B[38;5;28;01mreturn\u001B[39;00m \u001B[38;5;28;43mself\u001B[39;49m\u001B[38;5;241;43m.\u001B[39;49m\u001B[43mmodel\u001B[49m\u001B[38;5;241;43m.\u001B[39;49m\u001B[43mgenerate\u001B[49m\u001B[43m(\u001B[49m\u001B[43minputs\u001B[49m\u001B[38;5;241;43m=\u001B[39;49m\u001B[43minputs\u001B[49m\u001B[43m,\u001B[49m\u001B[43m \u001B[49m\u001B[43mgeneration_kwargs\u001B[49m\u001B[38;5;241;43m=\u001B[39;49m\u001B[43mgeneration_kwargs\u001B[49m\u001B[43m)\u001B[49m\n",
      "File \u001B[0;32m~/git/vec2text_inter/vec2text/models/inversion.py:274\u001B[0m, in \u001B[0;36mInversionModel.generate\u001B[0;34m(self, inputs, generation_kwargs)\u001B[0m\n\u001B[1;32m    262\u001B[0m     \u001B[38;5;28;01mreturn\u001B[39;00m \u001B[38;5;28mself\u001B[39m\u001B[38;5;241m.\u001B[39mencoder_decoder\u001B[38;5;241m.\u001B[39mgenerate(\n\u001B[1;32m    263\u001B[0m         \u001B[38;5;66;03m# required: input embeddings\u001B[39;00m\n\u001B[1;32m    264\u001B[0m         inputs_embeds\u001B[38;5;241m=\u001B[39minputs_embeds,\n\u001B[0;32m   (...)\u001B[0m\n\u001B[1;32m    271\u001B[0m         \u001B[38;5;241m*\u001B[39m\u001B[38;5;241m*\u001B[39mgeneration_kwargs,\n\u001B[1;32m    272\u001B[0m     )\n\u001B[1;32m    273\u001B[0m \u001B[38;5;28;01melse\u001B[39;00m:\n\u001B[0;32m--> 274\u001B[0m     \u001B[38;5;28;01mreturn\u001B[39;00m \u001B[38;5;28;43mself\u001B[39;49m\u001B[38;5;241;43m.\u001B[39;49m\u001B[43mencoder_decoder\u001B[49m\u001B[38;5;241;43m.\u001B[39;49m\u001B[43mgenerate\u001B[49m\u001B[43m(\u001B[49m\n\u001B[1;32m    275\u001B[0m \u001B[43m        \u001B[49m\u001B[38;5;66;43;03m# required: input embeddings\u001B[39;49;00m\n\u001B[1;32m    276\u001B[0m \u001B[43m        \u001B[49m\u001B[43minputs_embeds\u001B[49m\u001B[38;5;241;43m=\u001B[39;49m\u001B[43minputs_embeds\u001B[49m\u001B[43m,\u001B[49m\n\u001B[1;32m    277\u001B[0m \u001B[43m        \u001B[49m\u001B[43mattention_mask\u001B[49m\u001B[38;5;241;43m=\u001B[39;49m\u001B[43mattention_mask\u001B[49m\u001B[43m,\u001B[49m\n\u001B[1;32m    278\u001B[0m \u001B[43m        \u001B[49m\u001B[38;5;66;43;03m# optional: input IDs (for starting generation).\u001B[39;49;00m\n\u001B[1;32m    279\u001B[0m \u001B[43m        \u001B[49m\u001B[38;5;66;43;03m# typically not set unless generating prefixes for\u001B[39;49;00m\n\u001B[1;32m    280\u001B[0m \u001B[43m        \u001B[49m\u001B[38;5;66;43;03m# reranking.\u001B[39;49;00m\n\u001B[1;32m    281\u001B[0m \u001B[43m        \u001B[49m\u001B[38;5;241;43m*\u001B[39;49m\u001B[38;5;241;43m*\u001B[39;49m\u001B[43mgeneration_kwargs\u001B[49m\u001B[43m,\u001B[49m\n\u001B[1;32m    282\u001B[0m \u001B[43m    \u001B[49m\u001B[43m)\u001B[49m\n",
      "File \u001B[0;32m~/mambaforge/envs/vec2text_inter/lib/python3.10/site-packages/torch/utils/_contextlib.py:115\u001B[0m, in \u001B[0;36mcontext_decorator.<locals>.decorate_context\u001B[0;34m(*args, **kwargs)\u001B[0m\n\u001B[1;32m    112\u001B[0m \u001B[38;5;129m@functools\u001B[39m\u001B[38;5;241m.\u001B[39mwraps(func)\n\u001B[1;32m    113\u001B[0m \u001B[38;5;28;01mdef\u001B[39;00m \u001B[38;5;21mdecorate_context\u001B[39m(\u001B[38;5;241m*\u001B[39margs, \u001B[38;5;241m*\u001B[39m\u001B[38;5;241m*\u001B[39mkwargs):\n\u001B[1;32m    114\u001B[0m     \u001B[38;5;28;01mwith\u001B[39;00m ctx_factory():\n\u001B[0;32m--> 115\u001B[0m         \u001B[38;5;28;01mreturn\u001B[39;00m \u001B[43mfunc\u001B[49m\u001B[43m(\u001B[49m\u001B[38;5;241;43m*\u001B[39;49m\u001B[43margs\u001B[49m\u001B[43m,\u001B[49m\u001B[43m \u001B[49m\u001B[38;5;241;43m*\u001B[39;49m\u001B[38;5;241;43m*\u001B[39;49m\u001B[43mkwargs\u001B[49m\u001B[43m)\u001B[49m\n",
      "File \u001B[0;32m~/mambaforge/envs/vec2text_inter/lib/python3.10/site-packages/transformers/generation/utils.py:1673\u001B[0m, in \u001B[0;36mGenerationMixin.generate\u001B[0;34m(self, inputs, generation_config, logits_processor, stopping_criteria, prefix_allowed_tokens_fn, synced_gpus, assistant_model, streamer, negative_prompt_ids, negative_prompt_attention_mask, **kwargs)\u001B[0m\n\u001B[1;32m   1656\u001B[0m     \u001B[38;5;28;01mreturn\u001B[39;00m \u001B[38;5;28mself\u001B[39m\u001B[38;5;241m.\u001B[39massisted_decoding(\n\u001B[1;32m   1657\u001B[0m         input_ids,\n\u001B[1;32m   1658\u001B[0m         assistant_model\u001B[38;5;241m=\u001B[39massistant_model,\n\u001B[0;32m   (...)\u001B[0m\n\u001B[1;32m   1669\u001B[0m         \u001B[38;5;241m*\u001B[39m\u001B[38;5;241m*\u001B[39mmodel_kwargs,\n\u001B[1;32m   1670\u001B[0m     )\n\u001B[1;32m   1671\u001B[0m \u001B[38;5;28;01mif\u001B[39;00m generation_mode \u001B[38;5;241m==\u001B[39m GenerationMode\u001B[38;5;241m.\u001B[39mGREEDY_SEARCH:\n\u001B[1;32m   1672\u001B[0m     \u001B[38;5;66;03m# 11. run greedy search\u001B[39;00m\n\u001B[0;32m-> 1673\u001B[0m     \u001B[38;5;28;01mreturn\u001B[39;00m \u001B[38;5;28;43mself\u001B[39;49m\u001B[38;5;241;43m.\u001B[39;49m\u001B[43mgreedy_search\u001B[49m\u001B[43m(\u001B[49m\n\u001B[1;32m   1674\u001B[0m \u001B[43m        \u001B[49m\u001B[43minput_ids\u001B[49m\u001B[43m,\u001B[49m\n\u001B[1;32m   1675\u001B[0m \u001B[43m        \u001B[49m\u001B[43mlogits_processor\u001B[49m\u001B[38;5;241;43m=\u001B[39;49m\u001B[43mlogits_processor\u001B[49m\u001B[43m,\u001B[49m\n\u001B[1;32m   1676\u001B[0m \u001B[43m        \u001B[49m\u001B[43mstopping_criteria\u001B[49m\u001B[38;5;241;43m=\u001B[39;49m\u001B[43mstopping_criteria\u001B[49m\u001B[43m,\u001B[49m\n\u001B[1;32m   1677\u001B[0m \u001B[43m        \u001B[49m\u001B[43mpad_token_id\u001B[49m\u001B[38;5;241;43m=\u001B[39;49m\u001B[43mgeneration_config\u001B[49m\u001B[38;5;241;43m.\u001B[39;49m\u001B[43mpad_token_id\u001B[49m\u001B[43m,\u001B[49m\n\u001B[1;32m   1678\u001B[0m \u001B[43m        \u001B[49m\u001B[43meos_token_id\u001B[49m\u001B[38;5;241;43m=\u001B[39;49m\u001B[43mgeneration_config\u001B[49m\u001B[38;5;241;43m.\u001B[39;49m\u001B[43meos_token_id\u001B[49m\u001B[43m,\u001B[49m\n\u001B[1;32m   1679\u001B[0m \u001B[43m        \u001B[49m\u001B[43moutput_scores\u001B[49m\u001B[38;5;241;43m=\u001B[39;49m\u001B[43mgeneration_config\u001B[49m\u001B[38;5;241;43m.\u001B[39;49m\u001B[43moutput_scores\u001B[49m\u001B[43m,\u001B[49m\n\u001B[1;32m   1680\u001B[0m \u001B[43m        \u001B[49m\u001B[43mreturn_dict_in_generate\u001B[49m\u001B[38;5;241;43m=\u001B[39;49m\u001B[43mgeneration_config\u001B[49m\u001B[38;5;241;43m.\u001B[39;49m\u001B[43mreturn_dict_in_generate\u001B[49m\u001B[43m,\u001B[49m\n\u001B[1;32m   1681\u001B[0m \u001B[43m        \u001B[49m\u001B[43msynced_gpus\u001B[49m\u001B[38;5;241;43m=\u001B[39;49m\u001B[43msynced_gpus\u001B[49m\u001B[43m,\u001B[49m\n\u001B[1;32m   1682\u001B[0m \u001B[43m        \u001B[49m\u001B[43mstreamer\u001B[49m\u001B[38;5;241;43m=\u001B[39;49m\u001B[43mstreamer\u001B[49m\u001B[43m,\u001B[49m\n\u001B[1;32m   1683\u001B[0m \u001B[43m        \u001B[49m\u001B[38;5;241;43m*\u001B[39;49m\u001B[38;5;241;43m*\u001B[39;49m\u001B[43mmodel_kwargs\u001B[49m\u001B[43m,\u001B[49m\n\u001B[1;32m   1684\u001B[0m \u001B[43m    \u001B[49m\u001B[43m)\u001B[49m\n\u001B[1;32m   1686\u001B[0m \u001B[38;5;28;01melif\u001B[39;00m generation_mode \u001B[38;5;241m==\u001B[39m GenerationMode\u001B[38;5;241m.\u001B[39mCONTRASTIVE_SEARCH:\n\u001B[1;32m   1687\u001B[0m     \u001B[38;5;28;01mif\u001B[39;00m \u001B[38;5;129;01mnot\u001B[39;00m model_kwargs[\u001B[38;5;124m\"\u001B[39m\u001B[38;5;124muse_cache\u001B[39m\u001B[38;5;124m\"\u001B[39m]:\n",
      "File \u001B[0;32m~/mambaforge/envs/vec2text_inter/lib/python3.10/site-packages/transformers/generation/utils.py:2521\u001B[0m, in \u001B[0;36mGenerationMixin.greedy_search\u001B[0;34m(self, input_ids, logits_processor, stopping_criteria, max_length, pad_token_id, eos_token_id, output_attentions, output_hidden_states, output_scores, return_dict_in_generate, synced_gpus, streamer, **model_kwargs)\u001B[0m\n\u001B[1;32m   2518\u001B[0m model_inputs \u001B[38;5;241m=\u001B[39m \u001B[38;5;28mself\u001B[39m\u001B[38;5;241m.\u001B[39mprepare_inputs_for_generation(input_ids, \u001B[38;5;241m*\u001B[39m\u001B[38;5;241m*\u001B[39mmodel_kwargs)\n\u001B[1;32m   2520\u001B[0m \u001B[38;5;66;03m# forward pass to get next token\u001B[39;00m\n\u001B[0;32m-> 2521\u001B[0m outputs \u001B[38;5;241m=\u001B[39m \u001B[38;5;28;43mself\u001B[39;49m\u001B[43m(\u001B[49m\n\u001B[1;32m   2522\u001B[0m \u001B[43m    \u001B[49m\u001B[38;5;241;43m*\u001B[39;49m\u001B[38;5;241;43m*\u001B[39;49m\u001B[43mmodel_inputs\u001B[49m\u001B[43m,\u001B[49m\n\u001B[1;32m   2523\u001B[0m \u001B[43m    \u001B[49m\u001B[43mreturn_dict\u001B[49m\u001B[38;5;241;43m=\u001B[39;49m\u001B[38;5;28;43;01mTrue\u001B[39;49;00m\u001B[43m,\u001B[49m\n\u001B[1;32m   2524\u001B[0m \u001B[43m    \u001B[49m\u001B[43moutput_attentions\u001B[49m\u001B[38;5;241;43m=\u001B[39;49m\u001B[43moutput_attentions\u001B[49m\u001B[43m,\u001B[49m\n\u001B[1;32m   2525\u001B[0m \u001B[43m    \u001B[49m\u001B[43moutput_hidden_states\u001B[49m\u001B[38;5;241;43m=\u001B[39;49m\u001B[43moutput_hidden_states\u001B[49m\u001B[43m,\u001B[49m\n\u001B[1;32m   2526\u001B[0m \u001B[43m\u001B[49m\u001B[43m)\u001B[49m\n\u001B[1;32m   2528\u001B[0m \u001B[38;5;28;01mif\u001B[39;00m synced_gpus \u001B[38;5;129;01mand\u001B[39;00m this_peer_finished:\n\u001B[1;32m   2529\u001B[0m     \u001B[38;5;28;01mcontinue\u001B[39;00m  \u001B[38;5;66;03m# don't waste resources running the code we don't need\u001B[39;00m\n",
      "File \u001B[0;32m~/mambaforge/envs/vec2text_inter/lib/python3.10/site-packages/torch/nn/modules/module.py:1518\u001B[0m, in \u001B[0;36mModule._wrapped_call_impl\u001B[0;34m(self, *args, **kwargs)\u001B[0m\n\u001B[1;32m   1516\u001B[0m     \u001B[38;5;28;01mreturn\u001B[39;00m \u001B[38;5;28mself\u001B[39m\u001B[38;5;241m.\u001B[39m_compiled_call_impl(\u001B[38;5;241m*\u001B[39margs, \u001B[38;5;241m*\u001B[39m\u001B[38;5;241m*\u001B[39mkwargs)  \u001B[38;5;66;03m# type: ignore[misc]\u001B[39;00m\n\u001B[1;32m   1517\u001B[0m \u001B[38;5;28;01melse\u001B[39;00m:\n\u001B[0;32m-> 1518\u001B[0m     \u001B[38;5;28;01mreturn\u001B[39;00m \u001B[38;5;28;43mself\u001B[39;49m\u001B[38;5;241;43m.\u001B[39;49m\u001B[43m_call_impl\u001B[49m\u001B[43m(\u001B[49m\u001B[38;5;241;43m*\u001B[39;49m\u001B[43margs\u001B[49m\u001B[43m,\u001B[49m\u001B[43m \u001B[49m\u001B[38;5;241;43m*\u001B[39;49m\u001B[38;5;241;43m*\u001B[39;49m\u001B[43mkwargs\u001B[49m\u001B[43m)\u001B[49m\n",
      "File \u001B[0;32m~/mambaforge/envs/vec2text_inter/lib/python3.10/site-packages/torch/nn/modules/module.py:1527\u001B[0m, in \u001B[0;36mModule._call_impl\u001B[0;34m(self, *args, **kwargs)\u001B[0m\n\u001B[1;32m   1522\u001B[0m \u001B[38;5;66;03m# If we don't have any hooks, we want to skip the rest of the logic in\u001B[39;00m\n\u001B[1;32m   1523\u001B[0m \u001B[38;5;66;03m# this function, and just call forward.\u001B[39;00m\n\u001B[1;32m   1524\u001B[0m \u001B[38;5;28;01mif\u001B[39;00m \u001B[38;5;129;01mnot\u001B[39;00m (\u001B[38;5;28mself\u001B[39m\u001B[38;5;241m.\u001B[39m_backward_hooks \u001B[38;5;129;01mor\u001B[39;00m \u001B[38;5;28mself\u001B[39m\u001B[38;5;241m.\u001B[39m_backward_pre_hooks \u001B[38;5;129;01mor\u001B[39;00m \u001B[38;5;28mself\u001B[39m\u001B[38;5;241m.\u001B[39m_forward_hooks \u001B[38;5;129;01mor\u001B[39;00m \u001B[38;5;28mself\u001B[39m\u001B[38;5;241m.\u001B[39m_forward_pre_hooks\n\u001B[1;32m   1525\u001B[0m         \u001B[38;5;129;01mor\u001B[39;00m _global_backward_pre_hooks \u001B[38;5;129;01mor\u001B[39;00m _global_backward_hooks\n\u001B[1;32m   1526\u001B[0m         \u001B[38;5;129;01mor\u001B[39;00m _global_forward_hooks \u001B[38;5;129;01mor\u001B[39;00m _global_forward_pre_hooks):\n\u001B[0;32m-> 1527\u001B[0m     \u001B[38;5;28;01mreturn\u001B[39;00m \u001B[43mforward_call\u001B[49m\u001B[43m(\u001B[49m\u001B[38;5;241;43m*\u001B[39;49m\u001B[43margs\u001B[49m\u001B[43m,\u001B[49m\u001B[43m \u001B[49m\u001B[38;5;241;43m*\u001B[39;49m\u001B[38;5;241;43m*\u001B[39;49m\u001B[43mkwargs\u001B[49m\u001B[43m)\u001B[49m\n\u001B[1;32m   1529\u001B[0m \u001B[38;5;28;01mtry\u001B[39;00m:\n\u001B[1;32m   1530\u001B[0m     result \u001B[38;5;241m=\u001B[39m \u001B[38;5;28;01mNone\u001B[39;00m\n",
      "File \u001B[0;32m~/mambaforge/envs/vec2text_inter/lib/python3.10/site-packages/transformers/models/t5/modeling_t5.py:1746\u001B[0m, in \u001B[0;36mT5ForConditionalGeneration.forward\u001B[0;34m(self, input_ids, attention_mask, decoder_input_ids, decoder_attention_mask, head_mask, decoder_head_mask, cross_attn_head_mask, encoder_outputs, past_key_values, inputs_embeds, decoder_inputs_embeds, labels, use_cache, output_attentions, output_hidden_states, return_dict)\u001B[0m\n\u001B[1;32m   1743\u001B[0m         decoder_attention_mask \u001B[38;5;241m=\u001B[39m decoder_attention_mask\u001B[38;5;241m.\u001B[39mto(\u001B[38;5;28mself\u001B[39m\u001B[38;5;241m.\u001B[39mdecoder\u001B[38;5;241m.\u001B[39mfirst_device)\n\u001B[1;32m   1745\u001B[0m \u001B[38;5;66;03m# Decode\u001B[39;00m\n\u001B[0;32m-> 1746\u001B[0m decoder_outputs \u001B[38;5;241m=\u001B[39m \u001B[38;5;28;43mself\u001B[39;49m\u001B[38;5;241;43m.\u001B[39;49m\u001B[43mdecoder\u001B[49m\u001B[43m(\u001B[49m\n\u001B[1;32m   1747\u001B[0m \u001B[43m    \u001B[49m\u001B[43minput_ids\u001B[49m\u001B[38;5;241;43m=\u001B[39;49m\u001B[43mdecoder_input_ids\u001B[49m\u001B[43m,\u001B[49m\n\u001B[1;32m   1748\u001B[0m \u001B[43m    \u001B[49m\u001B[43mattention_mask\u001B[49m\u001B[38;5;241;43m=\u001B[39;49m\u001B[43mdecoder_attention_mask\u001B[49m\u001B[43m,\u001B[49m\n\u001B[1;32m   1749\u001B[0m \u001B[43m    \u001B[49m\u001B[43minputs_embeds\u001B[49m\u001B[38;5;241;43m=\u001B[39;49m\u001B[43mdecoder_inputs_embeds\u001B[49m\u001B[43m,\u001B[49m\n\u001B[1;32m   1750\u001B[0m \u001B[43m    \u001B[49m\u001B[43mpast_key_values\u001B[49m\u001B[38;5;241;43m=\u001B[39;49m\u001B[43mpast_key_values\u001B[49m\u001B[43m,\u001B[49m\n\u001B[1;32m   1751\u001B[0m \u001B[43m    \u001B[49m\u001B[43mencoder_hidden_states\u001B[49m\u001B[38;5;241;43m=\u001B[39;49m\u001B[43mhidden_states\u001B[49m\u001B[43m,\u001B[49m\n\u001B[1;32m   1752\u001B[0m \u001B[43m    \u001B[49m\u001B[43mencoder_attention_mask\u001B[49m\u001B[38;5;241;43m=\u001B[39;49m\u001B[43mattention_mask\u001B[49m\u001B[43m,\u001B[49m\n\u001B[1;32m   1753\u001B[0m \u001B[43m    \u001B[49m\u001B[43mhead_mask\u001B[49m\u001B[38;5;241;43m=\u001B[39;49m\u001B[43mdecoder_head_mask\u001B[49m\u001B[43m,\u001B[49m\n\u001B[1;32m   1754\u001B[0m \u001B[43m    \u001B[49m\u001B[43mcross_attn_head_mask\u001B[49m\u001B[38;5;241;43m=\u001B[39;49m\u001B[43mcross_attn_head_mask\u001B[49m\u001B[43m,\u001B[49m\n\u001B[1;32m   1755\u001B[0m \u001B[43m    \u001B[49m\u001B[43muse_cache\u001B[49m\u001B[38;5;241;43m=\u001B[39;49m\u001B[43muse_cache\u001B[49m\u001B[43m,\u001B[49m\n\u001B[1;32m   1756\u001B[0m \u001B[43m    \u001B[49m\u001B[43moutput_attentions\u001B[49m\u001B[38;5;241;43m=\u001B[39;49m\u001B[43moutput_attentions\u001B[49m\u001B[43m,\u001B[49m\n\u001B[1;32m   1757\u001B[0m \u001B[43m    \u001B[49m\u001B[43moutput_hidden_states\u001B[49m\u001B[38;5;241;43m=\u001B[39;49m\u001B[43moutput_hidden_states\u001B[49m\u001B[43m,\u001B[49m\n\u001B[1;32m   1758\u001B[0m \u001B[43m    \u001B[49m\u001B[43mreturn_dict\u001B[49m\u001B[38;5;241;43m=\u001B[39;49m\u001B[43mreturn_dict\u001B[49m\u001B[43m,\u001B[49m\n\u001B[1;32m   1759\u001B[0m \u001B[43m\u001B[49m\u001B[43m)\u001B[49m\n\u001B[1;32m   1761\u001B[0m sequence_output \u001B[38;5;241m=\u001B[39m decoder_outputs[\u001B[38;5;241m0\u001B[39m]\n\u001B[1;32m   1763\u001B[0m \u001B[38;5;66;03m# Set device for model parallelism\u001B[39;00m\n",
      "File \u001B[0;32m~/mambaforge/envs/vec2text_inter/lib/python3.10/site-packages/torch/nn/modules/module.py:1518\u001B[0m, in \u001B[0;36mModule._wrapped_call_impl\u001B[0;34m(self, *args, **kwargs)\u001B[0m\n\u001B[1;32m   1516\u001B[0m     \u001B[38;5;28;01mreturn\u001B[39;00m \u001B[38;5;28mself\u001B[39m\u001B[38;5;241m.\u001B[39m_compiled_call_impl(\u001B[38;5;241m*\u001B[39margs, \u001B[38;5;241m*\u001B[39m\u001B[38;5;241m*\u001B[39mkwargs)  \u001B[38;5;66;03m# type: ignore[misc]\u001B[39;00m\n\u001B[1;32m   1517\u001B[0m \u001B[38;5;28;01melse\u001B[39;00m:\n\u001B[0;32m-> 1518\u001B[0m     \u001B[38;5;28;01mreturn\u001B[39;00m \u001B[38;5;28;43mself\u001B[39;49m\u001B[38;5;241;43m.\u001B[39;49m\u001B[43m_call_impl\u001B[49m\u001B[43m(\u001B[49m\u001B[38;5;241;43m*\u001B[39;49m\u001B[43margs\u001B[49m\u001B[43m,\u001B[49m\u001B[43m \u001B[49m\u001B[38;5;241;43m*\u001B[39;49m\u001B[38;5;241;43m*\u001B[39;49m\u001B[43mkwargs\u001B[49m\u001B[43m)\u001B[49m\n",
      "File \u001B[0;32m~/mambaforge/envs/vec2text_inter/lib/python3.10/site-packages/torch/nn/modules/module.py:1527\u001B[0m, in \u001B[0;36mModule._call_impl\u001B[0;34m(self, *args, **kwargs)\u001B[0m\n\u001B[1;32m   1522\u001B[0m \u001B[38;5;66;03m# If we don't have any hooks, we want to skip the rest of the logic in\u001B[39;00m\n\u001B[1;32m   1523\u001B[0m \u001B[38;5;66;03m# this function, and just call forward.\u001B[39;00m\n\u001B[1;32m   1524\u001B[0m \u001B[38;5;28;01mif\u001B[39;00m \u001B[38;5;129;01mnot\u001B[39;00m (\u001B[38;5;28mself\u001B[39m\u001B[38;5;241m.\u001B[39m_backward_hooks \u001B[38;5;129;01mor\u001B[39;00m \u001B[38;5;28mself\u001B[39m\u001B[38;5;241m.\u001B[39m_backward_pre_hooks \u001B[38;5;129;01mor\u001B[39;00m \u001B[38;5;28mself\u001B[39m\u001B[38;5;241m.\u001B[39m_forward_hooks \u001B[38;5;129;01mor\u001B[39;00m \u001B[38;5;28mself\u001B[39m\u001B[38;5;241m.\u001B[39m_forward_pre_hooks\n\u001B[1;32m   1525\u001B[0m         \u001B[38;5;129;01mor\u001B[39;00m _global_backward_pre_hooks \u001B[38;5;129;01mor\u001B[39;00m _global_backward_hooks\n\u001B[1;32m   1526\u001B[0m         \u001B[38;5;129;01mor\u001B[39;00m _global_forward_hooks \u001B[38;5;129;01mor\u001B[39;00m _global_forward_pre_hooks):\n\u001B[0;32m-> 1527\u001B[0m     \u001B[38;5;28;01mreturn\u001B[39;00m \u001B[43mforward_call\u001B[49m\u001B[43m(\u001B[49m\u001B[38;5;241;43m*\u001B[39;49m\u001B[43margs\u001B[49m\u001B[43m,\u001B[49m\u001B[43m \u001B[49m\u001B[38;5;241;43m*\u001B[39;49m\u001B[38;5;241;43m*\u001B[39;49m\u001B[43mkwargs\u001B[49m\u001B[43m)\u001B[49m\n\u001B[1;32m   1529\u001B[0m \u001B[38;5;28;01mtry\u001B[39;00m:\n\u001B[1;32m   1530\u001B[0m     result \u001B[38;5;241m=\u001B[39m \u001B[38;5;28;01mNone\u001B[39;00m\n",
      "File \u001B[0;32m~/mambaforge/envs/vec2text_inter/lib/python3.10/site-packages/transformers/models/t5/modeling_t5.py:1113\u001B[0m, in \u001B[0;36mT5Stack.forward\u001B[0;34m(self, input_ids, attention_mask, encoder_hidden_states, encoder_attention_mask, inputs_embeds, head_mask, cross_attn_head_mask, past_key_values, use_cache, output_attentions, output_hidden_states, return_dict)\u001B[0m\n\u001B[1;32m   1098\u001B[0m     layer_outputs \u001B[38;5;241m=\u001B[39m \u001B[38;5;28mself\u001B[39m\u001B[38;5;241m.\u001B[39m_gradient_checkpointing_func(\n\u001B[1;32m   1099\u001B[0m         layer_module\u001B[38;5;241m.\u001B[39mforward,\n\u001B[1;32m   1100\u001B[0m         hidden_states,\n\u001B[0;32m   (...)\u001B[0m\n\u001B[1;32m   1110\u001B[0m         output_attentions,\n\u001B[1;32m   1111\u001B[0m     )\n\u001B[1;32m   1112\u001B[0m \u001B[38;5;28;01melse\u001B[39;00m:\n\u001B[0;32m-> 1113\u001B[0m     layer_outputs \u001B[38;5;241m=\u001B[39m \u001B[43mlayer_module\u001B[49m\u001B[43m(\u001B[49m\n\u001B[1;32m   1114\u001B[0m \u001B[43m        \u001B[49m\u001B[43mhidden_states\u001B[49m\u001B[43m,\u001B[49m\n\u001B[1;32m   1115\u001B[0m \u001B[43m        \u001B[49m\u001B[43mattention_mask\u001B[49m\u001B[38;5;241;43m=\u001B[39;49m\u001B[43mextended_attention_mask\u001B[49m\u001B[43m,\u001B[49m\n\u001B[1;32m   1116\u001B[0m \u001B[43m        \u001B[49m\u001B[43mposition_bias\u001B[49m\u001B[38;5;241;43m=\u001B[39;49m\u001B[43mposition_bias\u001B[49m\u001B[43m,\u001B[49m\n\u001B[1;32m   1117\u001B[0m \u001B[43m        \u001B[49m\u001B[43mencoder_hidden_states\u001B[49m\u001B[38;5;241;43m=\u001B[39;49m\u001B[43mencoder_hidden_states\u001B[49m\u001B[43m,\u001B[49m\n\u001B[1;32m   1118\u001B[0m \u001B[43m        \u001B[49m\u001B[43mencoder_attention_mask\u001B[49m\u001B[38;5;241;43m=\u001B[39;49m\u001B[43mencoder_extended_attention_mask\u001B[49m\u001B[43m,\u001B[49m\n\u001B[1;32m   1119\u001B[0m \u001B[43m        \u001B[49m\u001B[43mencoder_decoder_position_bias\u001B[49m\u001B[38;5;241;43m=\u001B[39;49m\u001B[43mencoder_decoder_position_bias\u001B[49m\u001B[43m,\u001B[49m\n\u001B[1;32m   1120\u001B[0m \u001B[43m        \u001B[49m\u001B[43mlayer_head_mask\u001B[49m\u001B[38;5;241;43m=\u001B[39;49m\u001B[43mlayer_head_mask\u001B[49m\u001B[43m,\u001B[49m\n\u001B[1;32m   1121\u001B[0m \u001B[43m        \u001B[49m\u001B[43mcross_attn_layer_head_mask\u001B[49m\u001B[38;5;241;43m=\u001B[39;49m\u001B[43mcross_attn_layer_head_mask\u001B[49m\u001B[43m,\u001B[49m\n\u001B[1;32m   1122\u001B[0m \u001B[43m        \u001B[49m\u001B[43mpast_key_value\u001B[49m\u001B[38;5;241;43m=\u001B[39;49m\u001B[43mpast_key_value\u001B[49m\u001B[43m,\u001B[49m\n\u001B[1;32m   1123\u001B[0m \u001B[43m        \u001B[49m\u001B[43muse_cache\u001B[49m\u001B[38;5;241;43m=\u001B[39;49m\u001B[43muse_cache\u001B[49m\u001B[43m,\u001B[49m\n\u001B[1;32m   1124\u001B[0m \u001B[43m        \u001B[49m\u001B[43moutput_attentions\u001B[49m\u001B[38;5;241;43m=\u001B[39;49m\u001B[43moutput_attentions\u001B[49m\u001B[43m,\u001B[49m\n\u001B[1;32m   1125\u001B[0m \u001B[43m    \u001B[49m\u001B[43m)\u001B[49m\n\u001B[1;32m   1127\u001B[0m \u001B[38;5;66;03m# layer_outputs is a tuple with:\u001B[39;00m\n\u001B[1;32m   1128\u001B[0m \u001B[38;5;66;03m# hidden-states, key-value-states, (self-attention position bias), (self-attention weights), (cross-attention position bias), (cross-attention weights)\u001B[39;00m\n\u001B[1;32m   1129\u001B[0m \u001B[38;5;28;01mif\u001B[39;00m use_cache \u001B[38;5;129;01mis\u001B[39;00m \u001B[38;5;28;01mFalse\u001B[39;00m:\n",
      "File \u001B[0;32m~/mambaforge/envs/vec2text_inter/lib/python3.10/site-packages/torch/nn/modules/module.py:1518\u001B[0m, in \u001B[0;36mModule._wrapped_call_impl\u001B[0;34m(self, *args, **kwargs)\u001B[0m\n\u001B[1;32m   1516\u001B[0m     \u001B[38;5;28;01mreturn\u001B[39;00m \u001B[38;5;28mself\u001B[39m\u001B[38;5;241m.\u001B[39m_compiled_call_impl(\u001B[38;5;241m*\u001B[39margs, \u001B[38;5;241m*\u001B[39m\u001B[38;5;241m*\u001B[39mkwargs)  \u001B[38;5;66;03m# type: ignore[misc]\u001B[39;00m\n\u001B[1;32m   1517\u001B[0m \u001B[38;5;28;01melse\u001B[39;00m:\n\u001B[0;32m-> 1518\u001B[0m     \u001B[38;5;28;01mreturn\u001B[39;00m \u001B[38;5;28;43mself\u001B[39;49m\u001B[38;5;241;43m.\u001B[39;49m\u001B[43m_call_impl\u001B[49m\u001B[43m(\u001B[49m\u001B[38;5;241;43m*\u001B[39;49m\u001B[43margs\u001B[49m\u001B[43m,\u001B[49m\u001B[43m \u001B[49m\u001B[38;5;241;43m*\u001B[39;49m\u001B[38;5;241;43m*\u001B[39;49m\u001B[43mkwargs\u001B[49m\u001B[43m)\u001B[49m\n",
      "File \u001B[0;32m~/mambaforge/envs/vec2text_inter/lib/python3.10/site-packages/torch/nn/modules/module.py:1527\u001B[0m, in \u001B[0;36mModule._call_impl\u001B[0;34m(self, *args, **kwargs)\u001B[0m\n\u001B[1;32m   1522\u001B[0m \u001B[38;5;66;03m# If we don't have any hooks, we want to skip the rest of the logic in\u001B[39;00m\n\u001B[1;32m   1523\u001B[0m \u001B[38;5;66;03m# this function, and just call forward.\u001B[39;00m\n\u001B[1;32m   1524\u001B[0m \u001B[38;5;28;01mif\u001B[39;00m \u001B[38;5;129;01mnot\u001B[39;00m (\u001B[38;5;28mself\u001B[39m\u001B[38;5;241m.\u001B[39m_backward_hooks \u001B[38;5;129;01mor\u001B[39;00m \u001B[38;5;28mself\u001B[39m\u001B[38;5;241m.\u001B[39m_backward_pre_hooks \u001B[38;5;129;01mor\u001B[39;00m \u001B[38;5;28mself\u001B[39m\u001B[38;5;241m.\u001B[39m_forward_hooks \u001B[38;5;129;01mor\u001B[39;00m \u001B[38;5;28mself\u001B[39m\u001B[38;5;241m.\u001B[39m_forward_pre_hooks\n\u001B[1;32m   1525\u001B[0m         \u001B[38;5;129;01mor\u001B[39;00m _global_backward_pre_hooks \u001B[38;5;129;01mor\u001B[39;00m _global_backward_hooks\n\u001B[1;32m   1526\u001B[0m         \u001B[38;5;129;01mor\u001B[39;00m _global_forward_hooks \u001B[38;5;129;01mor\u001B[39;00m _global_forward_pre_hooks):\n\u001B[0;32m-> 1527\u001B[0m     \u001B[38;5;28;01mreturn\u001B[39;00m \u001B[43mforward_call\u001B[49m\u001B[43m(\u001B[49m\u001B[38;5;241;43m*\u001B[39;49m\u001B[43margs\u001B[49m\u001B[43m,\u001B[49m\u001B[43m \u001B[49m\u001B[38;5;241;43m*\u001B[39;49m\u001B[38;5;241;43m*\u001B[39;49m\u001B[43mkwargs\u001B[49m\u001B[43m)\u001B[49m\n\u001B[1;32m   1529\u001B[0m \u001B[38;5;28;01mtry\u001B[39;00m:\n\u001B[1;32m   1530\u001B[0m     result \u001B[38;5;241m=\u001B[39m \u001B[38;5;28;01mNone\u001B[39;00m\n",
      "File \u001B[0;32m~/mambaforge/envs/vec2text_inter/lib/python3.10/site-packages/transformers/models/t5/modeling_t5.py:694\u001B[0m, in \u001B[0;36mT5Block.forward\u001B[0;34m(self, hidden_states, attention_mask, position_bias, encoder_hidden_states, encoder_attention_mask, encoder_decoder_position_bias, layer_head_mask, cross_attn_layer_head_mask, past_key_value, use_cache, output_attentions, return_dict)\u001B[0m\n\u001B[1;32m    691\u001B[0m \u001B[38;5;28;01melse\u001B[39;00m:\n\u001B[1;32m    692\u001B[0m     self_attn_past_key_value, cross_attn_past_key_value \u001B[38;5;241m=\u001B[39m \u001B[38;5;28;01mNone\u001B[39;00m, \u001B[38;5;28;01mNone\u001B[39;00m\n\u001B[0;32m--> 694\u001B[0m self_attention_outputs \u001B[38;5;241m=\u001B[39m \u001B[38;5;28;43mself\u001B[39;49m\u001B[38;5;241;43m.\u001B[39;49m\u001B[43mlayer\u001B[49m\u001B[43m[\u001B[49m\u001B[38;5;241;43m0\u001B[39;49m\u001B[43m]\u001B[49m\u001B[43m(\u001B[49m\n\u001B[1;32m    695\u001B[0m \u001B[43m    \u001B[49m\u001B[43mhidden_states\u001B[49m\u001B[43m,\u001B[49m\n\u001B[1;32m    696\u001B[0m \u001B[43m    \u001B[49m\u001B[43mattention_mask\u001B[49m\u001B[38;5;241;43m=\u001B[39;49m\u001B[43mattention_mask\u001B[49m\u001B[43m,\u001B[49m\n\u001B[1;32m    697\u001B[0m \u001B[43m    \u001B[49m\u001B[43mposition_bias\u001B[49m\u001B[38;5;241;43m=\u001B[39;49m\u001B[43mposition_bias\u001B[49m\u001B[43m,\u001B[49m\n\u001B[1;32m    698\u001B[0m \u001B[43m    \u001B[49m\u001B[43mlayer_head_mask\u001B[49m\u001B[38;5;241;43m=\u001B[39;49m\u001B[43mlayer_head_mask\u001B[49m\u001B[43m,\u001B[49m\n\u001B[1;32m    699\u001B[0m \u001B[43m    \u001B[49m\u001B[43mpast_key_value\u001B[49m\u001B[38;5;241;43m=\u001B[39;49m\u001B[43mself_attn_past_key_value\u001B[49m\u001B[43m,\u001B[49m\n\u001B[1;32m    700\u001B[0m \u001B[43m    \u001B[49m\u001B[43muse_cache\u001B[49m\u001B[38;5;241;43m=\u001B[39;49m\u001B[43muse_cache\u001B[49m\u001B[43m,\u001B[49m\n\u001B[1;32m    701\u001B[0m \u001B[43m    \u001B[49m\u001B[43moutput_attentions\u001B[49m\u001B[38;5;241;43m=\u001B[39;49m\u001B[43moutput_attentions\u001B[49m\u001B[43m,\u001B[49m\n\u001B[1;32m    702\u001B[0m \u001B[43m\u001B[49m\u001B[43m)\u001B[49m\n\u001B[1;32m    703\u001B[0m hidden_states, present_key_value_state \u001B[38;5;241m=\u001B[39m self_attention_outputs[:\u001B[38;5;241m2\u001B[39m]\n\u001B[1;32m    704\u001B[0m attention_outputs \u001B[38;5;241m=\u001B[39m self_attention_outputs[\u001B[38;5;241m2\u001B[39m:]  \u001B[38;5;66;03m# Keep self-attention outputs and relative position weights\u001B[39;00m\n",
      "File \u001B[0;32m~/mambaforge/envs/vec2text_inter/lib/python3.10/site-packages/torch/nn/modules/module.py:1518\u001B[0m, in \u001B[0;36mModule._wrapped_call_impl\u001B[0;34m(self, *args, **kwargs)\u001B[0m\n\u001B[1;32m   1516\u001B[0m     \u001B[38;5;28;01mreturn\u001B[39;00m \u001B[38;5;28mself\u001B[39m\u001B[38;5;241m.\u001B[39m_compiled_call_impl(\u001B[38;5;241m*\u001B[39margs, \u001B[38;5;241m*\u001B[39m\u001B[38;5;241m*\u001B[39mkwargs)  \u001B[38;5;66;03m# type: ignore[misc]\u001B[39;00m\n\u001B[1;32m   1517\u001B[0m \u001B[38;5;28;01melse\u001B[39;00m:\n\u001B[0;32m-> 1518\u001B[0m     \u001B[38;5;28;01mreturn\u001B[39;00m \u001B[38;5;28;43mself\u001B[39;49m\u001B[38;5;241;43m.\u001B[39;49m\u001B[43m_call_impl\u001B[49m\u001B[43m(\u001B[49m\u001B[38;5;241;43m*\u001B[39;49m\u001B[43margs\u001B[49m\u001B[43m,\u001B[49m\u001B[43m \u001B[49m\u001B[38;5;241;43m*\u001B[39;49m\u001B[38;5;241;43m*\u001B[39;49m\u001B[43mkwargs\u001B[49m\u001B[43m)\u001B[49m\n",
      "File \u001B[0;32m~/mambaforge/envs/vec2text_inter/lib/python3.10/site-packages/torch/nn/modules/module.py:1527\u001B[0m, in \u001B[0;36mModule._call_impl\u001B[0;34m(self, *args, **kwargs)\u001B[0m\n\u001B[1;32m   1522\u001B[0m \u001B[38;5;66;03m# If we don't have any hooks, we want to skip the rest of the logic in\u001B[39;00m\n\u001B[1;32m   1523\u001B[0m \u001B[38;5;66;03m# this function, and just call forward.\u001B[39;00m\n\u001B[1;32m   1524\u001B[0m \u001B[38;5;28;01mif\u001B[39;00m \u001B[38;5;129;01mnot\u001B[39;00m (\u001B[38;5;28mself\u001B[39m\u001B[38;5;241m.\u001B[39m_backward_hooks \u001B[38;5;129;01mor\u001B[39;00m \u001B[38;5;28mself\u001B[39m\u001B[38;5;241m.\u001B[39m_backward_pre_hooks \u001B[38;5;129;01mor\u001B[39;00m \u001B[38;5;28mself\u001B[39m\u001B[38;5;241m.\u001B[39m_forward_hooks \u001B[38;5;129;01mor\u001B[39;00m \u001B[38;5;28mself\u001B[39m\u001B[38;5;241m.\u001B[39m_forward_pre_hooks\n\u001B[1;32m   1525\u001B[0m         \u001B[38;5;129;01mor\u001B[39;00m _global_backward_pre_hooks \u001B[38;5;129;01mor\u001B[39;00m _global_backward_hooks\n\u001B[1;32m   1526\u001B[0m         \u001B[38;5;129;01mor\u001B[39;00m _global_forward_hooks \u001B[38;5;129;01mor\u001B[39;00m _global_forward_pre_hooks):\n\u001B[0;32m-> 1527\u001B[0m     \u001B[38;5;28;01mreturn\u001B[39;00m \u001B[43mforward_call\u001B[49m\u001B[43m(\u001B[49m\u001B[38;5;241;43m*\u001B[39;49m\u001B[43margs\u001B[49m\u001B[43m,\u001B[49m\u001B[43m \u001B[49m\u001B[38;5;241;43m*\u001B[39;49m\u001B[38;5;241;43m*\u001B[39;49m\u001B[43mkwargs\u001B[49m\u001B[43m)\u001B[49m\n\u001B[1;32m   1529\u001B[0m \u001B[38;5;28;01mtry\u001B[39;00m:\n\u001B[1;32m   1530\u001B[0m     result \u001B[38;5;241m=\u001B[39m \u001B[38;5;28;01mNone\u001B[39;00m\n",
      "File \u001B[0;32m~/mambaforge/envs/vec2text_inter/lib/python3.10/site-packages/transformers/models/t5/modeling_t5.py:601\u001B[0m, in \u001B[0;36mT5LayerSelfAttention.forward\u001B[0;34m(self, hidden_states, attention_mask, position_bias, layer_head_mask, past_key_value, use_cache, output_attentions)\u001B[0m\n\u001B[1;32m    590\u001B[0m \u001B[38;5;28;01mdef\u001B[39;00m \u001B[38;5;21mforward\u001B[39m(\n\u001B[1;32m    591\u001B[0m     \u001B[38;5;28mself\u001B[39m,\n\u001B[1;32m    592\u001B[0m     hidden_states,\n\u001B[0;32m   (...)\u001B[0m\n\u001B[1;32m    598\u001B[0m     output_attentions\u001B[38;5;241m=\u001B[39m\u001B[38;5;28;01mFalse\u001B[39;00m,\n\u001B[1;32m    599\u001B[0m ):\n\u001B[1;32m    600\u001B[0m     normed_hidden_states \u001B[38;5;241m=\u001B[39m \u001B[38;5;28mself\u001B[39m\u001B[38;5;241m.\u001B[39mlayer_norm(hidden_states)\n\u001B[0;32m--> 601\u001B[0m     attention_output \u001B[38;5;241m=\u001B[39m \u001B[38;5;28;43mself\u001B[39;49m\u001B[38;5;241;43m.\u001B[39;49m\u001B[43mSelfAttention\u001B[49m\u001B[43m(\u001B[49m\n\u001B[1;32m    602\u001B[0m \u001B[43m        \u001B[49m\u001B[43mnormed_hidden_states\u001B[49m\u001B[43m,\u001B[49m\n\u001B[1;32m    603\u001B[0m \u001B[43m        \u001B[49m\u001B[43mmask\u001B[49m\u001B[38;5;241;43m=\u001B[39;49m\u001B[43mattention_mask\u001B[49m\u001B[43m,\u001B[49m\n\u001B[1;32m    604\u001B[0m \u001B[43m        \u001B[49m\u001B[43mposition_bias\u001B[49m\u001B[38;5;241;43m=\u001B[39;49m\u001B[43mposition_bias\u001B[49m\u001B[43m,\u001B[49m\n\u001B[1;32m    605\u001B[0m \u001B[43m        \u001B[49m\u001B[43mlayer_head_mask\u001B[49m\u001B[38;5;241;43m=\u001B[39;49m\u001B[43mlayer_head_mask\u001B[49m\u001B[43m,\u001B[49m\n\u001B[1;32m    606\u001B[0m \u001B[43m        \u001B[49m\u001B[43mpast_key_value\u001B[49m\u001B[38;5;241;43m=\u001B[39;49m\u001B[43mpast_key_value\u001B[49m\u001B[43m,\u001B[49m\n\u001B[1;32m    607\u001B[0m \u001B[43m        \u001B[49m\u001B[43muse_cache\u001B[49m\u001B[38;5;241;43m=\u001B[39;49m\u001B[43muse_cache\u001B[49m\u001B[43m,\u001B[49m\n\u001B[1;32m    608\u001B[0m \u001B[43m        \u001B[49m\u001B[43moutput_attentions\u001B[49m\u001B[38;5;241;43m=\u001B[39;49m\u001B[43moutput_attentions\u001B[49m\u001B[43m,\u001B[49m\n\u001B[1;32m    609\u001B[0m \u001B[43m    \u001B[49m\u001B[43m)\u001B[49m\n\u001B[1;32m    610\u001B[0m     hidden_states \u001B[38;5;241m=\u001B[39m hidden_states \u001B[38;5;241m+\u001B[39m \u001B[38;5;28mself\u001B[39m\u001B[38;5;241m.\u001B[39mdropout(attention_output[\u001B[38;5;241m0\u001B[39m])\n\u001B[1;32m    611\u001B[0m     outputs \u001B[38;5;241m=\u001B[39m (hidden_states,) \u001B[38;5;241m+\u001B[39m attention_output[\u001B[38;5;241m1\u001B[39m:]  \u001B[38;5;66;03m# add attentions if we output them\u001B[39;00m\n",
      "File \u001B[0;32m~/mambaforge/envs/vec2text_inter/lib/python3.10/site-packages/torch/nn/modules/module.py:1518\u001B[0m, in \u001B[0;36mModule._wrapped_call_impl\u001B[0;34m(self, *args, **kwargs)\u001B[0m\n\u001B[1;32m   1516\u001B[0m     \u001B[38;5;28;01mreturn\u001B[39;00m \u001B[38;5;28mself\u001B[39m\u001B[38;5;241m.\u001B[39m_compiled_call_impl(\u001B[38;5;241m*\u001B[39margs, \u001B[38;5;241m*\u001B[39m\u001B[38;5;241m*\u001B[39mkwargs)  \u001B[38;5;66;03m# type: ignore[misc]\u001B[39;00m\n\u001B[1;32m   1517\u001B[0m \u001B[38;5;28;01melse\u001B[39;00m:\n\u001B[0;32m-> 1518\u001B[0m     \u001B[38;5;28;01mreturn\u001B[39;00m \u001B[38;5;28;43mself\u001B[39;49m\u001B[38;5;241;43m.\u001B[39;49m\u001B[43m_call_impl\u001B[49m\u001B[43m(\u001B[49m\u001B[38;5;241;43m*\u001B[39;49m\u001B[43margs\u001B[49m\u001B[43m,\u001B[49m\u001B[43m \u001B[49m\u001B[38;5;241;43m*\u001B[39;49m\u001B[38;5;241;43m*\u001B[39;49m\u001B[43mkwargs\u001B[49m\u001B[43m)\u001B[49m\n",
      "File \u001B[0;32m~/mambaforge/envs/vec2text_inter/lib/python3.10/site-packages/torch/nn/modules/module.py:1527\u001B[0m, in \u001B[0;36mModule._call_impl\u001B[0;34m(self, *args, **kwargs)\u001B[0m\n\u001B[1;32m   1522\u001B[0m \u001B[38;5;66;03m# If we don't have any hooks, we want to skip the rest of the logic in\u001B[39;00m\n\u001B[1;32m   1523\u001B[0m \u001B[38;5;66;03m# this function, and just call forward.\u001B[39;00m\n\u001B[1;32m   1524\u001B[0m \u001B[38;5;28;01mif\u001B[39;00m \u001B[38;5;129;01mnot\u001B[39;00m (\u001B[38;5;28mself\u001B[39m\u001B[38;5;241m.\u001B[39m_backward_hooks \u001B[38;5;129;01mor\u001B[39;00m \u001B[38;5;28mself\u001B[39m\u001B[38;5;241m.\u001B[39m_backward_pre_hooks \u001B[38;5;129;01mor\u001B[39;00m \u001B[38;5;28mself\u001B[39m\u001B[38;5;241m.\u001B[39m_forward_hooks \u001B[38;5;129;01mor\u001B[39;00m \u001B[38;5;28mself\u001B[39m\u001B[38;5;241m.\u001B[39m_forward_pre_hooks\n\u001B[1;32m   1525\u001B[0m         \u001B[38;5;129;01mor\u001B[39;00m _global_backward_pre_hooks \u001B[38;5;129;01mor\u001B[39;00m _global_backward_hooks\n\u001B[1;32m   1526\u001B[0m         \u001B[38;5;129;01mor\u001B[39;00m _global_forward_hooks \u001B[38;5;129;01mor\u001B[39;00m _global_forward_pre_hooks):\n\u001B[0;32m-> 1527\u001B[0m     \u001B[38;5;28;01mreturn\u001B[39;00m \u001B[43mforward_call\u001B[49m\u001B[43m(\u001B[49m\u001B[38;5;241;43m*\u001B[39;49m\u001B[43margs\u001B[49m\u001B[43m,\u001B[49m\u001B[43m \u001B[49m\u001B[38;5;241;43m*\u001B[39;49m\u001B[38;5;241;43m*\u001B[39;49m\u001B[43mkwargs\u001B[49m\u001B[43m)\u001B[49m\n\u001B[1;32m   1529\u001B[0m \u001B[38;5;28;01mtry\u001B[39;00m:\n\u001B[1;32m   1530\u001B[0m     result \u001B[38;5;241m=\u001B[39m \u001B[38;5;28;01mNone\u001B[39;00m\n",
      "File \u001B[0;32m~/mambaforge/envs/vec2text_inter/lib/python3.10/site-packages/transformers/models/t5/modeling_t5.py:523\u001B[0m, in \u001B[0;36mT5Attention.forward\u001B[0;34m(self, hidden_states, mask, key_value_states, position_bias, past_key_value, layer_head_mask, query_length, use_cache, output_attentions)\u001B[0m\n\u001B[1;32m    520\u001B[0m query_states \u001B[38;5;241m=\u001B[39m shape(\u001B[38;5;28mself\u001B[39m\u001B[38;5;241m.\u001B[39mq(hidden_states))  \u001B[38;5;66;03m# (batch_size, n_heads, seq_length, dim_per_head)\u001B[39;00m\n\u001B[1;32m    522\u001B[0m \u001B[38;5;66;03m# get key/value states\u001B[39;00m\n\u001B[0;32m--> 523\u001B[0m key_states \u001B[38;5;241m=\u001B[39m \u001B[43mproject\u001B[49m\u001B[43m(\u001B[49m\n\u001B[1;32m    524\u001B[0m \u001B[43m    \u001B[49m\u001B[43mhidden_states\u001B[49m\u001B[43m,\u001B[49m\u001B[43m \u001B[49m\u001B[38;5;28;43mself\u001B[39;49m\u001B[38;5;241;43m.\u001B[39;49m\u001B[43mk\u001B[49m\u001B[43m,\u001B[49m\u001B[43m \u001B[49m\u001B[43mkey_value_states\u001B[49m\u001B[43m,\u001B[49m\u001B[43m \u001B[49m\u001B[43mpast_key_value\u001B[49m\u001B[43m[\u001B[49m\u001B[38;5;241;43m0\u001B[39;49m\u001B[43m]\u001B[49m\u001B[43m \u001B[49m\u001B[38;5;28;43;01mif\u001B[39;49;00m\u001B[43m \u001B[49m\u001B[43mpast_key_value\u001B[49m\u001B[43m \u001B[49m\u001B[38;5;129;43;01mis\u001B[39;49;00m\u001B[43m \u001B[49m\u001B[38;5;129;43;01mnot\u001B[39;49;00m\u001B[43m \u001B[49m\u001B[38;5;28;43;01mNone\u001B[39;49;00m\u001B[43m \u001B[49m\u001B[38;5;28;43;01melse\u001B[39;49;00m\u001B[43m \u001B[49m\u001B[38;5;28;43;01mNone\u001B[39;49;00m\n\u001B[1;32m    525\u001B[0m \u001B[43m\u001B[49m\u001B[43m)\u001B[49m\n\u001B[1;32m    526\u001B[0m value_states \u001B[38;5;241m=\u001B[39m project(\n\u001B[1;32m    527\u001B[0m     hidden_states, \u001B[38;5;28mself\u001B[39m\u001B[38;5;241m.\u001B[39mv, key_value_states, past_key_value[\u001B[38;5;241m1\u001B[39m] \u001B[38;5;28;01mif\u001B[39;00m past_key_value \u001B[38;5;129;01mis\u001B[39;00m \u001B[38;5;129;01mnot\u001B[39;00m \u001B[38;5;28;01mNone\u001B[39;00m \u001B[38;5;28;01melse\u001B[39;00m \u001B[38;5;28;01mNone\u001B[39;00m\n\u001B[1;32m    528\u001B[0m )\n\u001B[1;32m    530\u001B[0m \u001B[38;5;66;03m# compute scores\u001B[39;00m\n",
      "File \u001B[0;32m~/mambaforge/envs/vec2text_inter/lib/python3.10/site-packages/transformers/models/t5/modeling_t5.py:497\u001B[0m, in \u001B[0;36mT5Attention.forward.<locals>.project\u001B[0;34m(hidden_states, proj_layer, key_value_states, past_key_value)\u001B[0m\n\u001B[1;32m    493\u001B[0m \u001B[38;5;250m\u001B[39m\u001B[38;5;124;03m\"\"\"projects hidden states correctly to key/query states\"\"\"\u001B[39;00m\n\u001B[1;32m    494\u001B[0m \u001B[38;5;28;01mif\u001B[39;00m key_value_states \u001B[38;5;129;01mis\u001B[39;00m \u001B[38;5;28;01mNone\u001B[39;00m:\n\u001B[1;32m    495\u001B[0m     \u001B[38;5;66;03m# self-attn\u001B[39;00m\n\u001B[1;32m    496\u001B[0m     \u001B[38;5;66;03m# (batch_size, n_heads, seq_length, dim_per_head)\u001B[39;00m\n\u001B[0;32m--> 497\u001B[0m     hidden_states \u001B[38;5;241m=\u001B[39m \u001B[43mshape\u001B[49m\u001B[43m(\u001B[49m\u001B[43mproj_layer\u001B[49m\u001B[43m(\u001B[49m\u001B[43mhidden_states\u001B[49m\u001B[43m)\u001B[49m\u001B[43m)\u001B[49m\n\u001B[1;32m    498\u001B[0m \u001B[38;5;28;01melif\u001B[39;00m past_key_value \u001B[38;5;129;01mis\u001B[39;00m \u001B[38;5;28;01mNone\u001B[39;00m:\n\u001B[1;32m    499\u001B[0m     \u001B[38;5;66;03m# cross-attn\u001B[39;00m\n\u001B[1;32m    500\u001B[0m     \u001B[38;5;66;03m# (batch_size, n_heads, seq_length, dim_per_head)\u001B[39;00m\n\u001B[1;32m    501\u001B[0m     hidden_states \u001B[38;5;241m=\u001B[39m shape(proj_layer(key_value_states))\n",
      "File \u001B[0;32m~/mambaforge/envs/vec2text_inter/lib/python3.10/site-packages/transformers/models/t5/modeling_t5.py:486\u001B[0m, in \u001B[0;36mT5Attention.forward.<locals>.shape\u001B[0;34m(states)\u001B[0m\n\u001B[1;32m    484\u001B[0m \u001B[38;5;28;01mdef\u001B[39;00m \u001B[38;5;21mshape\u001B[39m(states):\n\u001B[1;32m    485\u001B[0m \u001B[38;5;250m    \u001B[39m\u001B[38;5;124;03m\"\"\"projection\"\"\"\u001B[39;00m\n\u001B[0;32m--> 486\u001B[0m     \u001B[38;5;28;01mreturn\u001B[39;00m \u001B[43mstates\u001B[49m\u001B[38;5;241;43m.\u001B[39;49m\u001B[43mview\u001B[49m\u001B[43m(\u001B[49m\u001B[43mbatch_size\u001B[49m\u001B[43m,\u001B[49m\u001B[43m \u001B[49m\u001B[38;5;241;43m-\u001B[39;49m\u001B[38;5;241;43m1\u001B[39;49m\u001B[43m,\u001B[49m\u001B[43m \u001B[49m\u001B[38;5;28;43mself\u001B[39;49m\u001B[38;5;241;43m.\u001B[39;49m\u001B[43mn_heads\u001B[49m\u001B[43m,\u001B[49m\u001B[43m \u001B[49m\u001B[38;5;28;43mself\u001B[39;49m\u001B[38;5;241;43m.\u001B[39;49m\u001B[43mkey_value_proj_dim\u001B[49m\u001B[43m)\u001B[49m\u001B[38;5;241m.\u001B[39mtranspose(\u001B[38;5;241m1\u001B[39m, \u001B[38;5;241m2\u001B[39m)\n",
      "\u001B[0;31mKeyboardInterrupt\u001B[0m: "
     ]
    }
   ],
   "source": [
    "for i in range(30):\n",
    "    print(\"Original: \", bios_train_df.loc[i, 'hard_text'])\n",
    "    print(\"Transformed: \", vec2text.invert_embeddings(torch.tensor(train_x_transformed[i]).unsqueeze(0).cuda().float(), corrector=corrector))\n",
    "    print(\"----------------\")"
   ],
   "metadata": {
    "collapsed": false,
    "ExecuteTime": {
     "end_time": "2024-01-25T00:56:54.057172646Z",
     "start_time": "2024-01-25T00:56:43.648993300Z"
    }
   }
  },
  {
   "cell_type": "code",
   "execution_count": null,
   "outputs": [],
   "source": [
    "for i in range(len(bios_train_df)):\n",
    "    bios_train_df.loc[i, 'transformed_hard_text'] = vec2text.invert_embeddings(torch.tensor(train_x_transformed[i]).unsqueeze(0).cuda().float(), corrector=corrector)\n",
    "bios_train_df.to_csv('bios_data/bios_train_df.csv', index=False)"
   ],
   "metadata": {
    "collapsed": false,
    "ExecuteTime": {
     "start_time": "2024-01-25T00:59:31.934065615Z"
    }
   }
  },
  {
   "cell_type": "code",
   "execution_count": null,
   "outputs": [],
   "source": [],
   "metadata": {
    "collapsed": false
   }
  },
  {
   "cell_type": "code",
   "execution_count": 10,
   "metadata": {},
   "outputs": [
    {
     "name": "stdout",
     "output_type": "stream",
     "text": [
      "Original:  She has been working with children in camp , community and school settings for the past 8 years . She believes in the importance of cultivating self - love and awareness in black children at a very young age and is excited to be apart of Black Lives Matter Toronto ’s Freedom School !\n",
      "Transformed:  ['In the last 10 years, he has worked with a variety of camps and programs. He believes that he has grown in importance to cultivating']\n",
      "----------------\n",
      "Original:  He holds a PhD in Biosystems Engineering from University College Dublin ( Ireland ) . He previously held academic positions at University College Dublin ( Ireland ) , Dublin Institute of Technology ( Ireland ) and Harper Adams University ( UK ) . He was a PhD research assistant at Teagasc Irish Agriculture and Food Development Authority . His current research focus is on PLF applications , focussing on real - time modelling and control of animal bio - responses . Tomas started as daily coordinator of the EU - PLF project ( 2012 - 2016 ) and now coordinates 4 Ph.D. students and Masters students in PLF at M3-BIORES . He is PI and co - PI on collaborative National and International projects . He also coordinator of courses on Measuring , Modelling and Managing Bio - responses and Sustainable PLF , and Animal Production Engineering .\n",
      "Transformed:  ['he holds a PhD in Biosystems Engineering Dublin, Ireland. He attended University College Dublin (UK) where he was part of the I']\n",
      "----------------\n",
      "Original:  John served as the Department Chair of Foley ’s national litigation department from 1986 to 1994 and as the Managing Partner of Foley ’s Milwaukee office from 1994 to 1999 . W hen he retired in 2005 , John was listed in The\n",
      "Transformed:  ['John served as the Foley office partner from 1996 to 2001 and as Chair of the Department of Management’s Department of Milwaukee from 2001 to 2003 under John']\n",
      "----------------\n",
      "Original:  She has more 20 years of experience in the field of Neurosurgery . Dr. Konstantia Stoforou is currently the Director at NeuroCure , Greece . Her clinical interest includes Neurosurgical Oncology of Brain , Spine , Skull Base , Endoscopic Pituitary Surgery and Skull Base , Microsurgery , Neuroendoscopy , Spinal Neuromodulation for Pain Surgery , Gamma Knife Radiation . In 2003 , she was co - author in two chapters in a book named \" Neoplasms - Cranial Base Tumors , \" \" Skull Base Surgery \" and extensively many publications in the field of Neurosurgery .\n",
      "Transformed:  ['has served as the Director of Neurosurgery in Greece since 2014. Dr. Konstantin Stoouli is a Clinical Neurosurgery']\n",
      "----------------\n",
      "Original:  Over the years Ash has built an impressive fashion portfolio featuring work done for stylists , designers , magazines , and models . In the past decade , the photographer has also covered events such as parties , speeches , conferences , fundraisers , and many corporate events . Ash has embraced the opportunities offered by working in a city famed for its music and has developed skills in live music photography . His colorful pictures are delivered within 24 hours of the music event .\n",
      "Transformed:  ['Over the past decade, Ash has built a portfolio of impressive portraits and photographs for designers, fashion and the fashion industry. Over the years, his']\n",
      "----------------\n",
      "Original:  Her primary research commitments focus on school - based strategies to promote active healthy lifestyles among children and youth . In particular , she works collaboratively with teachers , researchers , and community stakeholders to enhance students ’ physical activity behaviours and well - being through changes to school curricula , school policy , and school environments .\n",
      "Transformed:  ['His primary research strategies focus on commitments to healthy lifestyles, including collaborations with schools, governing bodies and other organisations. He has published several articles']\n",
      "----------------\n",
      "Original:  She holds an MFA from the California College of the Arts , and has taught painting and drawing at many Bay Area institutions , including the San Francisco Art Institute , the California College of the Arts , the University of California Berkeley , and San Francisco State University . Her work is in both public and private collections , among them the Oakland Museum , the San Antonio Museum , and the Long Beach Museum of Art . She has been awarded artist ’s residencies at the Djerassi Ucross foundations in the United States , and the Delfina Studio Trust and Fundacion Valparaiso in Spain . Bovenzi ’s art has always used the natural world as a source for imagery . For the past ten years , she has spent summers in rural southern Colorado , where the landscape and the indigenous cultures have been a strong influence on her work .\n",
      "Transformed:  ['he holds an MFA in painting and drawing from the California Institute of the Arts, and has taught at numerous professional institutions including San Francisco Bay Area College']\n",
      "----------------\n",
      "Original:  At both Weskoppies Hospital in Pretoria and in his current practice he has worked with adults , couples and children . He may be reached at Intercare on 041 - 395 9600 or 082 564 1071 .\n",
      "Transformed:  ['at Intercare Pretoria and Weskop in the West. He has been available to patients and their families at both Practices 103 and ']\n",
      "----------------\n",
      "Original:  She holds a clinical license in social work from NJ where she lived and practiced social work for 11 years before moving to Washington State in 2016 to teach at EWU . She has earned her BSW and MSW from Sofia University \" St. Kliment Ohridski \" , Bulgaria and DSW in Clinical Social work from University of Pennsylvania . Rumyana ’s clinical and scholarly interests include women&#39;s reproductive rights and mental health , perinatal social work , trauma and grief , trauma - informed interventions and systems , and interdisciplinary studies and approach to holistic healthcare .\n",
      "Transformed:  ['he worked for 10 years before moving to Washington in 2016 to teach in social work at the State of Washington and holds a license from the Clinical in']\n",
      "----------------\n",
      "Original:  The main research field lie in the area of image processing and analysis , pattern recognition and machine learning . Recently , he has participated 3 projects from National Science Foundation , several projects from 863 Hi - tech project , International Science and Technology Cooperation and National Science - technology support Plan . He has published more than 50 scientific papers in international or Chinese journals and conferences , and he obtained the first , second and third prizes of Hubei Science and Technology Progress Award , respectively . He received the title of National Excellent Courses for teaching Assembly language programming\n",
      "Transformed:  ['The main research area lies in the fields of pattern recognition, image processing and artificial intelligence. Currently, the team has participated in many national science and field']\n",
      "----------------\n",
      "Original:  Her work focuses on the politics of representation and resistance from an intersectional perspective . She ’s most interested in surreal , realist , genre - bending filmmaking .\n",
      "Transformed:  ['His work focuses on the political sphere of resistance, but also on the intersectional genre. His most reimagining and protest filmmaking interests']\n",
      "----------------\n",
      "Original:  He has lectured nationally on surgery and diabetic care , and was a speaker at the largest podiatric medical conference in the world . Dr. McLean has taught at two different medical schools , both in the department of surgery . Board certified in wound care , McLean utilizes a revolutionary treatment for wound healing , which is also used to treat neuropathy , the nerve problem developed by many diabetics .\n",
      "Transformed:  ['he has lectured at medical conferences around the world, ranging from diabetes surgery to syphilis. Dr. McLean was the']\n",
      "----------------\n",
      "Original:  Patients rated her highly , giving her an average of 4.5 stars out of 5 . Dr. Tran accepts Anthem , Blue Cross / Blue Shield , and Blue Shield , in addition to other insurance carriers . She obtained her medical school training at St. Louis University School of Medicine and performed her residency at a hospital affiliated with the University of Southern California ( USC ) . In addition to English , she speaks Vietnamese . Her hospital / clinic affiliations include Saddleback Memorial Medical Center and MemorialCare Medical Group . Dr. Tran has an open panel .\n",
      "Transformed:  ['patients. Reviews were mixed. He accepts Blue Cross Blue Cross, Blue Cross Blue Shield, and Dr. Tran on a 4.5 out']\n",
      "----------------\n",
      "Original:  She obtained her doctoral degree from the University of Massachusetts Amherst . Her research focuses on the political economy of development in South Asia . She is especially interested in examining development issues using the lens of gender . She has worked on post - conflict reconstruction , peacebuilding and development , feminization of poverty and female headship , microfinance , and more recently , environmental adaptation and resource conflicts . She has carried out field - based research in Nepal and India for these projects . Her work has been published in diverse and interdisciplinary fora such as Feminist Economics , Gender Place & Culture , and the Community Development Journal , and in edited volumes . Smita is also interested in mixed methods research in economics , and has recently contributed to an edited collection , the Handbook of Research Methods in Heterodox Economics .\n",
      "Transformed:  [\"He obtained his doctorate from the University of Massachusetts Amherst. His research focuses on the development of South Asia's political economy, on\"]\n",
      "----------------\n",
      "Original:  The professionally trained artist and former flight attendant and runway model , uses her extensive fashion , art , and travel experience to bring a unique , internationally - inspired feel to her designs . Outside of interior design , Anne is regularly commissioned to style models for pageants , magazine covers , and events .\n",
      "Transformed:  ['His highly trained and internationally renowned artist, travels and aviation inspired, uses his unique skill as a runway designer and former professional model to accompany ']\n",
      "----------------\n",
      "Original:  His areas of expertise include back pain , complex regional pain syndrome ( CRPS ) , and cancer pain . Dr. Sadoughi 's hospital / clinic affiliations include UCLA Medical Center , Santa Monica and Ronald Reagan UCLA Medical Center . He is in - network for several insurance carriers , including Anthem , Blue Cross / Blue Shield , and Blue Shield . After attending Shiraz University of Medical Sciences for medical school , he completed his residency training at a hospital affiliated with the University of Illinois at Chicago . Awards and/or distinctions Dr. Sadoughi has received include Dillon 's Award and Regional Anesthesia Teacher of the Year Award . In addition to English , he speaks Persian .\n",
      "Transformed:  ['pain, spinal issues, and regionalized inflammatory disorders. Dr. Sadough’s expertise includes those of the CAPS, UCLA, UCLA']\n",
      "----------------\n",
      "Original:  Her research interest is on social interactions between mothers and their infants . One of her research topics is whether and how mothers ’ emotional experience in parenting , such as separation anxiety , contributes to their sensitivity and responsiveness to infants ’ social signals during social interaction . She is also interested in investigating the outcomes of mother - infant interaction that seek to understand the linkage of the quality of social interaction between mother and infant to later child compliance and social understanding in toddlerhood and preschool age .\n",
      "Transformed:  ['is his research interest. One of his research topics is how mothers experience their infants. His interaction with mothers has been the topic of academic interest in the']\n",
      "----------------\n",
      "Original:  He has published articles on the subjects of solid mechanics , mathematical logic , and Mariology , in journals including the Journal of the Mechanics and Physics of Solids , the Notre Dame Journal of Formal Logic , and the Homiletic and Pastoral Review . He is an associate member of the lay apostolate of the Franciscans of the Immaculate , the Mission of the Immaculate Mediatrix , and he is a regular contributor to the bi - monthly magazine Missio Immaculatae International . He is married to Clara M.B. Fleischmann , and they have been blessed so far with five children : Gertrude , Thomas , Mattias , Anselm , and Philip .\n",
      "Transformed:  ['he has published articles in solid mechanics, physics, mathematical physics, logical physics and the Mathematical Sciences of the \"']\n",
      "----------------\n",
      "Original:  The healings are thus : the Light enters into her Crown through the top of her head . Thus , the Light beams through her hands and body moving her completely and making it easy for her to go straight to the pain without even asking the person what is wrong with them .\n",
      "Transformed:  [\"The Lights' healing moves through the head, repositioning the light on top of the crown, and moving it toward the person. This glass\"]\n",
      "----------------\n",
      "Original:  She has taught high school chemistry and physical science for over 20 years , and worked in a technology leadership role in a K-12 school district . Heather Toomey Zimmerman is an associate professor of education at Penn State University . Her professional work experience includes being a museum educator , wetland educator , and learning scientist . Contact them at j.weible@cmich.edu and heather@psu.edu .\n",
      "Transformed:  ['since 2000 and has worked as a physical chemistry teacher for over 30 years, particularly in the elementary and high school curriculum. Heather Zimmerman Thomas \"']\n",
      "----------------\n",
      "Original:  After completing his PhD in Jeffery W. Kelly 's laboratory at Texas A&M University in 1995 , he worked as a postdoctoral fellow in Bill DeGrado 's laboratory from 1996 to 1999 . Schneider received an NSF Career Award in 2004 and a DuPont Young Faculty Award in 2005 .\n",
      "Transformed:  ['After completing his PhD in 1998 he worked as a laboratory at Jeffery G. Kelly & Co. in DeWolf,']\n",
      "----------------\n",
      "Original:  He received his Ph.D. in Management and Human Resources from the University of Wisconsin - Madison . His current research interests include dynamics of competition and collaboration in niche industries ; managerial sense - making in international contexts ; enabling and constraining forces of cognition and culture ; and the strategic management of institutional environments . His work has been published in Advances of Strategic Management and the Academy of Management Review ( forthcoming ) .\n",
      "Transformed:  ['He received his Ph.D. in Management from the University of Wisconsin, Madison. His current research interests include the niche industries of Human Resources and Competitiveness']\n",
      "----------------\n",
      "Original:  He has successfully represented countless clients in all types of injury cases , including : car , truck , and motorcycle accidents , pedestrian cases , taxi , bus , and train accidents , slip and fall injuries , premises liability cases , construction negligence , nursing home negligence , medical malpractice cases , wrongful death cases , dog bites , and workers ’ compensation matters . Matthew strives to provide knowledgeable and aggressive representation in order to obtain the best possible outcome for his clients . Matthew is an experienced trial attorney who has litigated thousands of personal injury matters , and has achieved numerous jury trial verdicts and settlements on behalf of injured Plaintiffs in Illinois .\n",
      "Transformed:  ['he has represented a wide variety of clients in various types of car accidents, truck, bus, taxi, motorcycle, and injury cases. In addition']\n",
      "----------------\n",
      "Original:  She received her doctorate in educational psychology and educational technology with a language and literacy emphasis from Michigan State University . Professor Kganetso taught kindergarten for nine years , and her research interests focus on how context influences young children 's abilities to read and write different genres — particularly informational texts . Her examinations of both U.S. and international contexts focus on how connecting home , community , and school contexts can foster language and literacy learning in meaningful , culturally relevant , and culturally sustaining ways .\n",
      "Transformed:  ['years he received his doctorate in educational theory from Michigan State University. Professor Kganso taught at the kindergarten and was a faculty member at']\n",
      "----------------\n",
      "Original:  She graduated from Saint Joseph 's College of New York in June of 2005 with a Bachelor Degree in General and Special Education . In 2007 , she graduated from Long Island University with a Master Degree in Special Education . Since her graduation from Saint Joseph 's College , she has taught children with autism both in school and home environments . Over the years , she has learned how important social stories are for children with autism and other disabilities . She has used social stories with her students to teach many different positive behaviors . She is hoping her book , which has been created much like a social story , will be a valuable resource for both parents and other teachers .\n",
      "Transformed:  [\"He graduated from St. Joseph's College in 2007 with a Bachelor of Education. He graduated from the College of New York in 2009 with a\"]\n",
      "----------------\n",
      "Original:  He is a current member of the National Research Council of Canada Standing Committee on Housing and Small Buildings ( Part 9 of the National Building Code of Canada ) . Richard is a trainer offering building industry and general public training . He is the editor of SOLPLAN REVIEW , Canada ’s journal of energy conservation , building science and building practice .\n",
      "Transformed:  [\"He is a current member of the National Research Council of Canada's Small Buildings Section under the National Council on Small and Medium-sized Buildings\"]\n",
      "----------------\n",
      "Original:  She attended the University of Texas at Austin and earned a Bachelor of Science degree in Nutrition as well as completed her dietetic internship through the University of Texas Coordinated Program in Dietetics .\n",
      "Transformed:  [\"He attended the University of Texas at Austin and completed a Bachelor of Science in Nutrition from the University of Texas's Austin Institute of Technology and internships\"]\n",
      "----------------\n",
      "Original:  Jeff ’s interests include SOA / microservices , architecting large - scale systems , and data architecture . He has worked on projects ranging from complex battle planning systems to a cloud - based hotel reservation system . Jeff is passionate about disruptive projects that change industries , mentoring architects and developers , and the next challenge .\n",
      "Transformed:  ['Jeff has interests in microservices, large-scale architecture, data structures, SOA systems and the development of software for his projects. These include:']\n",
      "----------------\n",
      "Original:  He was born in South California and raised there . He was a rock musician in Hollywood , Los Angeles . He joined the Calvary Chapel Costa Mesa in 1980 and was under Pastor Chuck Smith . He subsequently became the assistant Pastor at Calvary Chapel Pacific Hills in California and stayed there for many years . In 1991 , he moved to Houston and founded Calvary Houston . He began as a small home fellowship that focused on contemporary worship and today he serves thousands of people in the area . He is blessed with a loving family and holds regular radio broadcasts in the region for teaching the tenets of the Bible and bringing people closer to God .\n",
      "Transformed:  ['He was a rock musician in the Los Angeles area during the 1980s. He was born in Costa Mesa, California. He joined the California Chapel']\n",
      "----------------\n",
      "Original:  Sara has a broad range of professional experience and interests developed from working in various contexts including the NHS , private practice , schools , charitable sector and corporate sector . Her clinical experience includes working with adults , couples , children , adolescents and families . She has worked with a variety of complex psychological difficulties including depression , anxiety , stress , insomnia , bereavement , work - related issues , eating disorders , obsessive compulsive disorder , sexual abuse , sexual identity issues , drug and alcohol dependency , relationship issues and a range of other existential issues .\n",
      "Transformed:  ['Sara has a wide range of professional experience relating to various sectors including: corporate, private sector, NHS organisations, academic and donor organisations and various other']\n",
      "----------------\n"
     ]
    }
   ],
   "source": [
    "for i in range(30):\n",
    "    print(\"Original: \", text_train[i])\n",
    "    print(\"Transformed: \", vec2text.invert_embeddings(torch.tensor(train_x_transformed[i]).unsqueeze(0).cuda().float(), corrector=corrector))\n",
    "    print(\"----------------\")"
   ]
  },
  {
   "cell_type": "code",
   "execution_count": 12,
   "metadata": {},
   "outputs": [],
   "source": [
    "# sentences = [\"Angelina, 31, is a very nice person. She is very kind and helpful.\",\n",
    "# \"She is a devoted mother to three children, and works as a nurse.\",\n",
    "# \"Jane likes to go to the park and play with her children.\",\n",
    "# \"Patricia is waiting to find her true love.\",\n",
    "# \"Anna is working as a administrator in a hospital.\",\n",
    "# \"She decided to leave her career to become a stay-at-home mom.\",\n",
    "# \"She always wanted to be a mother, to connect to her femininity, and is very happy with her decision.\",\n",
    "# \"The common theme in her life is her love for children.\"]\n",
    "# for sentence in sentences:\n",
    "#     vec = encode(corrector, [sentence])[0]\n",
    "#     vec += 3.0 * (mean_target - mean_source)\n",
    "#     #vec = ot_linear.transform(Xs=vec)[0]\n",
    "#     print(\"Original: \", sentence)\n",
    "#     print(\"Counterfactual: \", vec2text.invert_embeddings(torch.tensor(vec).unsqueeze(0).cuda().float(), corrector=corrector))\n",
    "#     print(\"----------------\")\n"
   ]
  },
  {
   "cell_type": "code",
   "execution_count": 2,
   "outputs": [
    {
     "data": {
      "text/plain": "                                                hard_text  \\\n0       She has been working with children in camp , c...   \n1       He holds a PhD in Biosystems Engineering from ...   \n2       John served as the Department Chair of Foley ’...   \n3       She has more 20 years of experience in the fie...   \n4       Over the years Ash has built an impressive fas...   \n...                                                   ...   \n255719  Specializing in curriculum and instructional s...   \n255720  She investigates basic cognitive processes , w...   \n255721  He has helped numerous patients in his 15 year...   \n255722  He received his Ph.D. from INSEAD . He is inte...   \n255723  Since he started his career at Network to Code...   \n\n                                    transformed_hard_text  \n0       years. He believes this is a great time to wor...  \n1       as a PhD in Food Psychology at University Coll...  \n2       John served as the Department Chair of Foley f...  \n3       has been a consultant for Spinotomy Neurosurge...  \n4       she is currently presenting at events and fest...  \n...                                                   ...  \n255719  served as a community leadership specialist in...  \n255720  interest in the study of cognitive processes. ...  \n255721  has completed her career and has become a prac...  \n255722  She is interested in gaining her PhD from INSE...  \n255723  has continued to work on her code as a freelan...  \n\n[255724 rows x 2 columns]",
      "text/html": "<div>\n<style scoped>\n    .dataframe tbody tr th:only-of-type {\n        vertical-align: middle;\n    }\n\n    .dataframe tbody tr th {\n        vertical-align: top;\n    }\n\n    .dataframe thead th {\n        text-align: right;\n    }\n</style>\n<table border=\"1\" class=\"dataframe\">\n  <thead>\n    <tr style=\"text-align: right;\">\n      <th></th>\n      <th>hard_text</th>\n      <th>transformed_hard_text</th>\n    </tr>\n  </thead>\n  <tbody>\n    <tr>\n      <th>0</th>\n      <td>She has been working with children in camp , c...</td>\n      <td>years. He believes this is a great time to wor...</td>\n    </tr>\n    <tr>\n      <th>1</th>\n      <td>He holds a PhD in Biosystems Engineering from ...</td>\n      <td>as a PhD in Food Psychology at University Coll...</td>\n    </tr>\n    <tr>\n      <th>2</th>\n      <td>John served as the Department Chair of Foley ’...</td>\n      <td>John served as the Department Chair of Foley f...</td>\n    </tr>\n    <tr>\n      <th>3</th>\n      <td>She has more 20 years of experience in the fie...</td>\n      <td>has been a consultant for Spinotomy Neurosurge...</td>\n    </tr>\n    <tr>\n      <th>4</th>\n      <td>Over the years Ash has built an impressive fas...</td>\n      <td>she is currently presenting at events and fest...</td>\n    </tr>\n    <tr>\n      <th>...</th>\n      <td>...</td>\n      <td>...</td>\n    </tr>\n    <tr>\n      <th>255719</th>\n      <td>Specializing in curriculum and instructional s...</td>\n      <td>served as a community leadership specialist in...</td>\n    </tr>\n    <tr>\n      <th>255720</th>\n      <td>She investigates basic cognitive processes , w...</td>\n      <td>interest in the study of cognitive processes. ...</td>\n    </tr>\n    <tr>\n      <th>255721</th>\n      <td>He has helped numerous patients in his 15 year...</td>\n      <td>has completed her career and has become a prac...</td>\n    </tr>\n    <tr>\n      <th>255722</th>\n      <td>He received his Ph.D. from INSEAD . He is inte...</td>\n      <td>She is interested in gaining her PhD from INSE...</td>\n    </tr>\n    <tr>\n      <th>255723</th>\n      <td>Since he started his career at Network to Code...</td>\n      <td>has continued to work on her code as a freelan...</td>\n    </tr>\n  </tbody>\n</table>\n<p>255724 rows × 2 columns</p>\n</div>"
     },
     "execution_count": 2,
     "metadata": {},
     "output_type": "execute_result"
    }
   ],
   "source": [
    "import pandas as pd\n",
    "df = pd.read_csv('../bios_data/bios_train_df.csv')\n",
    "df[['hard_text', 'transformed_hard_text']]"
   ],
   "metadata": {
    "collapsed": false,
    "ExecuteTime": {
     "end_time": "2024-01-26T19:15:20.924821953Z",
     "start_time": "2024-01-26T19:15:15.090016662Z"
    }
   }
  },
  {
   "cell_type": "code",
   "execution_count": 3,
   "outputs": [
    {
     "ename": "FileNotFoundError",
     "evalue": "[Errno 2] No such file or directory: 'bios_train_bsw_2_n_steps_5_df.csv'",
     "output_type": "error",
     "traceback": [
      "\u001B[0;31m---------------------------------------------------------------------------\u001B[0m",
      "\u001B[0;31mFileNotFoundError\u001B[0m                         Traceback (most recent call last)",
      "Cell \u001B[0;32mIn[3], line 2\u001B[0m\n\u001B[1;32m      1\u001B[0m \u001B[38;5;28;01mimport\u001B[39;00m \u001B[38;5;21;01mpandas\u001B[39;00m \u001B[38;5;28;01mas\u001B[39;00m \u001B[38;5;21;01mpd\u001B[39;00m\n\u001B[0;32m----> 2\u001B[0m df_w_20_steps \u001B[38;5;241m=\u001B[39m \u001B[43mpd\u001B[49m\u001B[38;5;241;43m.\u001B[39;49m\u001B[43mread_csv\u001B[49m\u001B[43m(\u001B[49m\u001B[38;5;124;43m'\u001B[39;49m\u001B[38;5;124;43mbios_train_bsw_2_n_steps_5_df.csv\u001B[39;49m\u001B[38;5;124;43m'\u001B[39;49m\u001B[43m)\u001B[49m\n\u001B[1;32m      3\u001B[0m df_w_20_steps\n",
      "File \u001B[0;32m~/mambaforge/envs/vec2text_inter/lib/python3.10/site-packages/pandas/io/parsers/readers.py:948\u001B[0m, in \u001B[0;36mread_csv\u001B[0;34m(filepath_or_buffer, sep, delimiter, header, names, index_col, usecols, dtype, engine, converters, true_values, false_values, skipinitialspace, skiprows, skipfooter, nrows, na_values, keep_default_na, na_filter, verbose, skip_blank_lines, parse_dates, infer_datetime_format, keep_date_col, date_parser, date_format, dayfirst, cache_dates, iterator, chunksize, compression, thousands, decimal, lineterminator, quotechar, quoting, doublequote, escapechar, comment, encoding, encoding_errors, dialect, on_bad_lines, delim_whitespace, low_memory, memory_map, float_precision, storage_options, dtype_backend)\u001B[0m\n\u001B[1;32m    935\u001B[0m kwds_defaults \u001B[38;5;241m=\u001B[39m _refine_defaults_read(\n\u001B[1;32m    936\u001B[0m     dialect,\n\u001B[1;32m    937\u001B[0m     delimiter,\n\u001B[0;32m   (...)\u001B[0m\n\u001B[1;32m    944\u001B[0m     dtype_backend\u001B[38;5;241m=\u001B[39mdtype_backend,\n\u001B[1;32m    945\u001B[0m )\n\u001B[1;32m    946\u001B[0m kwds\u001B[38;5;241m.\u001B[39mupdate(kwds_defaults)\n\u001B[0;32m--> 948\u001B[0m \u001B[38;5;28;01mreturn\u001B[39;00m \u001B[43m_read\u001B[49m\u001B[43m(\u001B[49m\u001B[43mfilepath_or_buffer\u001B[49m\u001B[43m,\u001B[49m\u001B[43m \u001B[49m\u001B[43mkwds\u001B[49m\u001B[43m)\u001B[49m\n",
      "File \u001B[0;32m~/mambaforge/envs/vec2text_inter/lib/python3.10/site-packages/pandas/io/parsers/readers.py:611\u001B[0m, in \u001B[0;36m_read\u001B[0;34m(filepath_or_buffer, kwds)\u001B[0m\n\u001B[1;32m    608\u001B[0m _validate_names(kwds\u001B[38;5;241m.\u001B[39mget(\u001B[38;5;124m\"\u001B[39m\u001B[38;5;124mnames\u001B[39m\u001B[38;5;124m\"\u001B[39m, \u001B[38;5;28;01mNone\u001B[39;00m))\n\u001B[1;32m    610\u001B[0m \u001B[38;5;66;03m# Create the parser.\u001B[39;00m\n\u001B[0;32m--> 611\u001B[0m parser \u001B[38;5;241m=\u001B[39m \u001B[43mTextFileReader\u001B[49m\u001B[43m(\u001B[49m\u001B[43mfilepath_or_buffer\u001B[49m\u001B[43m,\u001B[49m\u001B[43m \u001B[49m\u001B[38;5;241;43m*\u001B[39;49m\u001B[38;5;241;43m*\u001B[39;49m\u001B[43mkwds\u001B[49m\u001B[43m)\u001B[49m\n\u001B[1;32m    613\u001B[0m \u001B[38;5;28;01mif\u001B[39;00m chunksize \u001B[38;5;129;01mor\u001B[39;00m iterator:\n\u001B[1;32m    614\u001B[0m     \u001B[38;5;28;01mreturn\u001B[39;00m parser\n",
      "File \u001B[0;32m~/mambaforge/envs/vec2text_inter/lib/python3.10/site-packages/pandas/io/parsers/readers.py:1448\u001B[0m, in \u001B[0;36mTextFileReader.__init__\u001B[0;34m(self, f, engine, **kwds)\u001B[0m\n\u001B[1;32m   1445\u001B[0m     \u001B[38;5;28mself\u001B[39m\u001B[38;5;241m.\u001B[39moptions[\u001B[38;5;124m\"\u001B[39m\u001B[38;5;124mhas_index_names\u001B[39m\u001B[38;5;124m\"\u001B[39m] \u001B[38;5;241m=\u001B[39m kwds[\u001B[38;5;124m\"\u001B[39m\u001B[38;5;124mhas_index_names\u001B[39m\u001B[38;5;124m\"\u001B[39m]\n\u001B[1;32m   1447\u001B[0m \u001B[38;5;28mself\u001B[39m\u001B[38;5;241m.\u001B[39mhandles: IOHandles \u001B[38;5;241m|\u001B[39m \u001B[38;5;28;01mNone\u001B[39;00m \u001B[38;5;241m=\u001B[39m \u001B[38;5;28;01mNone\u001B[39;00m\n\u001B[0;32m-> 1448\u001B[0m \u001B[38;5;28mself\u001B[39m\u001B[38;5;241m.\u001B[39m_engine \u001B[38;5;241m=\u001B[39m \u001B[38;5;28;43mself\u001B[39;49m\u001B[38;5;241;43m.\u001B[39;49m\u001B[43m_make_engine\u001B[49m\u001B[43m(\u001B[49m\u001B[43mf\u001B[49m\u001B[43m,\u001B[49m\u001B[43m \u001B[49m\u001B[38;5;28;43mself\u001B[39;49m\u001B[38;5;241;43m.\u001B[39;49m\u001B[43mengine\u001B[49m\u001B[43m)\u001B[49m\n",
      "File \u001B[0;32m~/mambaforge/envs/vec2text_inter/lib/python3.10/site-packages/pandas/io/parsers/readers.py:1705\u001B[0m, in \u001B[0;36mTextFileReader._make_engine\u001B[0;34m(self, f, engine)\u001B[0m\n\u001B[1;32m   1703\u001B[0m     \u001B[38;5;28;01mif\u001B[39;00m \u001B[38;5;124m\"\u001B[39m\u001B[38;5;124mb\u001B[39m\u001B[38;5;124m\"\u001B[39m \u001B[38;5;129;01mnot\u001B[39;00m \u001B[38;5;129;01min\u001B[39;00m mode:\n\u001B[1;32m   1704\u001B[0m         mode \u001B[38;5;241m+\u001B[39m\u001B[38;5;241m=\u001B[39m \u001B[38;5;124m\"\u001B[39m\u001B[38;5;124mb\u001B[39m\u001B[38;5;124m\"\u001B[39m\n\u001B[0;32m-> 1705\u001B[0m \u001B[38;5;28mself\u001B[39m\u001B[38;5;241m.\u001B[39mhandles \u001B[38;5;241m=\u001B[39m \u001B[43mget_handle\u001B[49m\u001B[43m(\u001B[49m\n\u001B[1;32m   1706\u001B[0m \u001B[43m    \u001B[49m\u001B[43mf\u001B[49m\u001B[43m,\u001B[49m\n\u001B[1;32m   1707\u001B[0m \u001B[43m    \u001B[49m\u001B[43mmode\u001B[49m\u001B[43m,\u001B[49m\n\u001B[1;32m   1708\u001B[0m \u001B[43m    \u001B[49m\u001B[43mencoding\u001B[49m\u001B[38;5;241;43m=\u001B[39;49m\u001B[38;5;28;43mself\u001B[39;49m\u001B[38;5;241;43m.\u001B[39;49m\u001B[43moptions\u001B[49m\u001B[38;5;241;43m.\u001B[39;49m\u001B[43mget\u001B[49m\u001B[43m(\u001B[49m\u001B[38;5;124;43m\"\u001B[39;49m\u001B[38;5;124;43mencoding\u001B[39;49m\u001B[38;5;124;43m\"\u001B[39;49m\u001B[43m,\u001B[49m\u001B[43m \u001B[49m\u001B[38;5;28;43;01mNone\u001B[39;49;00m\u001B[43m)\u001B[49m\u001B[43m,\u001B[49m\n\u001B[1;32m   1709\u001B[0m \u001B[43m    \u001B[49m\u001B[43mcompression\u001B[49m\u001B[38;5;241;43m=\u001B[39;49m\u001B[38;5;28;43mself\u001B[39;49m\u001B[38;5;241;43m.\u001B[39;49m\u001B[43moptions\u001B[49m\u001B[38;5;241;43m.\u001B[39;49m\u001B[43mget\u001B[49m\u001B[43m(\u001B[49m\u001B[38;5;124;43m\"\u001B[39;49m\u001B[38;5;124;43mcompression\u001B[39;49m\u001B[38;5;124;43m\"\u001B[39;49m\u001B[43m,\u001B[49m\u001B[43m \u001B[49m\u001B[38;5;28;43;01mNone\u001B[39;49;00m\u001B[43m)\u001B[49m\u001B[43m,\u001B[49m\n\u001B[1;32m   1710\u001B[0m \u001B[43m    \u001B[49m\u001B[43mmemory_map\u001B[49m\u001B[38;5;241;43m=\u001B[39;49m\u001B[38;5;28;43mself\u001B[39;49m\u001B[38;5;241;43m.\u001B[39;49m\u001B[43moptions\u001B[49m\u001B[38;5;241;43m.\u001B[39;49m\u001B[43mget\u001B[49m\u001B[43m(\u001B[49m\u001B[38;5;124;43m\"\u001B[39;49m\u001B[38;5;124;43mmemory_map\u001B[39;49m\u001B[38;5;124;43m\"\u001B[39;49m\u001B[43m,\u001B[49m\u001B[43m \u001B[49m\u001B[38;5;28;43;01mFalse\u001B[39;49;00m\u001B[43m)\u001B[49m\u001B[43m,\u001B[49m\n\u001B[1;32m   1711\u001B[0m \u001B[43m    \u001B[49m\u001B[43mis_text\u001B[49m\u001B[38;5;241;43m=\u001B[39;49m\u001B[43mis_text\u001B[49m\u001B[43m,\u001B[49m\n\u001B[1;32m   1712\u001B[0m \u001B[43m    \u001B[49m\u001B[43merrors\u001B[49m\u001B[38;5;241;43m=\u001B[39;49m\u001B[38;5;28;43mself\u001B[39;49m\u001B[38;5;241;43m.\u001B[39;49m\u001B[43moptions\u001B[49m\u001B[38;5;241;43m.\u001B[39;49m\u001B[43mget\u001B[49m\u001B[43m(\u001B[49m\u001B[38;5;124;43m\"\u001B[39;49m\u001B[38;5;124;43mencoding_errors\u001B[39;49m\u001B[38;5;124;43m\"\u001B[39;49m\u001B[43m,\u001B[49m\u001B[43m \u001B[49m\u001B[38;5;124;43m\"\u001B[39;49m\u001B[38;5;124;43mstrict\u001B[39;49m\u001B[38;5;124;43m\"\u001B[39;49m\u001B[43m)\u001B[49m\u001B[43m,\u001B[49m\n\u001B[1;32m   1713\u001B[0m \u001B[43m    \u001B[49m\u001B[43mstorage_options\u001B[49m\u001B[38;5;241;43m=\u001B[39;49m\u001B[38;5;28;43mself\u001B[39;49m\u001B[38;5;241;43m.\u001B[39;49m\u001B[43moptions\u001B[49m\u001B[38;5;241;43m.\u001B[39;49m\u001B[43mget\u001B[49m\u001B[43m(\u001B[49m\u001B[38;5;124;43m\"\u001B[39;49m\u001B[38;5;124;43mstorage_options\u001B[39;49m\u001B[38;5;124;43m\"\u001B[39;49m\u001B[43m,\u001B[49m\u001B[43m \u001B[49m\u001B[38;5;28;43;01mNone\u001B[39;49;00m\u001B[43m)\u001B[49m\u001B[43m,\u001B[49m\n\u001B[1;32m   1714\u001B[0m \u001B[43m\u001B[49m\u001B[43m)\u001B[49m\n\u001B[1;32m   1715\u001B[0m \u001B[38;5;28;01massert\u001B[39;00m \u001B[38;5;28mself\u001B[39m\u001B[38;5;241m.\u001B[39mhandles \u001B[38;5;129;01mis\u001B[39;00m \u001B[38;5;129;01mnot\u001B[39;00m \u001B[38;5;28;01mNone\u001B[39;00m\n\u001B[1;32m   1716\u001B[0m f \u001B[38;5;241m=\u001B[39m \u001B[38;5;28mself\u001B[39m\u001B[38;5;241m.\u001B[39mhandles\u001B[38;5;241m.\u001B[39mhandle\n",
      "File \u001B[0;32m~/mambaforge/envs/vec2text_inter/lib/python3.10/site-packages/pandas/io/common.py:863\u001B[0m, in \u001B[0;36mget_handle\u001B[0;34m(path_or_buf, mode, encoding, compression, memory_map, is_text, errors, storage_options)\u001B[0m\n\u001B[1;32m    858\u001B[0m \u001B[38;5;28;01melif\u001B[39;00m \u001B[38;5;28misinstance\u001B[39m(handle, \u001B[38;5;28mstr\u001B[39m):\n\u001B[1;32m    859\u001B[0m     \u001B[38;5;66;03m# Check whether the filename is to be opened in binary mode.\u001B[39;00m\n\u001B[1;32m    860\u001B[0m     \u001B[38;5;66;03m# Binary mode does not support 'encoding' and 'newline'.\u001B[39;00m\n\u001B[1;32m    861\u001B[0m     \u001B[38;5;28;01mif\u001B[39;00m ioargs\u001B[38;5;241m.\u001B[39mencoding \u001B[38;5;129;01mand\u001B[39;00m \u001B[38;5;124m\"\u001B[39m\u001B[38;5;124mb\u001B[39m\u001B[38;5;124m\"\u001B[39m \u001B[38;5;129;01mnot\u001B[39;00m \u001B[38;5;129;01min\u001B[39;00m ioargs\u001B[38;5;241m.\u001B[39mmode:\n\u001B[1;32m    862\u001B[0m         \u001B[38;5;66;03m# Encoding\u001B[39;00m\n\u001B[0;32m--> 863\u001B[0m         handle \u001B[38;5;241m=\u001B[39m \u001B[38;5;28;43mopen\u001B[39;49m\u001B[43m(\u001B[49m\n\u001B[1;32m    864\u001B[0m \u001B[43m            \u001B[49m\u001B[43mhandle\u001B[49m\u001B[43m,\u001B[49m\n\u001B[1;32m    865\u001B[0m \u001B[43m            \u001B[49m\u001B[43mioargs\u001B[49m\u001B[38;5;241;43m.\u001B[39;49m\u001B[43mmode\u001B[49m\u001B[43m,\u001B[49m\n\u001B[1;32m    866\u001B[0m \u001B[43m            \u001B[49m\u001B[43mencoding\u001B[49m\u001B[38;5;241;43m=\u001B[39;49m\u001B[43mioargs\u001B[49m\u001B[38;5;241;43m.\u001B[39;49m\u001B[43mencoding\u001B[49m\u001B[43m,\u001B[49m\n\u001B[1;32m    867\u001B[0m \u001B[43m            \u001B[49m\u001B[43merrors\u001B[49m\u001B[38;5;241;43m=\u001B[39;49m\u001B[43merrors\u001B[49m\u001B[43m,\u001B[49m\n\u001B[1;32m    868\u001B[0m \u001B[43m            \u001B[49m\u001B[43mnewline\u001B[49m\u001B[38;5;241;43m=\u001B[39;49m\u001B[38;5;124;43m\"\u001B[39;49m\u001B[38;5;124;43m\"\u001B[39;49m\u001B[43m,\u001B[49m\n\u001B[1;32m    869\u001B[0m \u001B[43m        \u001B[49m\u001B[43m)\u001B[49m\n\u001B[1;32m    870\u001B[0m     \u001B[38;5;28;01melse\u001B[39;00m:\n\u001B[1;32m    871\u001B[0m         \u001B[38;5;66;03m# Binary mode\u001B[39;00m\n\u001B[1;32m    872\u001B[0m         handle \u001B[38;5;241m=\u001B[39m \u001B[38;5;28mopen\u001B[39m(handle, ioargs\u001B[38;5;241m.\u001B[39mmode)\n",
      "\u001B[0;31mFileNotFoundError\u001B[0m: [Errno 2] No such file or directory: 'bios_train_bsw_2_n_steps_5_df.csv'"
     ]
    }
   ],
   "source": [
    "import pandas as pd\n",
    "df_w_20_steps = pd.read_csv(bios_train_bsw_2_n_steps_5_df.csv)\n",
    "df_w_20_steps"
   ],
   "metadata": {
    "collapsed": false,
    "ExecuteTime": {
     "end_time": "2024-01-30T21:05:39.522585627Z",
     "start_time": "2024-01-30T21:05:39.160013258Z"
    }
   }
  },
  {
   "cell_type": "code",
   "execution_count": 6,
   "outputs": [],
   "source": [
    "pd.set_option('display.max_colwidth', None)"
   ],
   "metadata": {
    "collapsed": false,
    "ExecuteTime": {
     "end_time": "2024-01-26T19:17:45.230916024Z",
     "start_time": "2024-01-26T19:17:45.227120548Z"
    }
   }
  },
  {
   "cell_type": "code",
   "execution_count": 7,
   "outputs": [
    {
     "data": {
      "text/plain": "hard_text                Dr. Korendovych received his PhD from Tufts University for his work on oxygen activation . He then moved on to the University of Pennsylvania Medical School where he developed small protein catalysts . Since 2011 , he has taught at Syracuse University . His current research interests are focused on discovery of antimicrobial drugs as well as creating biosensors for metals . Dr. Korendovych is a recipient of the 2007 Young Investigator Award from the American Chemical Society in Inorganic Chemistry .\ntransformed_hard_text                                                                                                                                                                                                                                                                                                                                                                               earned PhD in Molecular Therapeutics. In recent years, Kordynov is involved in research in the area of neuroscience. In 2007, she was invited\nName: 100, dtype: object"
     },
     "execution_count": 7,
     "metadata": {},
     "output_type": "execute_result"
    }
   ],
   "source": [
    "df.loc[100, ['hard_text', 'transformed_hard_text']]"
   ],
   "metadata": {
    "collapsed": false,
    "ExecuteTime": {
     "end_time": "2024-01-26T19:17:51.691297977Z",
     "start_time": "2024-01-26T19:17:51.685545538Z"
    }
   }
  },
  {
   "cell_type": "code",
   "execution_count": 5,
   "outputs": [
    {
     "data": {
      "text/plain": "('Dr. Korendovych received his PhD from Tufts University for his work on oxygen activation . He then moved on to the University of Pennsylvania Medical School where he developed small protein catalysts . Since 2011 , he has taught at Syracuse University . His current research interests are focused on discovery of antimicrobial drugs as well as creating biosensors for metals . Dr. Korendovych is a recipient of the 2007 Young Investigator Award from the American Chemical Society in Inorganic Chemistry .',\n 'earned PhD in Molecular Therapeutics. In recent years, Kordynov is involved in research in the area of neuroscience. In 2007, she was invited')"
     },
     "execution_count": 5,
     "metadata": {},
     "output_type": "execute_result"
    }
   ],
   "source": [
    "df.loc[100, ['hard_text', 'transformed_hard_text']]['hard_text'], df.loc[100, ['hard_text', 'transformed_hard_text']]['transformed_hard_text']"
   ],
   "metadata": {
    "collapsed": false,
    "ExecuteTime": {
     "end_time": "2024-01-26T19:17:22.556370860Z",
     "start_time": "2024-01-26T19:17:22.552361972Z"
    }
   }
  },
  {
   "cell_type": "code",
   "execution_count": 9,
   "outputs": [
    {
     "data": {
      "text/plain": "('Most of her clients are women in their 30s , most of their problems start with a few glasses of wine after work and she says joking about over - drinking is a defence mechanism taken on by women concerned about their habit .',\n \"30's, has said that drinking is a joke about women. He has described it as a defence mechanism against over-compensating problems\")"
     },
     "execution_count": 9,
     "metadata": {},
     "output_type": "execute_result"
    }
   ],
   "source": [
    "\"\"\"\n",
    "This example expose the inherent shovinizem by the introduced by the model, even when the bias was supposed to be removed.\n",
    "\"\"\"\n",
    "i=101\n",
    "df.loc[i]['hard_text'], df.loc[i]['transformed_hard_text']"
   ],
   "metadata": {
    "collapsed": false,
    "ExecuteTime": {
     "end_time": "2024-01-26T19:19:14.351851132Z",
     "start_time": "2024-01-26T19:19:14.311208465Z"
    }
   }
  },
  {
   "cell_type": "code",
   "execution_count": 6,
   "outputs": [
    {
     "data": {
      "text/plain": "(131932,\n 'Kent began his employment in the Library of Congress in 1971 as an examiner in the Arts Section ( now the Visual Arts Division ) of the Copyright Office . In 1973 , Kent was promoted to staff attorney on the legal staff of the Examining Division . In 1977 , Kent ’s position was transferred to the General Counsel ’s Office in a reorganization of the Copyright Office . Kent served as Chief Negotiator of the Guild for more than 15 years , taking a lead position in bargaining collectively with management over master contract issues , and at mid - term . Currently , Kent is serving as a steward in Library Services II .',\n 'took office in 1984, Kent was placed as an Assistant to the Chief Legal Adviser to the Office of the Chief Legal Adviser to the National')"
     },
     "execution_count": 6,
     "metadata": {},
     "output_type": "execute_result"
    }
   ],
   "source": [
    "import pandas as pd\n",
    "df_w_20_steps = pd.read_csv('../vec2text_inter/bios_data/bios_train_bsw_4_n_steps_20_df.csv')\n",
    "sample(df_w_20_steps)"
   ],
   "metadata": {
    "collapsed": false,
    "ExecuteTime": {
     "end_time": "2024-01-30T21:06:46.622690503Z",
     "start_time": "2024-01-30T21:06:41.041692832Z"
    }
   }
  },
  {
   "cell_type": "code",
   "execution_count": 16,
   "outputs": [
    {
     "data": {
      "text/plain": "(33439,\n 'Over the years , he has worked in C#.NET and .NET Web technologies . His area of expertise is in PDF and image processing . He is currently working on the multi - format document viewer and editor technologies for .NET .',\n 'Since the late 2000s she has been working in the area of file sharing and document management. She is proficient in PDF and PDF/NET formats. She')"
     },
     "execution_count": 16,
     "metadata": {},
     "output_type": "execute_result"
    }
   ],
   "source": [
    "sample(df_w_20_steps)"
   ],
   "metadata": {
    "collapsed": false,
    "ExecuteTime": {
     "end_time": "2024-01-30T21:07:24.663091559Z",
     "start_time": "2024-01-30T21:07:24.656939150Z"
    }
   }
  },
  {
   "cell_type": "code",
   "execution_count": 20,
   "outputs": [
    {
     "data": {
      "text/plain": "(116547,\n 'His paintings have been exhibited at the Heckscher Museum , the Nassau County Museum of Art , The Delaware Art Museum , Old Westbury Gardens , the Firehouse Gallery , Katrina Rich Perlow Gallery NYC , the Salmagundi Club , the Sky Art Gallery NYC , Long Island Art Museum , and the Grenning Gallery in Sag Harbor , NY .',\n 'She is in the Gettysburg County Museum of Art. Her shows include: Newark, KS Gallery, West 141st Street, Dahl')"
     },
     "execution_count": 20,
     "metadata": {},
     "output_type": "execute_result"
    }
   ],
   "source": [
    "sample(df)"
   ],
   "metadata": {
    "collapsed": false,
    "ExecuteTime": {
     "end_time": "2024-01-30T20:44:41.925332737Z",
     "start_time": "2024-01-30T20:44:41.863243120Z"
    }
   }
  },
  {
   "cell_type": "code",
   "execution_count": 16,
   "outputs": [
    {
     "data": {
      "text/plain": "(167369,\n 'He graduated with a Bachelor of Chemical Engineering and a PhD in Biology from NUS . He did his postdoctoral studies in Howard Hughes Medical Institute , University of Pennsylvania Medical School and returned to NUS as a Lee Kuan Yew Postdoctoral Fellow and later joined his alma mater department as an Asst Professor in 2010 . He has contributed to diverse topics spanning from chemical synthesis to sensor development ; nanosafety to nanomedicine topics .',\n 'attended the University of Singapore as a nuclear pathologist after completing her M.Sc. in Health Science in 2010 and has been on faculty at')"
     },
     "execution_count": 16,
     "metadata": {},
     "output_type": "execute_result"
    }
   ],
   "source": [
    "df = pd.read_csv('../bios_data/bios_train_df.csv')\n",
    "sample(df)"
   ],
   "metadata": {
    "collapsed": false,
    "ExecuteTime": {
     "end_time": "2024-01-30T18:52:16.393495063Z",
     "start_time": "2024-01-30T18:52:10.623928593Z"
    }
   }
  },
  {
   "cell_type": "code",
   "execution_count": 2,
   "outputs": [
    {
     "ename": "NameError",
     "evalue": "name 'df' is not defined",
     "output_type": "error",
     "traceback": [
      "\u001B[0;31m---------------------------------------------------------------------------\u001B[0m",
      "\u001B[0;31mNameError\u001B[0m                                 Traceback (most recent call last)",
      "Cell \u001B[0;32mIn[2], line 5\u001B[0m\n\u001B[1;32m      3\u001B[0m     i \u001B[38;5;241m=\u001B[39m np\u001B[38;5;241m.\u001B[39mrandom\u001B[38;5;241m.\u001B[39mrandint(\u001B[38;5;241m0\u001B[39m, df\u001B[38;5;241m.\u001B[39mshape[\u001B[38;5;241m0\u001B[39m])\n\u001B[1;32m      4\u001B[0m     \u001B[38;5;28;01mreturn\u001B[39;00m i, df\u001B[38;5;241m.\u001B[39mloc[i][\u001B[38;5;124m'\u001B[39m\u001B[38;5;124mhard_text\u001B[39m\u001B[38;5;124m'\u001B[39m], df\u001B[38;5;241m.\u001B[39mloc[i][\u001B[38;5;124m'\u001B[39m\u001B[38;5;124mtransformed_hard_text\u001B[39m\u001B[38;5;124m'\u001B[39m]\n\u001B[0;32m----> 5\u001B[0m sample(\u001B[43mdf\u001B[49m)\n",
      "\u001B[0;31mNameError\u001B[0m: name 'df' is not defined"
     ]
    }
   ],
   "source": [
    "import numpy as np\n",
    "def sample(df):\n",
    "    i = np.random.randint(0, df.shape[0])\n",
    "    return i, df.loc[i]['hard_text'], df.loc[i]['transformed_hard_text']\n",
    "sample(df)"
   ],
   "metadata": {
    "collapsed": false,
    "ExecuteTime": {
     "end_time": "2024-01-30T21:05:28.825103202Z",
     "start_time": "2024-01-30T21:05:28.803800184Z"
    }
   }
  },
  {
   "cell_type": "code",
   "execution_count": 14,
   "outputs": [
    {
     "data": {
      "text/plain": "(187857,\n 'His writing -- available at jeffgissing.com-- focuses on the intersection of religion , theology , and culture . His work has been featured on RealClear religion , worldviewchurch.org , VirtueOnline , and layman , org .',\n 'Her writing is available on www.jeffgiss.com, focusing on culture, religion, and the intersection of the rich and practical')"
     },
     "execution_count": 14,
     "metadata": {},
     "output_type": "execute_result"
    }
   ],
   "source": [
    "import numpy as np\n",
    "def sample(df):\n",
    "    i = np.random.randint(0, df.shape[0])\n",
    "    return i, df.loc[i]['hard_text'], df.loc[i]['transformed_hard_text']\n",
    "sample(df) # Beautiful"
   ],
   "metadata": {
    "collapsed": false,
    "ExecuteTime": {
     "end_time": "2024-01-26T19:22:39.958398922Z",
     "start_time": "2024-01-26T19:22:39.914995135Z"
    }
   }
  },
  {
   "cell_type": "code",
   "execution_count": 18,
   "outputs": [
    {
     "data": {
      "text/plain": "(197166,\n 'In counseling private investment funds on their formation and investment activities she helps clients navigate the maze of laws and regulations when raising and deploying private capital . Elizabeth also has substantial experience on advising strategic and financial buyers , sellers and investors in a wide variety of transactions , including mergers , acquisitions , divestitures , joint ventures , minority investments and strategic partnerships in the U.S. and overseas . Elizabeth graduated from the University of Illinois College of Law ( JD ) and Truman State University ( BA in French ) . Elizabeth splits her time between Eagle County and Denver and is passionate about spending time with family and friends outside in the Colorado sunshine .',\n 'has studied in securities markets and in private equity and investment banking. He has been a consultant to various state and local government agencies and organizations: “Co')"
     },
     "execution_count": 18,
     "metadata": {},
     "output_type": "execute_result"
    }
   ],
   "source": [
    "sample(df)"
   ],
   "metadata": {
    "collapsed": false,
    "ExecuteTime": {
     "end_time": "2024-01-26T19:23:39.292009381Z",
     "start_time": "2024-01-26T19:23:39.250637658Z"
    }
   }
  },
  {
   "cell_type": "code",
   "execution_count": 19,
   "outputs": [
    {
     "data": {
      "text/plain": "(239782,\n 'He has covered cryptocurrency news for CoinDesk and VICE Motherboard , and contributed features on a range of topics to BuzzFeed , Ars Techica and the Atlantic ’s CityLab among others .',\n 'She covered Bitcoin news for VegCourt and has contributed to various forums such as Mothers & Daughters, VEX, and Asia')"
     },
     "execution_count": 19,
     "metadata": {},
     "output_type": "execute_result"
    }
   ],
   "source": [
    "sample(df)"
   ],
   "metadata": {
    "collapsed": false,
    "ExecuteTime": {
     "end_time": "2024-01-26T19:54:17.454634246Z",
     "start_time": "2024-01-26T19:54:17.446509960Z"
    }
   }
  },
  {
   "cell_type": "code",
   "execution_count": 20,
   "outputs": [
    {
     "data": {
      "text/plain": "(169861,\n 'He holds a master of fine arts from the Royal College of Art and a bachelor of fine arts from the Rhode Island School of Design . For the past 12 years he has led multidisciplinary teams at the IDEO Chicago office for companies in the consumer electronics , medical , and furniture industries .',\n \"she holds a master's degree in industrial design from the Royal College of Art and Design, Chicago. Over the past couple of years she has continued\")"
     },
     "execution_count": 20,
     "metadata": {},
     "output_type": "execute_result"
    }
   ],
   "source": [
    "sample(df)"
   ],
   "metadata": {
    "collapsed": false,
    "ExecuteTime": {
     "end_time": "2024-01-26T19:55:18.119077386Z",
     "start_time": "2024-01-26T19:55:18.111280124Z"
    }
   }
  },
  {
   "cell_type": "code",
   "execution_count": 21,
   "outputs": [
    {
     "data": {
      "text/plain": "(120266,\n \"Keylon has more than 15 years of experience in science education and research at the undergraduate , graduate and post - doctoral level . He is an enthusiastic and engaging Professor who previously worked at SUNY Schenectady County Community College as the Coordinator of the College 's brand new Biotechnology Facility , and Faculty Member through the Internship Program for the Development of Minority Faculty . Keylon holds a Ph.D. and M.S. degree in Biomedical Sciences with an emphasis in Cell and Molecular Biology and Immunology from Albany Medical College and a B.S. in Biochemistry from Andrews University . Dr. Cheeseman 's currently conducting research mapping the ribosomal DNA ( rDNA ) gene of Chamaelirium luteum 's genome .\",\n 'Brooklyn, NY - 104-104. Keylon has been a Senior Academician of the Faculty of Education and Technology at the Faculty of')"
     },
     "execution_count": 21,
     "metadata": {},
     "output_type": "execute_result"
    }
   ],
   "source": [
    "sample(df)"
   ],
   "metadata": {
    "collapsed": false,
    "ExecuteTime": {
     "end_time": "2024-01-26T19:55:33.042606086Z",
     "start_time": "2024-01-26T19:55:33.001294571Z"
    }
   }
  },
  {
   "cell_type": "code",
   "execution_count": 22,
   "outputs": [
    {
     "data": {
      "text/plain": "(28685,\n 'He studies the use of research , assessment , and evaluation to improve both classroom instruction and student outcomes . Specifically , he investigates value - added models , assessment validity , and the analysis of aggregated unit pre / post - assessments to study the impact of interventions on student subgroups .',\n 'assessments. She evaluates research and development in the area of teacher evaluation, inclusion, and/or reinforcement of student outcomes, in addition to the use models')"
     },
     "execution_count": 22,
     "metadata": {},
     "output_type": "execute_result"
    }
   ],
   "source": [
    "sample(df)"
   ],
   "metadata": {
    "collapsed": false,
    "ExecuteTime": {
     "end_time": "2024-01-26T19:55:40.068609073Z",
     "start_time": "2024-01-26T19:55:40.056515808Z"
    }
   }
  },
  {
   "cell_type": "code",
   "execution_count": 7,
   "outputs": [
    {
     "ename": "NameError",
     "evalue": "name 'sample' is not defined",
     "output_type": "error",
     "traceback": [
      "\u001B[0;31m---------------------------------------------------------------------------\u001B[0m",
      "\u001B[0;31mNameError\u001B[0m                                 Traceback (most recent call last)",
      "Cell \u001B[0;32mIn[7], line 1\u001B[0m\n\u001B[0;32m----> 1\u001B[0m \u001B[43msample\u001B[49m(df)\n",
      "\u001B[0;31mNameError\u001B[0m: name 'sample' is not defined"
     ]
    }
   ],
   "source": [
    "sample(df)"
   ],
   "metadata": {
    "collapsed": false,
    "ExecuteTime": {
     "end_time": "2024-01-26T21:32:05.449725355Z",
     "start_time": "2024-01-26T21:32:04.420959660Z"
    }
   }
  },
  {
   "cell_type": "code",
   "execution_count": null,
   "outputs": [],
   "source": [],
   "metadata": {
    "collapsed": false
   }
  },
  {
   "cell_type": "code",
   "execution_count": 2,
   "outputs": [
    {
     "data": {
      "text/plain": "(184959,\n \"His areas of expertise include the following : adrenalectomy ( adrenal surgery ) , laparoscopic sleeve gastrectomy , and metabolic syndrome . Dr. Kammerer honors United Healthcare Platinum , United Healthcare Navigate , Coventry , and more . He attended St. George 's University School of Medicine and then went on to complete his residency at Orlando Regional Medical Center . His professional affiliations include Methodist Hospital Division of Thomas Jefferson University Hospital and Thomas Jefferson University Hospital .\",\n nan)"
     },
     "execution_count": 2,
     "metadata": {},
     "output_type": "execute_result"
    }
   ],
   "source": [
    "import pandas as pd\n",
    "import numpy as np\n",
    "def sample(df):\n",
    "    i = np.random.randint(0, df.shape[0])\n",
    "    return i, df.loc[i]['hard_text'], df.loc[i]['transformed_hard_text']\n",
    "df_w_20_steps = pd.read_csv('../vec2text_inter/bios_data/bios_train_bsw_4_n_steps_20_df.csv')\n",
    "sample(df_w_20_steps)"
   ],
   "metadata": {
    "collapsed": false,
    "ExecuteTime": {
     "end_time": "2024-01-31T10:41:02.204609319Z",
     "start_time": "2024-01-31T10:40:56.928064232Z"
    }
   }
  },
  {
   "cell_type": "code",
   "execution_count": 9,
   "outputs": [
    {
     "data": {
      "text/plain": "        g             p                                               text  \\\n263     m     architect  Juancarlos Lazarte is an architect by professi...   \n295     f     professor  ~Dr. Keri L. Colabroy is an Associate Professo...   \n341     m     professor  Mark H. Dixon is an Associate Professor of Phi...   \n490     m     professor  Prof. Fernando Rosario-Ortiz is an Associate P...   \n520     f    journalist  Kalea Yoshida is a freelance journalist who ha...   \n...    ..           ...                                                ...   \n254559  f     physician  Linda Biehl is a certified Physician Assistant...   \n254600  m     professor  Dr Gorkem Altinors is an Assistant Professor a...   \n254898  m  psychologist  Dr Tom Williamson is a psychologist who develo...   \n255143  f    journalist  Firdose Moonda is a journalist based in Cape T...   \n255191  f       teacher  Dr. Polyxeni Billa is a teacher of Ancient and...   \n\n        start                                          hard_text  \\\n263      49.0  His dedication to building design allowed him ...   \n295      83.0  She engages undergraduates in research in the ...   \n341      54.0  His primary research interests are in environm...   \n490     170.0  His research focuses on environmental photoche...   \n520     185.0  She attained her undergraduate degree from the...   \n...       ...                                                ...   \n254559  135.0  She obtained a Bachelor of Science degree in P...   \n254600  154.0  His research interests extend from internation...   \n254898  187.0  Since his retirement he has been made a senior...   \n255143   50.0  Most of her work is concerned with sports writ...   \n255191   84.0  She has more than 20 years of experience in te...   \n\n                                    hard_text_untokenized  \\\n263     His dedication to building design allowed him ...   \n295     She engages undergraduates in research in the ...   \n341     His primary research interests are in environm...   \n490     His research focuses on environmental photoche...   \n520     She attained her undergraduate degree from the...   \n...                                                   ...   \n254559  She obtained a Bachelor of Science degree in P...   \n254600  His research interests extend from internation...   \n254898  Since his retirement he has been made a senior...   \n255143  Most of her work is concerned with sports writ...   \n255191  She has more than 20 years of experience in te...   \n\n                                      text_without_gender  \\\n263     _ dedication to building design allowed _ to w...   \n295     _ engages undergraduates in research in the te...   \n341     _ primary research interests are in environmen...   \n490     _ research focuses on environmental photochemi...   \n520     _ attained _ undergraduate degree from the Uni...   \n...                                                   ...   \n254559  _ obtained a Bachelor of Science degree in Phy...   \n254600  _ research interests extend from international...   \n254898  Since _ retirement _ has been made a senior re...   \n255143  Most of _ work is concerned with sports writin...   \n255191  _ has more than 20 years of experience in teac...   \n\n                                    transformed_hard_text  \n263     In dedication and design work allowed her to w...  \n295     He engages undergraduates in teaching research...  \n341     Her research interests are environmental philo...  \n490     Her research focuses on the environmental impa...  \n520     He attained his undergraduate degree from the ...  \n...                                                   ...  \n254559  He obtained a Bachelor of Science degree in Ph...  \n254600  She is currently working with several research...  \n254898  since her retirement she has been an adjunct l...  \n255143  Most of his work is concerned with culture but...  \n255191  He has more than 20 years of experience in tea...  \n\n[1722 rows x 8 columns]",
      "text/html": "<div>\n<style scoped>\n    .dataframe tbody tr th:only-of-type {\n        vertical-align: middle;\n    }\n\n    .dataframe tbody tr th {\n        vertical-align: top;\n    }\n\n    .dataframe thead th {\n        text-align: right;\n    }\n</style>\n<table border=\"1\" class=\"dataframe\">\n  <thead>\n    <tr style=\"text-align: right;\">\n      <th></th>\n      <th>g</th>\n      <th>p</th>\n      <th>text</th>\n      <th>start</th>\n      <th>hard_text</th>\n      <th>hard_text_untokenized</th>\n      <th>text_without_gender</th>\n      <th>transformed_hard_text</th>\n    </tr>\n  </thead>\n  <tbody>\n    <tr>\n      <th>263</th>\n      <td>m</td>\n      <td>architect</td>\n      <td>Juancarlos Lazarte is an architect by professi...</td>\n      <td>49.0</td>\n      <td>His dedication to building design allowed him ...</td>\n      <td>His dedication to building design allowed him ...</td>\n      <td>_ dedication to building design allowed _ to w...</td>\n      <td>In dedication and design work allowed her to w...</td>\n    </tr>\n    <tr>\n      <th>295</th>\n      <td>f</td>\n      <td>professor</td>\n      <td>~Dr. Keri L. Colabroy is an Associate Professo...</td>\n      <td>83.0</td>\n      <td>She engages undergraduates in research in the ...</td>\n      <td>She engages undergraduates in research in the ...</td>\n      <td>_ engages undergraduates in research in the te...</td>\n      <td>He engages undergraduates in teaching research...</td>\n    </tr>\n    <tr>\n      <th>341</th>\n      <td>m</td>\n      <td>professor</td>\n      <td>Mark H. Dixon is an Associate Professor of Phi...</td>\n      <td>54.0</td>\n      <td>His primary research interests are in environm...</td>\n      <td>His primary research interests are in environm...</td>\n      <td>_ primary research interests are in environmen...</td>\n      <td>Her research interests are environmental philo...</td>\n    </tr>\n    <tr>\n      <th>490</th>\n      <td>m</td>\n      <td>professor</td>\n      <td>Prof. Fernando Rosario-Ortiz is an Associate P...</td>\n      <td>170.0</td>\n      <td>His research focuses on environmental photoche...</td>\n      <td>His research focuses on environmental photoche...</td>\n      <td>_ research focuses on environmental photochemi...</td>\n      <td>Her research focuses on the environmental impa...</td>\n    </tr>\n    <tr>\n      <th>520</th>\n      <td>f</td>\n      <td>journalist</td>\n      <td>Kalea Yoshida is a freelance journalist who ha...</td>\n      <td>185.0</td>\n      <td>She attained her undergraduate degree from the...</td>\n      <td>She attained her undergraduate degree from the...</td>\n      <td>_ attained _ undergraduate degree from the Uni...</td>\n      <td>He attained his undergraduate degree from the ...</td>\n    </tr>\n    <tr>\n      <th>...</th>\n      <td>...</td>\n      <td>...</td>\n      <td>...</td>\n      <td>...</td>\n      <td>...</td>\n      <td>...</td>\n      <td>...</td>\n      <td>...</td>\n    </tr>\n    <tr>\n      <th>254559</th>\n      <td>f</td>\n      <td>physician</td>\n      <td>Linda Biehl is a certified Physician Assistant...</td>\n      <td>135.0</td>\n      <td>She obtained a Bachelor of Science degree in P...</td>\n      <td>She obtained a Bachelor of Science degree in P...</td>\n      <td>_ obtained a Bachelor of Science degree in Phy...</td>\n      <td>He obtained a Bachelor of Science degree in Ph...</td>\n    </tr>\n    <tr>\n      <th>254600</th>\n      <td>m</td>\n      <td>professor</td>\n      <td>Dr Gorkem Altinors is an Assistant Professor a...</td>\n      <td>154.0</td>\n      <td>His research interests extend from internation...</td>\n      <td>His research interests extend from internation...</td>\n      <td>_ research interests extend from international...</td>\n      <td>She is currently working with several research...</td>\n    </tr>\n    <tr>\n      <th>254898</th>\n      <td>m</td>\n      <td>psychologist</td>\n      <td>Dr Tom Williamson is a psychologist who develo...</td>\n      <td>187.0</td>\n      <td>Since his retirement he has been made a senior...</td>\n      <td>Since his retirement he has been made a senior...</td>\n      <td>Since _ retirement _ has been made a senior re...</td>\n      <td>since her retirement she has been an adjunct l...</td>\n    </tr>\n    <tr>\n      <th>255143</th>\n      <td>f</td>\n      <td>journalist</td>\n      <td>Firdose Moonda is a journalist based in Cape T...</td>\n      <td>50.0</td>\n      <td>Most of her work is concerned with sports writ...</td>\n      <td>Most of her work is concerned with sports writ...</td>\n      <td>Most of _ work is concerned with sports writin...</td>\n      <td>Most of his work is concerned with culture but...</td>\n    </tr>\n    <tr>\n      <th>255191</th>\n      <td>f</td>\n      <td>teacher</td>\n      <td>Dr. Polyxeni Billa is a teacher of Ancient and...</td>\n      <td>84.0</td>\n      <td>She has more than 20 years of experience in te...</td>\n      <td>She has more than 20 years of experience in te...</td>\n      <td>_ has more than 20 years of experience in teac...</td>\n      <td>He has more than 20 years of experience in tea...</td>\n    </tr>\n  </tbody>\n</table>\n<p>1722 rows × 8 columns</p>\n</div>"
     },
     "execution_count": 9,
     "metadata": {},
     "output_type": "execute_result"
    }
   ],
   "source": [
    "df_w_20_steps[~df_w_20_steps['transformed_hard_text'].isna()]"
   ],
   "metadata": {
    "collapsed": false,
    "ExecuteTime": {
     "end_time": "2024-01-31T10:43:55.612898397Z",
     "start_time": "2024-01-31T10:43:55.572079960Z"
    }
   }
  },
  {
   "cell_type": "code",
   "execution_count": 30,
   "outputs": [],
   "source": [
    "df_w_20_steps[~df_w_20_steps['transformed_hard_text'].isna()].to_csv('bios_train_bs__rs_20.csv')"
   ],
   "metadata": {
    "collapsed": false,
    "ExecuteTime": {
     "end_time": "2024-01-31T11:16:49.614958622Z",
     "start_time": "2024-01-31T11:16:49.532527666Z"
    }
   }
  },
  {
   "cell_type": "code",
   "execution_count": 14,
   "outputs": [
    {
     "name": "stdout",
     "output_type": "stream",
     "text": [
      "0\n",
      "His dedication to building design allowed him to work in a variety of commercial , institutional and residential projects in various parts of the world .\n",
      "In dedication and design work allowed her to work in a variety of institutional projects around the world, including those involving the building's residential area.\n",
      "1\n",
      "She engages undergraduates in research in the teaching lab and through independent study investigating enzymes in bacterial natural product biosynthesis .\n",
      "He engages undergraduates in teaching research in the lab through independent study in investigating enzymes in bacterial biosynthesis  natural product .\n",
      "2\n",
      "His primary research interests are in environmental philosophy and environmental ethics . He has published articles in environmental ethics and in the philosophy of architecture .\n",
      "Her research interests are environmental philosophy and environmental ethics. She has published articles on environmental philosophy and ethics. She has also written articles on the primary philosophy of art\n",
      "3\n",
      "His research focuses on environmental photochemistry , impact of watershed perturbations on water quality and characterization of organic matter in different environments .\n",
      "Her research focuses on the environmental impact of organic photochemistry, water perturbations, and watershed dynamics and their interactions with the environment. She also \n",
      "4\n",
      "She attained her undergraduate degree from the University of Nevada , Las Vegas in mass communications and later completed graduate school at Arizona State University in 2006 .\n",
      "He attained his undergraduate degree from the University of Nevada, Las Vegas in mass communications and later completed graduate school at Arizona State University in 2006 and later.\n",
      "5\n",
      "He is the Assistant Director of Operations for Stanford University 's Counseling and Psychological Services and has a private practice in San Francisco .\n",
      "She is an Assistant Director of Counseling and Psychological Services at the Stanford University's Center for Psychotherapy and Practice in San Francisco. specializing\n",
      "6\n",
      "He graduated from National University Of Health Sciences / National College Of Chiropractic in 1984 and specializes in chiropractic , rehabilitation , and more .\n",
      "& Health Sciences, and graduated from the University of North Carolina College of Chiropractic in 1984. She specializes in a holistic lifestyle and a rehabilitation\n",
      "7\n",
      "She focuses primarily on representing clients in commercial and civil litigation , including real estate and general commercial and employment disputes .\n",
      "He focuses primarily on representing clients in civil and employment litigation, which includes general and commercial disputes   &  real estate.\n",
      "8\n",
      "She graduated with her Bachelors degree from the University of Florida and received her Masters and Doctorate in Clinical Psychology from Nova Southeastern University .\n",
      "He graduated with his Bachelor's degree from the University of Florida and received his Masters and Doctorate in Clinical Psychology from Nova Southeastern University ().\n",
      "9\n",
      "His research interests revolve around temporal advances in technology and function of prehistoric stone tools , especially prehistoric hunting technology .\n",
      "Her research interests revolve around prehistoric technology and the prehistorical use of stone tools, particularly the advancement of prehistoric hunting techniques. Her time travel,\n",
      "10\n",
      "His works reflect his activities as a role model and mentor in the academic environment . Drawing and printmaking are the primary fields of his teaching .\n",
      "Her works reflect the teaching environment and are the primary model for her activities in printmaking and drawing. Her teaching is supported by mentors and academics.\n",
      "11\n",
      "He is a member of various professional associations and societies and has published many research publications , articles , conference publications and manuscripts .\n",
      "She has published several publications and is a member of various professional societies and associations. She has published research articles, conference proceedings, and writings. She\n",
      "12\n",
      "While enjoying writing she is also a radio/ talk show host that simultaneously balances achieving her goals and fulfilling her dreams while still attending college .\n",
      "While still enjoying writing he is also a radio and talk show host that has the balance between attending college simultaneously fulfilling his dreams while meeting his goals.\n",
      "13\n",
      "Dennis ' academic and professional training combined with his legal experience has equipped him with the necessary tools to adequately serve his clients . Dennis C. Sweet III\n",
      "Dennis III, have trained her clients to be as competent and knowledgeable as she was necessary to help them in their legal profession. Sweet S. Dennis personal service\n",
      "14\n",
      "She also teaches in the Professional Formation Course for third - year medical students and the Patient and Physician Course for first - year medical students .\n",
      "He also teaches in the Professional Formation Course for first year medical students and the Physician - Patient Course for third year medical students and so on. \n",
      "15\n",
      "He specialises in the political economy of development and his research interests include the privatisation of public utilities and infrastructure , governance and globalisation .\n",
      "She specialises in the economic development of public and private sectors and has research interests in the areas of governance, political economy, infrastructure, globalisation and privat\n",
      "16\n",
      "His research interests include graph theory , combinatorial optimization , exact and parameterized algorithms , parallel computing and computational biology .\n",
      "Her research interests include: combinatorial biology, algorithms, parallel computing, graph theory, precision methods, optimization, and asymmetrical biology. A\n",
      "17\n",
      "Her research focuses on the relationship between experimental film and video and television . Her work has been published in the Millennium Film Journal .\n",
      "His research focuses on the relationship between experimental film and video and television. His work has been published in the Millennium Film Journal  .\n",
      "18\n",
      "She received her Masters of Science degree in Psychology at the University of Wisconsin and her undergraduate Bachelor of Arts degree at Hunter College .\n",
      "He received his Masters of Science degree in Psychology at the University of Wisconsin and his undergraduate Bachelor of Arts degree at Hunter College  .\n",
      "19\n",
      "She earned her undergraduate degree in bilingual / bicultural education from Western Illinois and completed a graduate degree in early childhood education at Erikson Institute .\n",
      "He earned his undergraduate degree in bicultural or bilingual education from Western Illinois and completed a graduate degree in early childhood oriented education at Erikson Institute.\n",
      "20\n",
      "She holds the appointments of Adjunct Clinical Instructor at the Boston University School of Medicine , and Instructor in Pediatrics at Harvard Medical School\n",
      "He holds the appointments of Adjunct Clinical Instructor at the Boston University School of Medicine, and of Instructor in Pediatrics at Harvard Medical School and Harvard\n",
      "21\n",
      "She is part of the youth activist community and uses her education and privilege as a tool for resistance to gain access to solutions that benefit all people .\n",
      "He is part of the youth activist community and uses his education and privilege as a tool for resistance to gain access to solutions that benefit all the people.\n",
      "22\n",
      "She is a certified clinical research coordinator with over 23 years of diverse experience coordinating both adult and pediatric clinical research trials .\n",
      "He is a certified clinical research coordinator with over 25 years of diverse research experience coordinating clinical trials for both pediatric and adult   Research.\n",
      "23\n",
      "Every thriving member of his organization must become one as well — because every new team player must ultimately learn how to deliver happiness to every customer .\n",
      "Every new customer must eventually become a joyful leader of the organization, so that she can learn to embrace teamwork—and to deliver to every team member\n",
      "24\n",
      "He personally enjoys engaging and interacting with students in the capacity of an academician and encouraging them to explore all possible realms of creativity .\n",
      "I personally enjoy engaging with a scholar who allows them to interact with academics and create a capacity for students to explore and engage in their creativity.\n",
      "25\n",
      "His work explores the line between art and documentary photography , investigating stories of cultural and social relevance by photographing the people involved .\n",
      "Her photographic work explores the relationship between art and culture, documenting the line between people and the world by investigating relevant cultural and social relevance. She is\n",
      "26\n",
      "He taught at various places before voluntarily retiring . He published several poetry collections which won him several major Gujarati literary awards .\n",
      "several poetry awards. She taught and published several Gujarati poetry collections and published several books. She retired from teaching after a distinguished career in rural India.\n",
      "27\n",
      "He graduated from National University Of Health Sciences / National College Of Chiropractic and specializes in chiropractic , chiropractic sports medicine , and more .\n",
      "Health Sciences, and graduated from the University of North Carolina College of Chiropractic and Sports Medicine, where she specializes in a range of chiropractic and other therapies\n",
      "28\n",
      "Schyler is extremely passionate about her field and devoted to vigorously fighting for those injured due to the negligent and unlawful acts of others .\n",
      "Schyler is extremely passionate about his field and devoted to fighting vigorously for those injured due to the negligent and unlawful acts of others. \n",
      "29\n",
      "Her current key research focus are in disability survey methodology and access to health and rehabilitation services for people with disabilities in Low and Middle Income Countries .\n",
      "His current key research focus are in disability survey methodology and access to health and rehabilitation services for people with disabilities and in the Low and Middle Income Countries. \n"
     ]
    }
   ],
   "source": [
    "n_samples = 30\n",
    "for i in range(n_samples):\n",
    "    sub_df = df_w_20_steps[~df_w_20_steps['transformed_hard_text'].isna()].reset_index().loc[i, ['hard_text', 'transformed_hard_text']]\n",
    "    print(i)\n",
    "    print(sub_df['hard_text'])\n",
    "    print(sub_df['transformed_hard_text'])"
   ],
   "metadata": {
    "collapsed": false,
    "ExecuteTime": {
     "end_time": "2024-01-31T10:50:43.426730298Z",
     "start_time": "2024-01-31T10:50:43.222341916Z"
    }
   }
  },
  {
   "cell_type": "code",
   "execution_count": 27,
   "outputs": [
    {
     "data": {
      "text/plain": "        g             p                                               text  \\\n263     m     architect  Juancarlos Lazarte is an architect by professi...   \n623     f      attorney  Kimberly L. Wallen is an attorney in Denver, C...   \n786     m     professor  Dr. Katsuhiro Sano is an assistant professor a...   \n1542    m     professor  Faisal N. Abu-Khzam is an associate professor ...   \n3809    m          poet  Rajendra Anantrai Shukla is a Gujarati poet. H...   \n...    ..           ...                                                ...   \n252117  m  photographer  Hemant Daiya is a professional photographer. H...   \n252344  m       dentist  Dr. David Ehrenfeld, DDS is a Dentist primaril...   \n253256  f     paralegal  Francesca York is a paralegal at Ruchelman P.L...   \n253500  f     professor  Tatiana S. Manolova is an associate professor ...   \n254382  m     professor  James Harland is an Associate Professor in Com...   \n\n        start                                          hard_text  \\\n263      49.0  His dedication to building design allowed him ...   \n623      48.0  She focuses primarily on representing clients ...   \n786      72.0  His research interests revolve around temporal...   \n1542     66.0  His research interests include graph theory , ...   \n3809     44.0  He taught at various places before voluntarily...   \n...       ...                                                ...   \n252117   44.0  He is currently working for a reputed hospital...   \n252344   74.0  His specialties include General Dentistry . Dr...   \n253256   51.0  She provides legal and administrative assistan...   \n253500   70.0  Her research focuses on the competitive strate...   \n254382   63.0  He is known internationally for his work on in...   \n\n                                    hard_text_untokenized  \\\n263     His dedication to building design allowed him ...   \n623     She focuses primarily on representing clients ...   \n786     His research interests revolve around temporal...   \n1542    His research interests include graph theory, c...   \n3809    He taught at various places before voluntarily...   \n...                                                   ...   \n252117  He is currently working for a reputed hospital...   \n252344  His specialties include General Dentistry. Dr....   \n253256  She provides legal and administrative assistan...   \n253500  Her research focuses on the competitive strate...   \n254382  He is known internationally for his work on in...   \n\n                                      text_without_gender  \\\n263     _ dedication to building design allowed _ to w...   \n623     _ focuses primarily on representing clients in...   \n786     _ research interests revolve around temporal a...   \n1542    _ research interests include graph theory, com...   \n3809    _ taught at various places before voluntarily ...   \n...                                                   ...   \n252117  _ is currently working for a reputed hospital ...   \n252344  _ specialties include General Dentistry. Dr. _...   \n253256  _ provides legal and administrative assistance...   \n253500  _ research focuses on the competitive strategi...   \n254382  _ is known internationally for _ work on intel...   \n\n                                    transformed_hard_text  text_length  \n263     In dedication and design work allowed her to w...         31.0  \n623     He focuses primarily on representing clients i...         29.0  \n786     Her research interests revolve around prehisto...         31.0  \n1542    Her research interests include: combinatorial ...         27.0  \n3809    several poetry awards. She taught and publishe...         28.0  \n...                                                   ...          ...  \n252117  She is currently working as a visual consultan...         29.0  \n252344  is affiliated with the Philadelphia Department...         32.0  \n253256  He provides legal and administrative support t...         29.0  \n253500  His research focuses on the competitive strate...         29.0  \n254382  She is known internationally for her work in a...         30.0  \n\n[167 rows x 9 columns]",
      "text/html": "<div>\n<style scoped>\n    .dataframe tbody tr th:only-of-type {\n        vertical-align: middle;\n    }\n\n    .dataframe tbody tr th {\n        vertical-align: top;\n    }\n\n    .dataframe thead th {\n        text-align: right;\n    }\n</style>\n<table border=\"1\" class=\"dataframe\">\n  <thead>\n    <tr style=\"text-align: right;\">\n      <th></th>\n      <th>g</th>\n      <th>p</th>\n      <th>text</th>\n      <th>start</th>\n      <th>hard_text</th>\n      <th>hard_text_untokenized</th>\n      <th>text_without_gender</th>\n      <th>transformed_hard_text</th>\n      <th>text_length</th>\n    </tr>\n  </thead>\n  <tbody>\n    <tr>\n      <th>263</th>\n      <td>m</td>\n      <td>architect</td>\n      <td>Juancarlos Lazarte is an architect by professi...</td>\n      <td>49.0</td>\n      <td>His dedication to building design allowed him ...</td>\n      <td>His dedication to building design allowed him ...</td>\n      <td>_ dedication to building design allowed _ to w...</td>\n      <td>In dedication and design work allowed her to w...</td>\n      <td>31.0</td>\n    </tr>\n    <tr>\n      <th>623</th>\n      <td>f</td>\n      <td>attorney</td>\n      <td>Kimberly L. Wallen is an attorney in Denver, C...</td>\n      <td>48.0</td>\n      <td>She focuses primarily on representing clients ...</td>\n      <td>She focuses primarily on representing clients ...</td>\n      <td>_ focuses primarily on representing clients in...</td>\n      <td>He focuses primarily on representing clients i...</td>\n      <td>29.0</td>\n    </tr>\n    <tr>\n      <th>786</th>\n      <td>m</td>\n      <td>professor</td>\n      <td>Dr. Katsuhiro Sano is an assistant professor a...</td>\n      <td>72.0</td>\n      <td>His research interests revolve around temporal...</td>\n      <td>His research interests revolve around temporal...</td>\n      <td>_ research interests revolve around temporal a...</td>\n      <td>Her research interests revolve around prehisto...</td>\n      <td>31.0</td>\n    </tr>\n    <tr>\n      <th>1542</th>\n      <td>m</td>\n      <td>professor</td>\n      <td>Faisal N. Abu-Khzam is an associate professor ...</td>\n      <td>66.0</td>\n      <td>His research interests include graph theory , ...</td>\n      <td>His research interests include graph theory, c...</td>\n      <td>_ research interests include graph theory, com...</td>\n      <td>Her research interests include: combinatorial ...</td>\n      <td>27.0</td>\n    </tr>\n    <tr>\n      <th>3809</th>\n      <td>m</td>\n      <td>poet</td>\n      <td>Rajendra Anantrai Shukla is a Gujarati poet. H...</td>\n      <td>44.0</td>\n      <td>He taught at various places before voluntarily...</td>\n      <td>He taught at various places before voluntarily...</td>\n      <td>_ taught at various places before voluntarily ...</td>\n      <td>several poetry awards. She taught and publishe...</td>\n      <td>28.0</td>\n    </tr>\n    <tr>\n      <th>...</th>\n      <td>...</td>\n      <td>...</td>\n      <td>...</td>\n      <td>...</td>\n      <td>...</td>\n      <td>...</td>\n      <td>...</td>\n      <td>...</td>\n      <td>...</td>\n    </tr>\n    <tr>\n      <th>252117</th>\n      <td>m</td>\n      <td>photographer</td>\n      <td>Hemant Daiya is a professional photographer. H...</td>\n      <td>44.0</td>\n      <td>He is currently working for a reputed hospital...</td>\n      <td>He is currently working for a reputed hospital...</td>\n      <td>_ is currently working for a reputed hospital ...</td>\n      <td>She is currently working as a visual consultan...</td>\n      <td>29.0</td>\n    </tr>\n    <tr>\n      <th>252344</th>\n      <td>m</td>\n      <td>dentist</td>\n      <td>Dr. David Ehrenfeld, DDS is a Dentist primaril...</td>\n      <td>74.0</td>\n      <td>His specialties include General Dentistry . Dr...</td>\n      <td>His specialties include General Dentistry. Dr....</td>\n      <td>_ specialties include General Dentistry. Dr. _...</td>\n      <td>is affiliated with the Philadelphia Department...</td>\n      <td>32.0</td>\n    </tr>\n    <tr>\n      <th>253256</th>\n      <td>f</td>\n      <td>paralegal</td>\n      <td>Francesca York is a paralegal at Ruchelman P.L...</td>\n      <td>51.0</td>\n      <td>She provides legal and administrative assistan...</td>\n      <td>She provides legal and administrative assistan...</td>\n      <td>_ provides legal and administrative assistance...</td>\n      <td>He provides legal and administrative support t...</td>\n      <td>29.0</td>\n    </tr>\n    <tr>\n      <th>253500</th>\n      <td>f</td>\n      <td>professor</td>\n      <td>Tatiana S. Manolova is an associate professor ...</td>\n      <td>70.0</td>\n      <td>Her research focuses on the competitive strate...</td>\n      <td>Her research focuses on the competitive strate...</td>\n      <td>_ research focuses on the competitive strategi...</td>\n      <td>His research focuses on the competitive strate...</td>\n      <td>29.0</td>\n    </tr>\n    <tr>\n      <th>254382</th>\n      <td>m</td>\n      <td>professor</td>\n      <td>James Harland is an Associate Professor in Com...</td>\n      <td>63.0</td>\n      <td>He is known internationally for his work on in...</td>\n      <td>He is known internationally for his work on in...</td>\n      <td>_ is known internationally for _ work on intel...</td>\n      <td>She is known internationally for her work in a...</td>\n      <td>30.0</td>\n    </tr>\n  </tbody>\n</table>\n<p>167 rows × 9 columns</p>\n</div>"
     },
     "execution_count": 27,
     "metadata": {},
     "output_type": "execute_result"
    }
   ],
   "source": [
    "df_w_20_steps.loc[~df_w_20_steps['transformed_hard_text'].isna(), 'text_length'] = df_w_20_steps[~df_w_20_steps['transformed_hard_text'].isna()]['text'].apply(lambda x: len(x.split()))\n",
    "df_w_20_steps[df_w_20_steps['text_length']<=32]"
   ],
   "metadata": {
    "collapsed": false,
    "ExecuteTime": {
     "end_time": "2024-01-31T10:57:07.132440183Z",
     "start_time": "2024-01-31T10:57:07.101292694Z"
    }
   }
  },
  {
   "cell_type": "code",
   "execution_count": 28,
   "outputs": [
    {
     "data": {
      "text/plain": "(167, 9)"
     },
     "execution_count": 28,
     "metadata": {},
     "output_type": "execute_result"
    }
   ],
   "source": [
    "df_w_20_steps[df_w_20_steps['text_length']<=32].shape"
   ],
   "metadata": {
    "collapsed": false,
    "ExecuteTime": {
     "end_time": "2024-01-31T10:57:22.189948500Z",
     "start_time": "2024-01-31T10:57:22.179123952Z"
    }
   }
  },
  {
   "cell_type": "code",
   "execution_count": null,
   "outputs": [],
   "source": [],
   "metadata": {
    "collapsed": false
   }
  }
 ],
 "metadata": {
  "kernelspec": {
   "display_name": "py39",
   "language": "python",
   "name": "python3"
  },
  "language_info": {
   "codemirror_mode": {
    "name": "ipython",
    "version": 3
   },
   "file_extension": ".py",
   "mimetype": "text/x-python",
   "name": "python",
   "nbconvert_exporter": "python",
   "pygments_lexer": "ipython3",
   "version": "3.9.18"
  }
 },
 "nbformat": 4,
 "nbformat_minor": 2
}
