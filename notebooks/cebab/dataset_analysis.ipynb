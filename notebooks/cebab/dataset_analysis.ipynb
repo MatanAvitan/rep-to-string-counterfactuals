{
 "cells": [
  {
   "cell_type": "code",
   "execution_count": 5,
   "metadata": {},
   "outputs": [],
   "source": [
    "import sys\n",
    "from pathlib import Path\n",
    "base_path = Path('../..')\n",
    "sys.path.insert(0, str(base_path))"
   ]
  },
  {
   "cell_type": "code",
   "execution_count": 7,
   "metadata": {},
   "outputs": [],
   "source": [
    "import tqdm\n",
    "import torch\n",
    "import pickle\n",
    "import warnings\n",
    "import vec2text\n",
    "import numpy as np\n",
    "import pandas as pd\n",
    "from typing import List\n",
    "import ot # !pip install POT\n",
    "from datasets import load_dataset\n",
    "from transformers import AutoModel, AutoTokenizer\n",
    "from sentence_transformers import SentenceTransformer\n",
    "warnings.filterwarnings(action='ignore')"
   ]
  },
  {
   "cell_type": "markdown",
   "metadata": {},
   "source": [
    "# Load dataset"
   ]
  },
  {
   "cell_type": "code",
   "execution_count": 8,
   "metadata": {},
   "outputs": [
    {
     "data": {
      "application/vnd.jupyter.widget-view+json": {
       "model_id": "cd6b92fcb1374a108a6803c14da7922e",
       "version_major": 2,
       "version_minor": 0
      },
      "text/plain": [
       "Downloading metadata:   0%|          | 0.00/2.74k [00:00<?, ?B/s]"
      ]
     },
     "metadata": {},
     "output_type": "display_data"
    },
    {
     "data": {
      "application/vnd.jupyter.widget-view+json": {
       "model_id": "15bf52b0f64b4848a784c16c77c8a132",
       "version_major": 2,
       "version_minor": 0
      },
      "text/plain": [
       "Downloading data:   0%|          | 0.00/204k [00:00<?, ?B/s]"
      ]
     },
     "metadata": {},
     "output_type": "display_data"
    },
    {
     "data": {
      "application/vnd.jupyter.widget-view+json": {
       "model_id": "e0302eaf1c3d4714ac33cb011e9a1d72",
       "version_major": 2,
       "version_minor": 0
      },
      "text/plain": [
       "Downloading data:   0%|          | 0.00/206k [00:00<?, ?B/s]"
      ]
     },
     "metadata": {},
     "output_type": "display_data"
    },
    {
     "data": {
      "application/vnd.jupyter.widget-view+json": {
       "model_id": "9685acb4aaf541c29e557423968a5417",
       "version_major": 2,
       "version_minor": 0
      },
      "text/plain": [
       "Downloading data:   0%|          | 0.00/436k [00:00<?, ?B/s]"
      ]
     },
     "metadata": {},
     "output_type": "display_data"
    },
    {
     "data": {
      "application/vnd.jupyter.widget-view+json": {
       "model_id": "6da3d1c059df4214a9eac210dbf878df",
       "version_major": 2,
       "version_minor": 0
      },
      "text/plain": [
       "Downloading data:   0%|          | 0.00/1.34M [00:00<?, ?B/s]"
      ]
     },
     "metadata": {},
     "output_type": "display_data"
    },
    {
     "data": {
      "application/vnd.jupyter.widget-view+json": {
       "model_id": "7ef8097a5e02411fb9a91ac7336b2501",
       "version_major": 2,
       "version_minor": 0
      },
      "text/plain": [
       "Downloading data:   0%|          | 0.00/424k [00:00<?, ?B/s]"
      ]
     },
     "metadata": {},
     "output_type": "display_data"
    },
    {
     "data": {
      "application/vnd.jupyter.widget-view+json": {
       "model_id": "e330a998a2a44d2fb642dfd016dc89f3",
       "version_major": 2,
       "version_minor": 0
      },
      "text/plain": [
       "Generating validation split:   0%|          | 0/1673 [00:00<?, ? examples/s]"
      ]
     },
     "metadata": {},
     "output_type": "display_data"
    },
    {
     "data": {
      "application/vnd.jupyter.widget-view+json": {
       "model_id": "a6179c0edfdf4df7ac6583b41788a31d",
       "version_major": 2,
       "version_minor": 0
      },
      "text/plain": [
       "Generating test split:   0%|          | 0/1689 [00:00<?, ? examples/s]"
      ]
     },
     "metadata": {},
     "output_type": "display_data"
    },
    {
     "data": {
      "application/vnd.jupyter.widget-view+json": {
       "model_id": "ddccb972fdbc455ab40ffd4b77f3bbf8",
       "version_major": 2,
       "version_minor": 0
      },
      "text/plain": [
       "Generating train_exclusive split:   0%|          | 0/1755 [00:00<?, ? examples/s]"
      ]
     },
     "metadata": {},
     "output_type": "display_data"
    },
    {
     "data": {
      "application/vnd.jupyter.widget-view+json": {
       "model_id": "24e3f1857769425f8e091197231ccf6d",
       "version_major": 2,
       "version_minor": 0
      },
      "text/plain": [
       "Generating train_inclusive split:   0%|          | 0/11728 [00:00<?, ? examples/s]"
      ]
     },
     "metadata": {},
     "output_type": "display_data"
    },
    {
     "data": {
      "application/vnd.jupyter.widget-view+json": {
       "model_id": "c3203ea382cf494e92237a4b00298e98",
       "version_major": 2,
       "version_minor": 0
      },
      "text/plain": [
       "Generating train_observational split:   0%|          | 0/1755 [00:00<?, ? examples/s]"
      ]
     },
     "metadata": {},
     "output_type": "display_data"
    },
    {
     "data": {
      "text/plain": [
       "DatasetDict({\n",
       "    validation: Dataset({\n",
       "        features: ['id', 'original_id', 'edit_id', 'is_original', 'edit_goal', 'edit_type', 'edit_worker', 'description', 'review_majority', 'review_label_distribution', 'review_workers', 'food_aspect_majority', 'ambiance_aspect_majority', 'service_aspect_majority', 'noise_aspect_majority', 'food_aspect_label_distribution', 'ambiance_aspect_label_distribution', 'service_aspect_label_distribution', 'noise_aspect_label_distribution', 'food_aspect_validation_workers', 'ambiance_aspect_validation_workers', 'service_aspect_validation_workers', 'noise_aspect_validation_workers', 'opentable_metadata'],\n",
       "        num_rows: 1673\n",
       "    })\n",
       "    test: Dataset({\n",
       "        features: ['id', 'original_id', 'edit_id', 'is_original', 'edit_goal', 'edit_type', 'edit_worker', 'description', 'review_majority', 'review_label_distribution', 'review_workers', 'food_aspect_majority', 'ambiance_aspect_majority', 'service_aspect_majority', 'noise_aspect_majority', 'food_aspect_label_distribution', 'ambiance_aspect_label_distribution', 'service_aspect_label_distribution', 'noise_aspect_label_distribution', 'food_aspect_validation_workers', 'ambiance_aspect_validation_workers', 'service_aspect_validation_workers', 'noise_aspect_validation_workers', 'opentable_metadata'],\n",
       "        num_rows: 1689\n",
       "    })\n",
       "    train_exclusive: Dataset({\n",
       "        features: ['id', 'original_id', 'edit_id', 'is_original', 'edit_goal', 'edit_type', 'edit_worker', 'description', 'review_majority', 'review_label_distribution', 'review_workers', 'food_aspect_majority', 'ambiance_aspect_majority', 'service_aspect_majority', 'noise_aspect_majority', 'food_aspect_label_distribution', 'ambiance_aspect_label_distribution', 'service_aspect_label_distribution', 'noise_aspect_label_distribution', 'food_aspect_validation_workers', 'ambiance_aspect_validation_workers', 'service_aspect_validation_workers', 'noise_aspect_validation_workers', 'opentable_metadata'],\n",
       "        num_rows: 1755\n",
       "    })\n",
       "    train_inclusive: Dataset({\n",
       "        features: ['id', 'original_id', 'edit_id', 'is_original', 'edit_goal', 'edit_type', 'edit_worker', 'description', 'review_majority', 'review_label_distribution', 'review_workers', 'food_aspect_majority', 'ambiance_aspect_majority', 'service_aspect_majority', 'noise_aspect_majority', 'food_aspect_label_distribution', 'ambiance_aspect_label_distribution', 'service_aspect_label_distribution', 'noise_aspect_label_distribution', 'food_aspect_validation_workers', 'ambiance_aspect_validation_workers', 'service_aspect_validation_workers', 'noise_aspect_validation_workers', 'opentable_metadata'],\n",
       "        num_rows: 11728\n",
       "    })\n",
       "    train_observational: Dataset({\n",
       "        features: ['id', 'original_id', 'edit_id', 'is_original', 'edit_goal', 'edit_type', 'edit_worker', 'description', 'review_majority', 'review_label_distribution', 'review_workers', 'food_aspect_majority', 'ambiance_aspect_majority', 'service_aspect_majority', 'noise_aspect_majority', 'food_aspect_label_distribution', 'ambiance_aspect_label_distribution', 'service_aspect_label_distribution', 'noise_aspect_label_distribution', 'food_aspect_validation_workers', 'ambiance_aspect_validation_workers', 'service_aspect_validation_workers', 'noise_aspect_validation_workers', 'opentable_metadata'],\n",
       "        num_rows: 1755\n",
       "    })\n",
       "})"
      ]
     },
     "execution_count": 8,
     "metadata": {},
     "output_type": "execute_result"
    }
   ],
   "source": [
    "dataset = load_dataset(\"CEBaB/CEBaB\")\n",
    "dataset"
   ]
  },
  {
   "cell_type": "code",
   "execution_count": 18,
   "metadata": {},
   "outputs": [
    {
     "data": {
      "text/plain": [
       "Dataset({\n",
       "    features: ['id', 'original_id', 'edit_id', 'is_original', 'edit_goal', 'edit_type', 'edit_worker', 'description', 'review_majority', 'review_label_distribution', 'review_workers', 'food_aspect_majority', 'ambiance_aspect_majority', 'service_aspect_majority', 'noise_aspect_majority', 'food_aspect_label_distribution', 'ambiance_aspect_label_distribution', 'service_aspect_label_distribution', 'noise_aspect_label_distribution', 'food_aspect_validation_workers', 'ambiance_aspect_validation_workers', 'service_aspect_validation_workers', 'noise_aspect_validation_workers', 'opentable_metadata'],\n",
       "    num_rows: 1755\n",
       "})"
      ]
     },
     "execution_count": 18,
     "metadata": {},
     "output_type": "execute_result"
    }
   ],
   "source": [
    "dataset['train_exclusive']"
   ]
  },
  {
   "cell_type": "code",
   "execution_count": 19,
   "metadata": {},
   "outputs": [
    {
     "data": {
      "text/plain": [
       "Dataset({\n",
       "    features: ['id', 'original_id', 'edit_id', 'is_original', 'edit_goal', 'edit_type', 'edit_worker', 'description', 'review_majority', 'review_label_distribution', 'review_workers', 'food_aspect_majority', 'ambiance_aspect_majority', 'service_aspect_majority', 'noise_aspect_majority', 'food_aspect_label_distribution', 'ambiance_aspect_label_distribution', 'service_aspect_label_distribution', 'noise_aspect_label_distribution', 'food_aspect_validation_workers', 'ambiance_aspect_validation_workers', 'service_aspect_validation_workers', 'noise_aspect_validation_workers', 'opentable_metadata'],\n",
       "    num_rows: 11728\n",
       "})"
      ]
     },
     "execution_count": 19,
     "metadata": {},
     "output_type": "execute_result"
    }
   ],
   "source": [
    "dataset['train_inclusive']"
   ]
  },
  {
   "cell_type": "code",
   "execution_count": null,
   "metadata": {},
   "outputs": [],
   "source": [
    "\"\"\"\n",
    "It seems like train_inclusive include the edits while train_exclusive only contains the original reviews.\n",
    "\"\"\";"
   ]
  },
  {
   "cell_type": "code",
   "execution_count": 40,
   "metadata": {},
   "outputs": [
    {
     "data": {
      "text/html": [
       "<div>\n",
       "<style scoped>\n",
       "    .dataframe tbody tr th:only-of-type {\n",
       "        vertical-align: middle;\n",
       "    }\n",
       "\n",
       "    .dataframe tbody tr th {\n",
       "        vertical-align: top;\n",
       "    }\n",
       "\n",
       "    .dataframe thead th {\n",
       "        text-align: right;\n",
       "    }\n",
       "</style>\n",
       "<table border=\"1\" class=\"dataframe\">\n",
       "  <thead>\n",
       "    <tr style=\"text-align: right;\">\n",
       "      <th></th>\n",
       "      <th>id</th>\n",
       "      <th>original_id</th>\n",
       "      <th>edit_id</th>\n",
       "      <th>is_original</th>\n",
       "      <th>edit_type</th>\n",
       "      <th>edit_goal</th>\n",
       "      <th>food_aspect_majority</th>\n",
       "      <th>ambiance_aspect_majority</th>\n",
       "      <th>service_aspect_majority</th>\n",
       "      <th>noise_aspect_majority</th>\n",
       "    </tr>\n",
       "  </thead>\n",
       "  <tbody>\n",
       "    <tr>\n",
       "      <th>0</th>\n",
       "      <td>0</td>\n",
       "      <td>0</td>\n",
       "      <td>0</td>\n",
       "      <td>True</td>\n",
       "      <td>None</td>\n",
       "      <td>None</td>\n",
       "      <td></td>\n",
       "      <td></td>\n",
       "      <td>Negative</td>\n",
       "      <td>unknown</td>\n",
       "    </tr>\n",
       "    <tr>\n",
       "      <th>1</th>\n",
       "      <td>1</td>\n",
       "      <td>0</td>\n",
       "      <td>1</td>\n",
       "      <td>False</td>\n",
       "      <td>noise</td>\n",
       "      <td>Negative</td>\n",
       "      <td></td>\n",
       "      <td></td>\n",
       "      <td>Negative</td>\n",
       "      <td>Negative</td>\n",
       "    </tr>\n",
       "    <tr>\n",
       "      <th>2</th>\n",
       "      <td>2</td>\n",
       "      <td>0</td>\n",
       "      <td>2</td>\n",
       "      <td>False</td>\n",
       "      <td>service</td>\n",
       "      <td>Positive</td>\n",
       "      <td></td>\n",
       "      <td></td>\n",
       "      <td>Positive</td>\n",
       "      <td>unknown</td>\n",
       "    </tr>\n",
       "    <tr>\n",
       "      <th>3</th>\n",
       "      <td>3</td>\n",
       "      <td>0</td>\n",
       "      <td>3</td>\n",
       "      <td>False</td>\n",
       "      <td>noise</td>\n",
       "      <td>Positive</td>\n",
       "      <td></td>\n",
       "      <td></td>\n",
       "      <td>Negative</td>\n",
       "      <td>Positive</td>\n",
       "    </tr>\n",
       "    <tr>\n",
       "      <th>4</th>\n",
       "      <td>1000000</td>\n",
       "      <td>1</td>\n",
       "      <td>0</td>\n",
       "      <td>True</td>\n",
       "      <td>None</td>\n",
       "      <td>None</td>\n",
       "      <td>Negative</td>\n",
       "      <td></td>\n",
       "      <td>Negative</td>\n",
       "      <td></td>\n",
       "    </tr>\n",
       "    <tr>\n",
       "      <th>...</th>\n",
       "      <td>...</td>\n",
       "      <td>...</td>\n",
       "      <td>...</td>\n",
       "      <td>...</td>\n",
       "      <td>...</td>\n",
       "      <td>...</td>\n",
       "      <td>...</td>\n",
       "      <td>...</td>\n",
       "      <td>...</td>\n",
       "      <td>...</td>\n",
       "    </tr>\n",
       "    <tr>\n",
       "      <th>11723</th>\n",
       "      <td>1754000001</td>\n",
       "      <td>1754</td>\n",
       "      <td>1</td>\n",
       "      <td>False</td>\n",
       "      <td>food</td>\n",
       "      <td>Negative</td>\n",
       "      <td>Negative</td>\n",
       "      <td>unknown</td>\n",
       "      <td>Positive</td>\n",
       "      <td></td>\n",
       "    </tr>\n",
       "    <tr>\n",
       "      <th>11724</th>\n",
       "      <td>1754000002</td>\n",
       "      <td>1754</td>\n",
       "      <td>2</td>\n",
       "      <td>False</td>\n",
       "      <td>ambiance</td>\n",
       "      <td>Negative</td>\n",
       "      <td>Positive</td>\n",
       "      <td>unknown</td>\n",
       "      <td>Positive</td>\n",
       "      <td></td>\n",
       "    </tr>\n",
       "    <tr>\n",
       "      <th>11725</th>\n",
       "      <td>1754000003</td>\n",
       "      <td>1754</td>\n",
       "      <td>3</td>\n",
       "      <td>False</td>\n",
       "      <td>service</td>\n",
       "      <td>Negative</td>\n",
       "      <td>Positive</td>\n",
       "      <td>unknown</td>\n",
       "      <td>Negative</td>\n",
       "      <td></td>\n",
       "    </tr>\n",
       "    <tr>\n",
       "      <th>11726</th>\n",
       "      <td>1754000004</td>\n",
       "      <td>1754</td>\n",
       "      <td>4</td>\n",
       "      <td>False</td>\n",
       "      <td>food</td>\n",
       "      <td>unknown</td>\n",
       "      <td>unknown</td>\n",
       "      <td>unknown</td>\n",
       "      <td>Positive</td>\n",
       "      <td></td>\n",
       "    </tr>\n",
       "    <tr>\n",
       "      <th>11727</th>\n",
       "      <td>1754000005</td>\n",
       "      <td>1754</td>\n",
       "      <td>5</td>\n",
       "      <td>False</td>\n",
       "      <td>service</td>\n",
       "      <td>unknown</td>\n",
       "      <td>Positive</td>\n",
       "      <td>unknown</td>\n",
       "      <td>unknown</td>\n",
       "      <td></td>\n",
       "    </tr>\n",
       "  </tbody>\n",
       "</table>\n",
       "<p>11728 rows × 10 columns</p>\n",
       "</div>"
      ],
      "text/plain": [
       "               id original_id edit_id  is_original edit_type edit_goal  \\\n",
       "0               0           0       0         True      None      None   \n",
       "1               1           0       1        False     noise  Negative   \n",
       "2               2           0       2        False   service  Positive   \n",
       "3               3           0       3        False     noise  Positive   \n",
       "4         1000000           1       0         True      None      None   \n",
       "...           ...         ...     ...          ...       ...       ...   \n",
       "11723  1754000001        1754       1        False      food  Negative   \n",
       "11724  1754000002        1754       2        False  ambiance  Negative   \n",
       "11725  1754000003        1754       3        False   service  Negative   \n",
       "11726  1754000004        1754       4        False      food   unknown   \n",
       "11727  1754000005        1754       5        False   service   unknown   \n",
       "\n",
       "      food_aspect_majority ambiance_aspect_majority service_aspect_majority  \\\n",
       "0                                                                  Negative   \n",
       "1                                                                  Negative   \n",
       "2                                                                  Positive   \n",
       "3                                                                  Negative   \n",
       "4                 Negative                                         Negative   \n",
       "...                    ...                      ...                     ...   \n",
       "11723             Negative                  unknown                Positive   \n",
       "11724             Positive                  unknown                Positive   \n",
       "11725             Positive                  unknown                Negative   \n",
       "11726              unknown                  unknown                Positive   \n",
       "11727             Positive                  unknown                 unknown   \n",
       "\n",
       "      noise_aspect_majority  \n",
       "0                   unknown  \n",
       "1                  Negative  \n",
       "2                   unknown  \n",
       "3                  Positive  \n",
       "4                            \n",
       "...                     ...  \n",
       "11723                        \n",
       "11724                        \n",
       "11725                        \n",
       "11726                        \n",
       "11727                        \n",
       "\n",
       "[11728 rows x 10 columns]"
      ]
     },
     "execution_count": 40,
     "metadata": {},
     "output_type": "execute_result"
    }
   ],
   "source": [
    "train_df = dataset['train_inclusive'].to_pandas()\n",
    "columns = ['id', 'original_id', 'edit_id', 'is_original', 'edit_type', 'edit_goal', \n",
    "           'food_aspect_majority', 'ambiance_aspect_majority', 'service_aspect_majority', 'noise_aspect_majority'] \n",
    "filtered_train_df = train_df[columns]\n",
    "filtered_train_df "
   ]
  },
  {
   "cell_type": "code",
   "execution_count": 53,
   "metadata": {},
   "outputs": [
    {
     "data": {
      "text/html": [
       "<div>\n",
       "<style scoped>\n",
       "    .dataframe tbody tr th:only-of-type {\n",
       "        vertical-align: middle;\n",
       "    }\n",
       "\n",
       "    .dataframe tbody tr th {\n",
       "        vertical-align: top;\n",
       "    }\n",
       "\n",
       "    .dataframe thead th {\n",
       "        text-align: right;\n",
       "    }\n",
       "</style>\n",
       "<table border=\"1\" class=\"dataframe\">\n",
       "  <thead>\n",
       "    <tr style=\"text-align: right;\">\n",
       "      <th></th>\n",
       "      <th>id</th>\n",
       "      <th>original_id</th>\n",
       "      <th>edit_id</th>\n",
       "      <th>is_original</th>\n",
       "      <th>edit_type</th>\n",
       "      <th>edit_goal</th>\n",
       "      <th>food_aspect_majority</th>\n",
       "      <th>ambiance_aspect_majority</th>\n",
       "      <th>service_aspect_majority</th>\n",
       "      <th>noise_aspect_majority</th>\n",
       "    </tr>\n",
       "  </thead>\n",
       "  <tbody>\n",
       "    <tr>\n",
       "      <th>9</th>\n",
       "      <td>2000000</td>\n",
       "      <td>2</td>\n",
       "      <td>0</td>\n",
       "      <td>True</td>\n",
       "      <td>None</td>\n",
       "      <td>None</td>\n",
       "      <td>Positive</td>\n",
       "      <td>unknown</td>\n",
       "      <td>Negative</td>\n",
       "      <td>unknown</td>\n",
       "    </tr>\n",
       "    <tr>\n",
       "      <th>10</th>\n",
       "      <td>2000001</td>\n",
       "      <td>2</td>\n",
       "      <td>1</td>\n",
       "      <td>False</td>\n",
       "      <td>food</td>\n",
       "      <td>Negative</td>\n",
       "      <td>Negative</td>\n",
       "      <td>unknown</td>\n",
       "      <td>Negative</td>\n",
       "      <td>unknown</td>\n",
       "    </tr>\n",
       "    <tr>\n",
       "      <th>11</th>\n",
       "      <td>2000002</td>\n",
       "      <td>2</td>\n",
       "      <td>2</td>\n",
       "      <td>False</td>\n",
       "      <td>service</td>\n",
       "      <td>Positive</td>\n",
       "      <td>Positive</td>\n",
       "      <td>unknown</td>\n",
       "      <td>Positive</td>\n",
       "      <td>unknown</td>\n",
       "    </tr>\n",
       "    <tr>\n",
       "      <th>12</th>\n",
       "      <td>2000003</td>\n",
       "      <td>2</td>\n",
       "      <td>3</td>\n",
       "      <td>False</td>\n",
       "      <td>noise</td>\n",
       "      <td>Positive</td>\n",
       "      <td>Positive</td>\n",
       "      <td>unknown</td>\n",
       "      <td>Negative</td>\n",
       "      <td>Negative</td>\n",
       "    </tr>\n",
       "    <tr>\n",
       "      <th>13</th>\n",
       "      <td>2000004</td>\n",
       "      <td>2</td>\n",
       "      <td>4</td>\n",
       "      <td>False</td>\n",
       "      <td>ambiance</td>\n",
       "      <td>Positive</td>\n",
       "      <td>Positive</td>\n",
       "      <td>Positive</td>\n",
       "      <td>Negative</td>\n",
       "      <td>unknown</td>\n",
       "    </tr>\n",
       "    <tr>\n",
       "      <th>...</th>\n",
       "      <td>...</td>\n",
       "      <td>...</td>\n",
       "      <td>...</td>\n",
       "      <td>...</td>\n",
       "      <td>...</td>\n",
       "      <td>...</td>\n",
       "      <td>...</td>\n",
       "      <td>...</td>\n",
       "      <td>...</td>\n",
       "      <td>...</td>\n",
       "    </tr>\n",
       "    <tr>\n",
       "      <th>11702</th>\n",
       "      <td>1750000004</td>\n",
       "      <td>1750</td>\n",
       "      <td>4</td>\n",
       "      <td>False</td>\n",
       "      <td>food</td>\n",
       "      <td>Positive</td>\n",
       "      <td>Positive</td>\n",
       "      <td>Negative</td>\n",
       "      <td>unknown</td>\n",
       "      <td>Negative</td>\n",
       "    </tr>\n",
       "    <tr>\n",
       "      <th>11703</th>\n",
       "      <td>1750000005</td>\n",
       "      <td>1750</td>\n",
       "      <td>5</td>\n",
       "      <td>False</td>\n",
       "      <td>food</td>\n",
       "      <td>Negative</td>\n",
       "      <td>Negative</td>\n",
       "      <td>Negative</td>\n",
       "      <td>unknown</td>\n",
       "      <td>Negative</td>\n",
       "    </tr>\n",
       "    <tr>\n",
       "      <th>11704</th>\n",
       "      <td>1750000006</td>\n",
       "      <td>1750</td>\n",
       "      <td>6</td>\n",
       "      <td>False</td>\n",
       "      <td>service</td>\n",
       "      <td>Positive</td>\n",
       "      <td>unknown</td>\n",
       "      <td>Negative</td>\n",
       "      <td>unknown</td>\n",
       "      <td>Negative</td>\n",
       "    </tr>\n",
       "    <tr>\n",
       "      <th>11705</th>\n",
       "      <td>1750000007</td>\n",
       "      <td>1750</td>\n",
       "      <td>7</td>\n",
       "      <td>False</td>\n",
       "      <td>ambiance</td>\n",
       "      <td>unknown</td>\n",
       "      <td>unknown</td>\n",
       "      <td>unknown</td>\n",
       "      <td>unknown</td>\n",
       "      <td>Negative</td>\n",
       "    </tr>\n",
       "    <tr>\n",
       "      <th>11706</th>\n",
       "      <td>1750000008</td>\n",
       "      <td>1750</td>\n",
       "      <td>8</td>\n",
       "      <td>False</td>\n",
       "      <td>noise</td>\n",
       "      <td>unknown</td>\n",
       "      <td>unknown</td>\n",
       "      <td>Negative</td>\n",
       "      <td>unknown</td>\n",
       "      <td>unknown</td>\n",
       "    </tr>\n",
       "  </tbody>\n",
       "</table>\n",
       "<p>4207 rows × 10 columns</p>\n",
       "</div>"
      ],
      "text/plain": [
       "               id original_id edit_id  is_original edit_type edit_goal  \\\n",
       "9         2000000           2       0         True      None      None   \n",
       "10        2000001           2       1        False      food  Negative   \n",
       "11        2000002           2       2        False   service  Positive   \n",
       "12        2000003           2       3        False     noise  Positive   \n",
       "13        2000004           2       4        False  ambiance  Positive   \n",
       "...           ...         ...     ...          ...       ...       ...   \n",
       "11702  1750000004        1750       4        False      food  Positive   \n",
       "11703  1750000005        1750       5        False      food  Negative   \n",
       "11704  1750000006        1750       6        False   service  Positive   \n",
       "11705  1750000007        1750       7        False  ambiance   unknown   \n",
       "11706  1750000008        1750       8        False     noise   unknown   \n",
       "\n",
       "      food_aspect_majority ambiance_aspect_majority service_aspect_majority  \\\n",
       "9                 Positive                  unknown                Negative   \n",
       "10                Negative                  unknown                Negative   \n",
       "11                Positive                  unknown                Positive   \n",
       "12                Positive                  unknown                Negative   \n",
       "13                Positive                 Positive                Negative   \n",
       "...                    ...                      ...                     ...   \n",
       "11702             Positive                 Negative                 unknown   \n",
       "11703             Negative                 Negative                 unknown   \n",
       "11704              unknown                 Negative                 unknown   \n",
       "11705              unknown                  unknown                 unknown   \n",
       "11706              unknown                 Negative                 unknown   \n",
       "\n",
       "      noise_aspect_majority  \n",
       "9                   unknown  \n",
       "10                  unknown  \n",
       "11                  unknown  \n",
       "12                 Negative  \n",
       "13                  unknown  \n",
       "...                     ...  \n",
       "11702              Negative  \n",
       "11703              Negative  \n",
       "11704              Negative  \n",
       "11705              Negative  \n",
       "11706               unknown  \n",
       "\n",
       "[4207 rows x 10 columns]"
      ]
     },
     "execution_count": 53,
     "metadata": {},
     "output_type": "execute_result"
    }
   ],
   "source": [
    "# Step 1: Create a boolean DataFrame where True indicates an empty string\n",
    "empty_cells = filtered_train_df.applymap(lambda cell: cell == '')\n",
    "\n",
    "# Step 2: Identify rows with at least one empty string\n",
    "rows_with_empty_cells = empty_cells.any(axis=1)\n",
    "\n",
    "# Step 3: Filter out those rows\n",
    "filtered_train_df = filtered_train_df[~rows_with_empty_cells]\n",
    "filtered_train_df "
   ]
  },
  {
   "cell_type": "code",
   "execution_count": null,
   "metadata": {},
   "outputs": [],
   "source": []
  },
  {
   "cell_type": "code",
   "execution_count": null,
   "metadata": {},
   "outputs": [],
   "source": []
  }
 ],
 "metadata": {
  "kernelspec": {
   "display_name": "vec2text_inter",
   "language": "python",
   "name": "python3"
  },
  "language_info": {
   "codemirror_mode": {
    "name": "ipython",
    "version": 3
   },
   "file_extension": ".py",
   "mimetype": "text/x-python",
   "name": "python",
   "nbconvert_exporter": "python",
   "pygments_lexer": "ipython3",
   "version": "3.10.13"
  }
 },
 "nbformat": 4,
 "nbformat_minor": 2
}
