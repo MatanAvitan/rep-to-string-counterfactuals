{
 "cells": [
  {
   "cell_type": "code",
   "execution_count": 3,
   "metadata": {},
   "outputs": [
    {
     "name": "stderr",
     "output_type": "stream",
     "text": [
      "/home/nlp/matan_avitan/mambaforge/envs/vec2text_inter_old/lib/python3.11/site-packages/tqdm/auto.py:21: TqdmWarning: IProgress not found. Please update jupyter and ipywidgets. See https://ipywidgets.readthedocs.io/en/stable/user_install.html\n",
      "  from .autonotebook import tqdm as notebook_tqdm\n"
     ]
    }
   ],
   "source": [
    "import tqdm\n",
    "import torch\n",
    "import pickle\n",
    "import vec2text\n",
    "import numpy as np\n",
    "import pandas as pd\n",
    "from typing import List\n",
    "from transformers import AutoModel, AutoTokenizer\n",
    "from sentence_transformers import SentenceTransformer\n",
    "\n",
    "def log_print(str_to_print):\n",
    "    eval_str_to_print = eval(str_to_print)\n",
    "    if type(eval_str_to_print) == list:\n",
    "        eval_str_to_print = '\\n'.join(eval_str_to_print)\n",
    "    print(f\"{str_to_print}: {eval_str_to_print}\")\n",
    "\n",
    "IS_FIRST = False\n",
    "BASE_MODEL = 'bias-bios64'\n",
    "MAX_SEQUENCE_LENGTH = 64\n",
    "DEVICE = 'cuda:0' if torch.cuda.is_available() else 'cpu'\n",
    "BATCH_SIZE = 512"
   ]
  },
  {
   "cell_type": "code",
   "execution_count": 4,
   "metadata": {
    "ExecuteTime": {
     "end_time": "2024-01-26T21:14:38.049760435Z",
     "start_time": "2024-01-26T21:14:11.640687331Z"
    }
   },
   "outputs": [
    {
     "name": "stderr",
     "output_type": "stream",
     "text": [
      "Loading checkpoint shards: 100%|██████████| 8/8 [00:01<00:00,  5.52it/s]\n",
      "Loading checkpoint shards: 100%|██████████| 6/6 [00:01<00:00,  4.78it/s]\n"
     ]
    }
   ],
   "source": [
    "corrector = vec2text.load_corrector(BASE_MODEL)"
   ]
  },
  {
   "cell_type": "code",
   "execution_count": 5,
   "metadata": {
    "ExecuteTime": {
     "end_time": "2024-01-31T12:14:19.365679546Z",
     "start_time": "2024-01-31T12:14:19.148375835Z"
    },
    "collapsed": false
   },
   "outputs": [
    {
     "data": {
      "text/plain": [
       "253025280"
      ]
     },
     "execution_count": 5,
     "metadata": {},
     "output_type": "execute_result"
    }
   ],
   "source": [
    "def count_parameters(model):\n",
    "    return sum(p.numel() for p in model.parameters() if p.requires_grad)\n",
    "\n",
    "count_parameters(corrector.model)"
   ]
  },
  {
   "cell_type": "code",
   "execution_count": 7,
   "metadata": {
    "ExecuteTime": {
     "end_time": "2024-01-24T16:29:46.669344545Z",
     "start_time": "2024-01-24T16:28:50.956393303Z"
    },
    "collapsed": false
   },
   "outputs": [
    {
     "name": "stdout",
     "output_type": "stream",
     "text": [
      "--2024-01-24 18:28:51--  https://nlp.biu.ac.il/~ravfogs/rlace-cr/bios/bios_data/\r\n",
      "Resolving nlp.biu.ac.il (nlp.biu.ac.il)... 132.70.196.153\r\n",
      "Connecting to nlp.biu.ac.il (nlp.biu.ac.il)|132.70.196.153|:443... connected.\r\n",
      "HTTP request sent, awaiting response... 200 OK\r\n",
      "Length: 2703 (2.6K) [text/html]\r\n",
      "Saving to: ‘bios_data/index.html.tmp’\r\n",
      "\r\n",
      "index.html.tmp      100%[===================>]   2.64K  --.-KB/s    in 0s      \r\n",
      "\r\n",
      "2024-01-24 18:28:51 (53.9 MB/s) - ‘bios_data/index.html.tmp’ saved [2703/2703]\r\n",
      "\r\n",
      "Loading robots.txt; please ignore errors.\r\n",
      "--2024-01-24 18:28:51--  https://nlp.biu.ac.il/robots.txt\r\n",
      "Reusing existing connection to nlp.biu.ac.il:443.\r\n",
      "HTTP request sent, awaiting response... 404 Not Found\r\n",
      "2024-01-24 18:28:51 ERROR 404: Not Found.\r\n",
      "\r\n",
      "Removing bios_data/index.html.tmp since it should be rejected.\r\n",
      "\r\n",
      "--2024-01-24 18:28:51--  https://nlp.biu.ac.il/~ravfogs/rlace-cr/bios/bios_data/?C=N;O=D\r\n",
      "Reusing existing connection to nlp.biu.ac.il:443.\r\n",
      "HTTP request sent, awaiting response... 200 OK\r\n",
      "Length: 2703 (2.6K) [text/html]\r\n",
      "Saving to: ‘bios_data/index.html?C=N;O=D.tmp’\r\n",
      "\r\n",
      "index.html?C=N;O=D. 100%[===================>]   2.64K  --.-KB/s    in 0s      \r\n",
      "\r\n",
      "2024-01-24 18:28:51 (57.5 MB/s) - ‘bios_data/index.html?C=N;O=D.tmp’ saved [2703/2703]\r\n",
      "\r\n",
      "Removing bios_data/index.html?C=N;O=D.tmp since it should be rejected.\r\n",
      "\r\n",
      "--2024-01-24 18:28:51--  https://nlp.biu.ac.il/~ravfogs/rlace-cr/bios/bios_data/?C=M;O=A\r\n",
      "Reusing existing connection to nlp.biu.ac.il:443.\r\n",
      "HTTP request sent, awaiting response... 200 OK\r\n",
      "Length: 2703 (2.6K) [text/html]\r\n",
      "Saving to: ‘bios_data/index.html?C=M;O=A.tmp’\r\n",
      "\r\n",
      "index.html?C=M;O=A. 100%[===================>]   2.64K  --.-KB/s    in 0s      \r\n",
      "\r\n",
      "2024-01-24 18:28:51 (46.2 MB/s) - ‘bios_data/index.html?C=M;O=A.tmp’ saved [2703/2703]\r\n",
      "\r\n",
      "Removing bios_data/index.html?C=M;O=A.tmp since it should be rejected.\r\n",
      "\r\n",
      "--2024-01-24 18:28:51--  https://nlp.biu.ac.il/~ravfogs/rlace-cr/bios/bios_data/?C=S;O=A\r\n",
      "Reusing existing connection to nlp.biu.ac.il:443.\r\n",
      "HTTP request sent, awaiting response... 200 OK\r\n",
      "Length: 2703 (2.6K) [text/html]\r\n",
      "Saving to: ‘bios_data/index.html?C=S;O=A.tmp’\r\n",
      "\r\n",
      "index.html?C=S;O=A. 100%[===================>]   2.64K  --.-KB/s    in 0s      \r\n",
      "\r\n",
      "2024-01-24 18:28:51 (125 MB/s) - ‘bios_data/index.html?C=S;O=A.tmp’ saved [2703/2703]\r\n",
      "\r\n",
      "Removing bios_data/index.html?C=S;O=A.tmp since it should be rejected.\r\n",
      "\r\n",
      "--2024-01-24 18:28:51--  https://nlp.biu.ac.il/~ravfogs/rlace-cr/bios/bios_data/?C=D;O=A\r\n",
      "Reusing existing connection to nlp.biu.ac.il:443.\r\n",
      "HTTP request sent, awaiting response... 200 OK\r\n",
      "Length: 2703 (2.6K) [text/html]\r\n",
      "Saving to: ‘bios_data/index.html?C=D;O=A.tmp’\r\n",
      "\r\n",
      "index.html?C=D;O=A. 100%[===================>]   2.64K  --.-KB/s    in 0s      \r\n",
      "\r\n",
      "2024-01-24 18:28:51 (110 MB/s) - ‘bios_data/index.html?C=D;O=A.tmp’ saved [2703/2703]\r\n",
      "\r\n",
      "Removing bios_data/index.html?C=D;O=A.tmp since it should be rejected.\r\n",
      "\r\n",
      "--2024-01-24 18:28:51--  https://nlp.biu.ac.il/~ravfogs/rlace-cr/bios/bios_data/bios_dev.pickle\r\n",
      "Reusing existing connection to nlp.biu.ac.il:443.\r\n",
      "HTTP request sent, awaiting response... 200 OK\r\n",
      "Length: 66595445 (64M)\r\n",
      "Saving to: ‘bios_data/bios_dev.pickle’\r\n",
      "\r\n",
      "bios_dev.pickle     100%[===================>]  63.51M  30.5MB/s    in 2.1s    \r\n",
      "\r\n",
      "2024-01-24 18:28:53 (30.5 MB/s) - ‘bios_data/bios_dev.pickle’ saved [66595445/66595445]\r\n",
      "\r\n",
      "--2024-01-24 18:28:53--  https://nlp.biu.ac.il/~ravfogs/rlace-cr/bios/bios_data/bios_test.pickle\r\n",
      "Reusing existing connection to nlp.biu.ac.il:443.\r\n",
      "HTTP request sent, awaiting response... 200 OK\r\n",
      "Length: 182106720 (174M)\r\n",
      "Saving to: ‘bios_data/bios_test.pickle’\r\n",
      "\r\n",
      "bios_test.pickle    100%[===================>] 173.67M  40.9MB/s    in 4.3s    \r\n",
      "\r\n",
      "2024-01-24 18:28:58 (40.5 MB/s) - ‘bios_data/bios_test.pickle’ saved [182106720/182106720]\r\n",
      "\r\n",
      "--2024-01-24 18:28:58--  https://nlp.biu.ac.il/~ravfogs/rlace-cr/bios/bios_data/bios_train.pickle\r\n",
      "Reusing existing connection to nlp.biu.ac.il:443.\r\n",
      "HTTP request sent, awaiting response... 200 OK\r\n",
      "Length: 455284434 (434M)\r\n",
      "Saving to: ‘bios_data/bios_train.pickle’\r\n",
      "\r\n",
      "bios_train.pickle   100%[===================>] 434.19M  57.2MB/s    in 8.6s    \r\n",
      "\r\n",
      "2024-01-24 18:29:07 (50.5 MB/s) - ‘bios_data/bios_train.pickle’ saved [455284434/455284434]\r\n",
      "\r\n",
      "--2024-01-24 18:29:08--  https://nlp.biu.ac.il/~ravfogs/rlace-cr/bios/bios_data/dev.pickle\r\n",
      "Reusing existing connection to nlp.biu.ac.il:443.\r\n",
      "HTTP request sent, awaiting response... 200 OK\r\n",
      "Length: 66595445 (64M)\r\n",
      "Saving to: ‘bios_data/dev.pickle’\r\n",
      "\r\n",
      "dev.pickle          100%[===================>]  63.51M  45.5MB/s    in 1.4s    \r\n",
      "\r\n",
      "2024-01-24 18:29:10 (45.5 MB/s) - ‘bios_data/dev.pickle’ saved [66595445/66595445]\r\n",
      "\r\n",
      "--2024-01-24 18:29:10--  https://nlp.biu.ac.il/~ravfogs/rlace-cr/bios/bios_data/dev_cls.npy\r\n",
      "Reusing existing connection to nlp.biu.ac.il:443.\r\n",
      "HTTP request sent, awaiting response... 200 OK\r\n",
      "Length: 120941696 (115M)\r\n",
      "Saving to: ‘bios_data/dev_cls.npy’\r\n",
      "\r\n",
      "dev_cls.npy         100%[===================>] 115.34M  57.7MB/s    in 2.0s    \r\n",
      "\r\n",
      "2024-01-24 18:29:12 (57.7 MB/s) - ‘bios_data/dev_cls.npy’ saved [120941696/120941696]\r\n",
      "\r\n",
      "--2024-01-24 18:29:12--  https://nlp.biu.ac.il/~ravfogs/rlace-cr/bios/bios_data/test.pickle\r\n",
      "Reusing existing connection to nlp.biu.ac.il:443.\r\n",
      "HTTP request sent, awaiting response... 200 OK\r\n",
      "Length: 182106720 (174M)\r\n",
      "Saving to: ‘bios_data/test.pickle’\r\n",
      "\r\n",
      "test.pickle         100%[===================>] 173.67M  59.9MB/s    in 2.9s    \r\n",
      "\r\n",
      "2024-01-24 18:29:15 (59.9 MB/s) - ‘bios_data/test.pickle’ saved [182106720/182106720]\r\n",
      "\r\n",
      "--2024-01-24 18:29:16--  https://nlp.biu.ac.il/~ravfogs/rlace-cr/bios/bios_data/test_cls.npy\r\n",
      "Reusing existing connection to nlp.biu.ac.il:443.\r\n",
      "HTTP request sent, awaiting response... 200 OK\r\n",
      "Length: 302112896 (288M)\r\n",
      "Saving to: ‘bios_data/test_cls.npy’\r\n",
      "\r\n",
      "test_cls.npy        100%[===================>] 288.12M  61.7MB/s    in 4.7s    \r\n",
      "\r\n",
      "2024-01-24 18:29:21 (61.1 MB/s) - ‘bios_data/test_cls.npy’ saved [302112896/302112896]\r\n",
      "\r\n",
      "--2024-01-24 18:29:21--  https://nlp.biu.ac.il/~ravfogs/rlace-cr/bios/bios_data/train.pickle\r\n",
      "Reusing existing connection to nlp.biu.ac.il:443.\r\n",
      "HTTP request sent, awaiting response... 200 OK\r\n",
      "Length: 455284434 (434M)\r\n",
      "Saving to: ‘bios_data/train.pickle’\r\n",
      "\r\n",
      "train.pickle        100%[===================>] 434.19M  61.6MB/s    in 7.3s    \r\n",
      "\r\n",
      "2024-01-24 18:29:29 (59.1 MB/s) - ‘bios_data/train.pickle’ saved [455284434/455284434]\r\n",
      "\r\n",
      "--2024-01-24 18:29:30--  https://nlp.biu.ac.il/~ravfogs/rlace-cr/bios/bios_data/train_cls.npy\r\n",
      "Reusing existing connection to nlp.biu.ac.il:443.\r\n",
      "HTTP request sent, awaiting response... 200 OK\r\n",
      "Length: 785541248 (749M)\r\n",
      "Saving to: ‘bios_data/train_cls.npy’\r\n",
      "\r\n",
      "train_cls.npy       100%[===================>] 749.15M  62.0MB/s    in 13s     \r\n",
      "\r\n",
      "2024-01-24 18:29:44 (57.8 MB/s) - ‘bios_data/train_cls.npy’ saved [785541248/785541248]\r\n",
      "\r\n",
      "--2024-01-24 18:29:46--  https://nlp.biu.ac.il/~ravfogs/rlace-cr/bios/bios_data/?C=N;O=A\r\n",
      "Reusing existing connection to nlp.biu.ac.il:443.\r\n",
      "HTTP request sent, awaiting response... 200 OK\r\n",
      "Length: 2703 (2.6K) [text/html]\r\n",
      "Saving to: ‘bios_data/index.html?C=N;O=A.tmp’\r\n",
      "\r\n",
      "index.html?C=N;O=A. 100%[===================>]   2.64K  --.-KB/s    in 0s      \r\n",
      "\r\n",
      "2024-01-24 18:29:46 (115 MB/s) - ‘bios_data/index.html?C=N;O=A.tmp’ saved [2703/2703]\r\n",
      "\r\n",
      "Removing bios_data/index.html?C=N;O=A.tmp since it should be rejected.\r\n",
      "\r\n",
      "--2024-01-24 18:29:46--  https://nlp.biu.ac.il/~ravfogs/rlace-cr/bios/bios_data/?C=M;O=D\r\n",
      "Reusing existing connection to nlp.biu.ac.il:443.\r\n",
      "HTTP request sent, awaiting response... 200 OK\r\n",
      "Length: 2703 (2.6K) [text/html]\r\n",
      "Saving to: ‘bios_data/index.html?C=M;O=D.tmp’\r\n",
      "\r\n",
      "index.html?C=M;O=D. 100%[===================>]   2.64K  --.-KB/s    in 0s      \r\n",
      "\r\n",
      "2024-01-24 18:29:46 (91.7 MB/s) - ‘bios_data/index.html?C=M;O=D.tmp’ saved [2703/2703]\r\n",
      "\r\n",
      "Removing bios_data/index.html?C=M;O=D.tmp since it should be rejected.\r\n",
      "\r\n",
      "--2024-01-24 18:29:46--  https://nlp.biu.ac.il/~ravfogs/rlace-cr/bios/bios_data/?C=S;O=D\r\n",
      "Reusing existing connection to nlp.biu.ac.il:443.\r\n",
      "HTTP request sent, awaiting response... 200 OK\r\n",
      "Length: 2703 (2.6K) [text/html]\r\n",
      "Saving to: ‘bios_data/index.html?C=S;O=D.tmp’\r\n",
      "\r\n",
      "index.html?C=S;O=D. 100%[===================>]   2.64K  --.-KB/s    in 0s      \r\n",
      "\r\n",
      "2024-01-24 18:29:46 (121 MB/s) - ‘bios_data/index.html?C=S;O=D.tmp’ saved [2703/2703]\r\n",
      "\r\n",
      "Removing bios_data/index.html?C=S;O=D.tmp since it should be rejected.\r\n",
      "\r\n",
      "--2024-01-24 18:29:46--  https://nlp.biu.ac.il/~ravfogs/rlace-cr/bios/bios_data/?C=D;O=D\r\n",
      "Reusing existing connection to nlp.biu.ac.il:443.\r\n",
      "HTTP request sent, awaiting response... 200 OK\r\n",
      "Length: 2703 (2.6K) [text/html]\r\n",
      "Saving to: ‘bios_data/index.html?C=D;O=D.tmp’\r\n",
      "\r\n",
      "index.html?C=D;O=D. 100%[===================>]   2.64K  --.-KB/s    in 0s      \r\n",
      "\r\n",
      "2024-01-24 18:29:46 (122 MB/s) - ‘bios_data/index.html?C=D;O=D.tmp’ saved [2703/2703]\r\n",
      "\r\n",
      "Removing bios_data/index.html?C=D;O=D.tmp since it should be rejected.\r\n",
      "\r\n",
      "--2024-01-24 18:29:46--  https://nlp.biu.ac.il/~ravfogs/rlace-cr/bios/bios_data/%E2%80%9Dhttp://www.eagledailyinvestor.com/%E2%80%9D\r\n",
      "Reusing existing connection to nlp.biu.ac.il:443.\r\n",
      "HTTP request sent, awaiting response... 404 Not Found\r\n",
      "2024-01-24 18:29:46 ERROR 404: Not Found.\r\n",
      "\r\n",
      "--2024-01-24 18:29:46--  https://nlp.biu.ac.il/~ravfogs/rlace-cr/bios/bios_data/%E2%80%9Dhttps://www.markskousen.com/offers/products/fss121-skousen-editorial-ss4-aud/%E2%80%9D\r\n",
      "Reusing existing connection to nlp.biu.ac.il:443.\r\n",
      "HTTP request sent, awaiting response... 404 Not Found\r\n",
      "2024-01-24 18:29:46 ERROR 404: Not Found.\r\n",
      "\r\n",
      "--2024-01-24 18:29:46--  https://nlp.biu.ac.il/~ravfogs/rlace-cr/bios/bios_data/%E2%80%9Dhttps://www.fabian.com/offers/products/wsj225-editorial-link-wash-aud/%E2%80%9D\r\n",
      "Reusing existing connection to nlp.biu.ac.il:443.\r\n",
      "HTTP request sent, awaiting response... 404 Not Found\r\n",
      "2024-01-24 18:29:46 ERROR 404: Not Found.\r\n",
      "\r\n",
      "--2024-01-24 18:29:46--  https://nlp.biu.ac.il/~ravfogs/rlace-cr/bios/bios_data/%E2%80%9Dhttps://www.fabian.com/offers/products/hyh215-amrheim-editorial-link-fear-aud/%E2%80%9D\r\n",
      "Reusing existing connection to nlp.biu.ac.il:443.\r\n",
      "HTTP request sent, awaiting response... 404 Not Found\r\n",
      "2024-01-24 18:29:46 ERROR 404: Not Found.\r\n",
      "\r\n",
      "--2024-01-24 18:29:46--  https://nlp.biu.ac.il/~ravfogs/rlace-cr/bios/bios_data/%E2%80%9Dhttps://order.nicholasvardy.com/offers/products/aip351-alpha-editorial-link-aud/%E2%80%9D\r\n",
      "Reusing existing connection to nlp.biu.ac.il:443.\r\n",
      "HTTP request sent, awaiting response... 404 Not Found\r\n",
      "2024-01-24 18:29:46 ERROR 404: Not Found.\r\n",
      "\r\n",
      "--2024-01-24 18:29:46--  https://nlp.biu.ac.il/~ravfogs/rlace-cr/bios/bios_data/%E2%80%9Dhttps://order.chrisversace.com/offers/products/ptp346-dawson-editorial-2lifetime-audio/%E2%80%9D\r\n",
      "Reusing existing connection to nlp.biu.ac.il:443.\r\n",
      "HTTP request sent, awaiting response... 404 Not Found\r\n",
      "2024-01-24 18:29:46 ERROR 404: Not Found.\r\n",
      "\r\n",
      "--2024-01-24 18:29:46--  https://nlp.biu.ac.il/~ravfogs/rlace-cr/bios/bios_data/mailto%20:%20malinjr@miamioh.edu\r\n",
      "Reusing existing connection to nlp.biu.ac.il:443.\r\n",
      "HTTP request sent, awaiting response... 404 Not Found\r\n",
      "2024-01-24 18:29:46 ERROR 404: Not Found.\r\n",
      "\r\n",
      "FINISHED --2024-01-24 18:29:46--\r\n",
      "Total wall clock time: 55s\r\n",
      "Downloaded: 18 files, 2.4G in 46s (53.9 MB/s)\r\n"
     ]
    }
   ],
   "source": [
    "if IS_FIRST:\n",
    "    !wget -r --no-clobber --no-parent -R \"index.html*\" -nH --cut-dirs=4 -P bios_data https://nlp.biu.ac.il/~ravfogs/rlace-cr/bios/bios_data/"
   ]
  },
  {
   "cell_type": "code",
   "execution_count": 8,
   "metadata": {
    "ExecuteTime": {
     "end_time": "2024-01-24T23:56:36.375972616Z",
     "start_time": "2024-01-24T23:56:32.934710403Z"
    }
   },
   "outputs": [],
   "source": [
    "#download the bios_train, bios_dev, bios_test files from https://nlp.biu.ac.il/~ravfogs/rlace-cr/bios/bios_data/\n",
    "BASE = '/home/nlp/matan_avitan/git/vec2text_inter/'\n",
    "with open(BASE+\"bios_data/bios_train.pickle\", \"rb\") as f:\n",
    "  bios_train = pickle.load(f)\n",
    "\n",
    "with open(BASE+\"bios_data/bios_dev.pickle\", \"rb\") as f:\n",
    "  bios_dev = pickle.load(f)\n",
    "\n",
    "with open(BASE+\"bios_data/bios_test.pickle\", \"rb\") as f:\n",
    "  bios_test = pickle.load(f)"
   ]
  },
  {
   "cell_type": "code",
   "execution_count": 9,
   "metadata": {
    "ExecuteTime": {
     "end_time": "2024-01-25T00:51:45.840545460Z",
     "start_time": "2024-01-25T00:51:44.895530944Z"
    },
    "collapsed": false
   },
   "outputs": [
    {
     "name": "stdout",
     "output_type": "stream",
     "text": [
      "bios_train_df.shape: (255710, 7)\n",
      "bios_dev_df.shape: (39369, 7)\n",
      "bios_test_df.shape: (98344, 7)\n"
     ]
    },
    {
     "data": {
      "text/html": [
       "<div>\n",
       "<style scoped>\n",
       "    .dataframe tbody tr th:only-of-type {\n",
       "        vertical-align: middle;\n",
       "    }\n",
       "\n",
       "    .dataframe tbody tr th {\n",
       "        vertical-align: top;\n",
       "    }\n",
       "\n",
       "    .dataframe thead th {\n",
       "        text-align: right;\n",
       "    }\n",
       "</style>\n",
       "<table border=\"1\" class=\"dataframe\">\n",
       "  <thead>\n",
       "    <tr style=\"text-align: right;\">\n",
       "      <th></th>\n",
       "      <th>g</th>\n",
       "      <th>p</th>\n",
       "      <th>text</th>\n",
       "      <th>start</th>\n",
       "      <th>hard_text</th>\n",
       "      <th>hard_text_untokenized</th>\n",
       "      <th>text_without_gender</th>\n",
       "    </tr>\n",
       "  </thead>\n",
       "  <tbody>\n",
       "    <tr>\n",
       "      <th>0</th>\n",
       "      <td>m</td>\n",
       "      <td>attorney</td>\n",
       "      <td>Mark Chauvin Bezinque, Esq. is an attorney who...</td>\n",
       "      <td>209</td>\n",
       "      <td>Mr. Bezinque helps clients regain control of t...</td>\n",
       "      <td>Mr. Bezinque helps clients regain control of t...</td>\n",
       "      <td>_. _ helps clients regain control of their liv...</td>\n",
       "    </tr>\n",
       "    <tr>\n",
       "      <th>1</th>\n",
       "      <td>f</td>\n",
       "      <td>professor</td>\n",
       "      <td>Pamela Burke Martin is an assistant professor ...</td>\n",
       "      <td>58</td>\n",
       "      <td>She has a Ph.D. from the University of Marylan...</td>\n",
       "      <td>She has a Ph.D. from the University of Marylan...</td>\n",
       "      <td>_ has a Ph.D. from the University of Maryland....</td>\n",
       "    </tr>\n",
       "    <tr>\n",
       "      <th>2</th>\n",
       "      <td>f</td>\n",
       "      <td>attorney</td>\n",
       "      <td>Ms. Stacy Tromble is a Staff Attorney with NVL...</td>\n",
       "      <td>49</td>\n",
       "      <td>She is admitted to practice before the U.S. Co...</td>\n",
       "      <td>She is admitted to practice before the U.S. Co...</td>\n",
       "      <td>_ is admitted to practice before the U.S. Cour...</td>\n",
       "    </tr>\n",
       "    <tr>\n",
       "      <th>3</th>\n",
       "      <td>m</td>\n",
       "      <td>professor</td>\n",
       "      <td>Farid Abdel-Nour is an associate professor of ...</td>\n",
       "      <td>168</td>\n",
       "      <td>Related StoriesEducation and Behavior in Israe...</td>\n",
       "      <td>Related StoriesEducation and Behavior in Israe...</td>\n",
       "      <td>Related StoriesEducation and Behavior in Israe...</td>\n",
       "    </tr>\n",
       "    <tr>\n",
       "      <th>4</th>\n",
       "      <td>m</td>\n",
       "      <td>professor</td>\n",
       "      <td>Sergio F. Ochoa is an Assistant Professor of C...</td>\n",
       "      <td>89</td>\n",
       "      <td>He received his PhD in Computer Science from C...</td>\n",
       "      <td>He received his PhD in Computer Science from C...</td>\n",
       "      <td>_ received _ PhD in Computer Science from Cath...</td>\n",
       "    </tr>\n",
       "    <tr>\n",
       "      <th>...</th>\n",
       "      <td>...</td>\n",
       "      <td>...</td>\n",
       "      <td>...</td>\n",
       "      <td>...</td>\n",
       "      <td>...</td>\n",
       "      <td>...</td>\n",
       "      <td>...</td>\n",
       "    </tr>\n",
       "    <tr>\n",
       "      <th>98339</th>\n",
       "      <td>m</td>\n",
       "      <td>psychologist</td>\n",
       "      <td>Joe Bavonese, PhD is a Licensed Psychologist i...</td>\n",
       "      <td>57</td>\n",
       "      <td>Joe is the Founder and Director of the Relatio...</td>\n",
       "      <td>Joe is the Founder and Director of the Relatio...</td>\n",
       "      <td>_ is the Founder and Director of the Relations...</td>\n",
       "    </tr>\n",
       "    <tr>\n",
       "      <th>98340</th>\n",
       "      <td>f</td>\n",
       "      <td>teacher</td>\n",
       "      <td>Julia Stacey is a paraprofessional teacher at ...</td>\n",
       "      <td>50</td>\n",
       "      <td>She graduated from Hawaii Pacific University w...</td>\n",
       "      <td>She graduated from Hawaii Pacific University w...</td>\n",
       "      <td>_ graduated from Hawaii Pacific University wit...</td>\n",
       "    </tr>\n",
       "    <tr>\n",
       "      <th>98341</th>\n",
       "      <td>f</td>\n",
       "      <td>teacher</td>\n",
       "      <td>Mariam Noronha is a teacher with over nine yea...</td>\n",
       "      <td>72</td>\n",
       "      <td>She has taught a wide range of management rela...</td>\n",
       "      <td>She has taught a wide range of management rela...</td>\n",
       "      <td>_ has taught a wide range of management relate...</td>\n",
       "    </tr>\n",
       "    <tr>\n",
       "      <th>98342</th>\n",
       "      <td>m</td>\n",
       "      <td>surgeon</td>\n",
       "      <td>Dr. John Silverton is a leading plastic surgeo...</td>\n",
       "      <td>129</td>\n",
       "      <td>Over the decades , he has treated numerous ind...</td>\n",
       "      <td>Over the decades, he has treated numerous indi...</td>\n",
       "      <td>Over the decades, _ has treated numerous indiv...</td>\n",
       "    </tr>\n",
       "    <tr>\n",
       "      <th>98343</th>\n",
       "      <td>f</td>\n",
       "      <td>psychologist</td>\n",
       "      <td>Dr. Kelly Bowers is a licensed psychologist. S...</td>\n",
       "      <td>44</td>\n",
       "      <td>She received her Ph.D. in Counseling Psycholog...</td>\n",
       "      <td>She received her Ph.D. in Counseling Psycholog...</td>\n",
       "      <td>_ received _ Ph.D. in Counseling Psychology fr...</td>\n",
       "    </tr>\n",
       "  </tbody>\n",
       "</table>\n",
       "<p>98344 rows × 7 columns</p>\n",
       "</div>"
      ],
      "text/plain": [
       "       g             p                                               text  \\\n",
       "0      m      attorney  Mark Chauvin Bezinque, Esq. is an attorney who...   \n",
       "1      f     professor  Pamela Burke Martin is an assistant professor ...   \n",
       "2      f      attorney  Ms. Stacy Tromble is a Staff Attorney with NVL...   \n",
       "3      m     professor  Farid Abdel-Nour is an associate professor of ...   \n",
       "4      m     professor  Sergio F. Ochoa is an Assistant Professor of C...   \n",
       "...   ..           ...                                                ...   \n",
       "98339  m  psychologist  Joe Bavonese, PhD is a Licensed Psychologist i...   \n",
       "98340  f       teacher  Julia Stacey is a paraprofessional teacher at ...   \n",
       "98341  f       teacher  Mariam Noronha is a teacher with over nine yea...   \n",
       "98342  m       surgeon  Dr. John Silverton is a leading plastic surgeo...   \n",
       "98343  f  psychologist  Dr. Kelly Bowers is a licensed psychologist. S...   \n",
       "\n",
       "       start                                          hard_text  \\\n",
       "0        209  Mr. Bezinque helps clients regain control of t...   \n",
       "1         58  She has a Ph.D. from the University of Marylan...   \n",
       "2         49  She is admitted to practice before the U.S. Co...   \n",
       "3        168  Related StoriesEducation and Behavior in Israe...   \n",
       "4         89  He received his PhD in Computer Science from C...   \n",
       "...      ...                                                ...   \n",
       "98339     57  Joe is the Founder and Director of the Relatio...   \n",
       "98340     50  She graduated from Hawaii Pacific University w...   \n",
       "98341     72  She has taught a wide range of management rela...   \n",
       "98342    129  Over the decades , he has treated numerous ind...   \n",
       "98343     44  She received her Ph.D. in Counseling Psycholog...   \n",
       "\n",
       "                                   hard_text_untokenized  \\\n",
       "0      Mr. Bezinque helps clients regain control of t...   \n",
       "1      She has a Ph.D. from the University of Marylan...   \n",
       "2      She is admitted to practice before the U.S. Co...   \n",
       "3      Related StoriesEducation and Behavior in Israe...   \n",
       "4      He received his PhD in Computer Science from C...   \n",
       "...                                                  ...   \n",
       "98339  Joe is the Founder and Director of the Relatio...   \n",
       "98340  She graduated from Hawaii Pacific University w...   \n",
       "98341  She has taught a wide range of management rela...   \n",
       "98342  Over the decades, he has treated numerous indi...   \n",
       "98343  She received her Ph.D. in Counseling Psycholog...   \n",
       "\n",
       "                                     text_without_gender  \n",
       "0      _. _ helps clients regain control of their liv...  \n",
       "1      _ has a Ph.D. from the University of Maryland....  \n",
       "2      _ is admitted to practice before the U.S. Cour...  \n",
       "3      Related StoriesEducation and Behavior in Israe...  \n",
       "4      _ received _ PhD in Computer Science from Cath...  \n",
       "...                                                  ...  \n",
       "98339  _ is the Founder and Director of the Relations...  \n",
       "98340  _ graduated from Hawaii Pacific University wit...  \n",
       "98341  _ has taught a wide range of management relate...  \n",
       "98342  Over the decades, _ has treated numerous indiv...  \n",
       "98343  _ received _ Ph.D. in Counseling Psychology fr...  \n",
       "\n",
       "[98344 rows x 7 columns]"
      ]
     },
     "execution_count": 9,
     "metadata": {},
     "output_type": "execute_result"
    }
   ],
   "source": [
    "\"\"\"\n",
    "A look into the dataset\n",
    "\"\"\"\n",
    "bios_train_df = pd.DataFrame(bios_train)\n",
    "bios_dev_df = pd.DataFrame(bios_dev)\n",
    "bios_test_df = pd.DataFrame(bios_test)\n",
    "log_print('bios_train_df.shape');log_print('bios_dev_df.shape');log_print('bios_test_df.shape');bios_test_df"
   ]
  },
  {
   "cell_type": "markdown",
   "metadata": {
    "collapsed": false
   },
   "source": [
    "# Preprocess for gender prediction"
   ]
  },
  {
   "cell_type": "code",
   "execution_count": 10,
   "metadata": {
    "ExecuteTime": {
     "end_time": "2024-01-25T00:51:49.004795302Z",
     "start_time": "2024-01-25T00:51:48.891483657Z"
    },
    "collapsed": false
   },
   "outputs": [
    {
     "name": "stderr",
     "output_type": "stream",
     "text": [
      "/home/nlp/matan_avitan/.tmp/ipykernel_4094188/2532843221.py:5: FutureWarning: Downcasting behavior in `replace` is deprecated and will be removed in a future version. To retain the old behavior, explicitly call `result.infer_objects(copy=False)`. To opt-in to the future behavior, set `pd.set_option('future.no_silent_downcasting', True)`\n",
      "  z_train = bios_train_df['g'].replace('f', 0).replace('m', 1).astype(int).to_numpy()\n",
      "/home/nlp/matan_avitan/.tmp/ipykernel_4094188/2532843221.py:6: FutureWarning: Downcasting behavior in `replace` is deprecated and will be removed in a future version. To retain the old behavior, explicitly call `result.infer_objects(copy=False)`. To opt-in to the future behavior, set `pd.set_option('future.no_silent_downcasting', True)`\n",
      "  z_dev = bios_dev_df['g'].replace('f', 0).replace('m', 1).astype(int).to_numpy()\n"
     ]
    }
   ],
   "source": [
    "# text_train_df = bios_train_df[['hard_text']]\n",
    "# text_dev_df = bios_dev_df[['hard_text']]\n",
    "# text_test_df = bios_test_df[['hard_text']]\n",
    "\n",
    "z_train = bios_train_df['g'].replace('f', 0).replace('m', 1).astype(int).to_numpy()\n",
    "z_dev = bios_dev_df['g'].replace('f', 0).replace('m', 1).astype(int).to_numpy()\n",
    "\n",
    "y_train = bios_train_df['p'].to_numpy()\n",
    "y_dev = bios_dev_df['p'].to_numpy()"
   ]
  },
  {
   "cell_type": "code",
   "execution_count": 11,
   "metadata": {
    "ExecuteTime": {
     "end_time": "2024-01-25T00:51:59.389373455Z",
     "start_time": "2024-01-25T00:51:59.378680724Z"
    }
   },
   "outputs": [],
   "source": [
    "def encode(corrector, sents: List):\n",
    "    inputs = corrector.embedder_tokenizer(\n",
    "        sents,\n",
    "        return_tensors=\"pt\",\n",
    "        max_length=MAX_SEQUENCE_LENGTH,\n",
    "        truncation=True,\n",
    "        padding=\"max_length\",\n",
    "    )\n",
    "    inputs = inputs.to(DEVICE)\n",
    "    with torch.no_grad():\n",
    "        frozen_embeddings = corrector.inversion_trainer.call_embedding_model(\n",
    "            input_ids=inputs.input_ids,\n",
    "            attention_mask=inputs.attention_mask,\n",
    "        )\n",
    "    return frozen_embeddings.detach().cpu().numpy()"
   ]
  },
  {
   "cell_type": "code",
   "execution_count": 65,
   "metadata": {
    "ExecuteTime": {
     "end_time": "2024-01-25T00:38:15.015766642Z",
     "start_time": "2024-01-25T00:34:46.442001082Z"
    },
    "collapsed": false
   },
   "outputs": [
    {
     "name": "stderr",
     "output_type": "stream",
     "text": [
      "100%|██████████| 500/500 [03:27<00:00,  2.41it/s]\n"
     ]
    }
   ],
   "source": [
    "# tqdm.tqdm.pandas()\n",
    "# bios_train_df['batch_group'] = bios_train_df.index // BATCH_SIZE\n",
    "# bios_train_df['embedding'] = bios_train_df.groupby('batch_group').progress_apply(lambda batch: encode(corrector, batch['hard_text'].tolist()))"
   ]
  },
  {
   "cell_type": "code",
   "execution_count": 12,
   "metadata": {
    "ExecuteTime": {
     "end_time": "2024-01-25T00:55:47.312186792Z",
     "start_time": "2024-01-25T00:52:08.706921187Z"
    },
    "collapsed": false
   },
   "outputs": [
    {
     "name": "stderr",
     "output_type": "stream",
     "text": [
      "100%|██████████| 500/500 [03:57<00:00,  2.11it/s]\n"
     ]
    }
   ],
   "source": [
    "encodings = []\n",
    "\n",
    "for i in tqdm.tqdm(range(0, len(bios_train_df), BATCH_SIZE)):\n",
    "    sents_batch = bios_train_df.loc[i:i+BATCH_SIZE, 'hard_text'].tolist()\n",
    "    encodings.append(encode(corrector, sents_batch))\n",
    "x = np.concatenate(encodings, axis=0)\n",
    "x = x[:len(bios_train_df)] # Nan are added to the last batch, let's remove them"
   ]
  },
  {
   "cell_type": "code",
   "execution_count": 13,
   "metadata": {
    "ExecuteTime": {
     "end_time": "2024-01-25T00:55:47.735497095Z",
     "start_time": "2024-01-25T00:55:47.694754597Z"
    },
    "collapsed": false
   },
   "outputs": [],
   "source": [
    "x = x[:len(bios_train_df)] # Nan are added to the last batch, let's remove them"
   ]
  },
  {
   "cell_type": "code",
   "execution_count": 56,
   "metadata": {
    "ExecuteTime": {
     "end_time": "2024-01-24T17:15:19.824144617Z",
     "start_time": "2024-01-24T17:15:09.586188844Z"
    },
    "collapsed": false
   },
   "outputs": [
    {
     "name": "stderr",
     "output_type": "stream",
     "text": [
      "huggingface/tokenizers: The current process just got forked, after parallelism has already been used. Disabling parallelism to avoid deadlocks...\n",
      "To disable this warning, you can either:\n",
      "\t- Avoid using `tokenizers` before the fork if possible\n",
      "\t- Explicitly set the environment variable TOKENIZERS_PARALLELISM=(true | false)\n"
     ]
    },
    {
     "name": "stdout",
     "output_type": "stream",
     "text": [
      "Collecting POT\r\n",
      "  Downloading POT-0.9.3-cp310-cp310-manylinux_2_17_x86_64.manylinux2014_x86_64.whl.metadata (30 kB)\r\n",
      "Requirement already satisfied: numpy>=1.16 in /home/nlp/matan_avitan/mambaforge/envs/vec2text_inter/lib/python3.10/site-packages (from POT) (1.26.3)\r\n",
      "Requirement already satisfied: scipy>=1.6 in /home/nlp/matan_avitan/mambaforge/envs/vec2text_inter/lib/python3.10/site-packages (from POT) (1.11.4)\r\n",
      "Downloading POT-0.9.3-cp310-cp310-manylinux_2_17_x86_64.manylinux2014_x86_64.whl (823 kB)\r\n",
      "\u001b[2K   \u001b[90m━━━━━━━━━━━━━━━━━━━━━━━━━━━━━━━━━━━━━━━━\u001b[0m \u001b[32m823.0/823.0 kB\u001b[0m \u001b[31m3.7 MB/s\u001b[0m eta \u001b[36m0:00:00\u001b[0m00:01\u001b[0m00:01\u001b[0m\r\n",
      "\u001b[?25hInstalling collected packages: POT\r\n",
      "Successfully installed POT-0.9.3\r\n"
     ]
    }
   ],
   "source": [
    "!pip install POT"
   ]
  },
  {
   "cell_type": "code",
   "execution_count": 18,
   "metadata": {
    "ExecuteTime": {
     "end_time": "2024-01-24T17:16:55.883494824Z",
     "start_time": "2024-01-24T17:16:55.877586960Z"
    },
    "collapsed": false
   },
   "outputs": [
    {
     "data": {
      "text/plain": [
       "(255710, 768)"
      ]
     },
     "execution_count": 18,
     "metadata": {},
     "output_type": "execute_result"
    }
   ],
   "source": [
    "x.shape\n"
   ]
  },
  {
   "cell_type": "code",
   "execution_count": 19,
   "metadata": {
    "ExecuteTime": {
     "end_time": "2024-01-24T17:18:43.216620928Z",
     "start_time": "2024-01-24T17:18:43.165078691Z"
    },
    "collapsed": false
   },
   "outputs": [
    {
     "data": {
      "text/plain": [
       "(255710,)"
      ]
     },
     "execution_count": 19,
     "metadata": {},
     "output_type": "execute_result"
    }
   ],
   "source": [
    "z_train.shape"
   ]
  },
  {
   "cell_type": "code",
   "execution_count": 20,
   "metadata": {
    "ExecuteTime": {
     "end_time": "2024-01-24T17:18:47.758464104Z",
     "start_time": "2024-01-24T17:18:47.749648129Z"
    },
    "collapsed": false
   },
   "outputs": [
    {
     "data": {
      "text/plain": [
       "array([0, 1, 1, ..., 1, 1, 1])"
      ]
     },
     "execution_count": 20,
     "metadata": {},
     "output_type": "execute_result"
    }
   ],
   "source": [
    "z_train"
   ]
  },
  {
   "cell_type": "code",
   "execution_count": 22,
   "metadata": {
    "ExecuteTime": {
     "end_time": "2024-01-25T00:55:53.374654036Z",
     "start_time": "2024-01-25T00:55:47.735215607Z"
    }
   },
   "outputs": [],
   "source": [
    "import ot # !pip install POT\n",
    "\n",
    "\n",
    "# generate counterfactuals\n",
    "\n",
    "z_train = z_train[:len(x)]\n",
    "x_source = x[z_train==0]\n",
    "x_target = x[z_train==1]\n",
    "\n",
    "mean_source = np.mean(x_source, axis=0)\n",
    "mean_target = np.mean(x_target, axis=0)\n",
    "\n",
    "\n",
    "ot_linear = ot.da.LinearTransport(reg=1e-7)\n",
    "ot_linear.fit(Xs=x_source, Xt=x_target)\n",
    "train_x_transformed = x.copy()\n",
    "train_x_transformed[z_train==0] = ot_linear.transform(Xs=x_source) # MiMiC\n",
    "#train_x_transformed[z_train==1] = train_x_transformed[z_train==0] + (mean_target - mean_source) # MiMiC+\n"
   ]
  },
  {
   "cell_type": "markdown",
   "metadata": {},
   "source": [
    "# Run on a sample"
   ]
  },
  {
   "cell_type": "code",
   "execution_count": 24,
   "metadata": {
    "ExecuteTime": {
     "end_time": "2024-01-25T00:56:54.057172646Z",
     "start_time": "2024-01-25T00:56:43.648993300Z"
    },
    "collapsed": false
   },
   "outputs": [
    {
     "name": "stdout",
     "output_type": "stream",
     "text": [
      "Original:  She has been working with children in camp , community and school settings for the past 8 years . She believes in the importance of cultivating self - love and awareness in black children at a very young age and is excited to be apart of Black Lives Matter Toronto ’s Freedom School !\n"
     ]
    },
    {
     "name": "stderr",
     "output_type": "stream",
     "text": [
      "/home/nlp/matan_avitan/mambaforge/envs/vec2text_inter_old/lib/python3.11/site-packages/transformers/generation/utils.py:1473: UserWarning: You have modified the pretrained model configuration to control generation. This is a deprecated strategy to control generation and will be removed soon, in a future version. Please use and modify the model generation configuration (see https://huggingface.co/docs/transformers/generation_strategies#default-text-generation-configuration )\n",
      "  warnings.warn(\n"
     ]
    },
    {
     "name": "stdout",
     "output_type": "stream",
     "text": [
      "Transformed:  ['She has been working with children for over 15 years and is passionate about the importance of freedom. She believes in a positive awareness of Black children ’s rights and is able to share her love of life with others. She is also a member of the Toronto Black Camps Freedom School']\n",
      "----------------\n",
      "Original:  He holds a PhD in Biosystems Engineering from University College Dublin ( Ireland ) . He previously held academic positions at University College Dublin ( Ireland ) , Dublin Institute of Technology ( Ireland ) and Harper Adams University ( UK ) . He was a PhD research assistant at Teagasc Irish Agriculture and Food Development Authority . His current research focus is on PLF applications , focussing on real - time modelling and control of animal bio - responses . Tomas started as daily coordinator of the EU - PLF project ( 2012 - 2016 ) and now coordinates 4 Ph.D. students and Masters students in PLF at M3-BIORES . He is PI and co - PI on collaborative National and International projects . He also coordinator of courses on Measuring , Modelling and Managing Bio - responses and Sustainable PLF , and Animal Production Engineering .\n",
      "Transformed:  ['He holds a PhD in Biosystems Engineering from University College Dublin, Ireland. He was a postdoctoral fellow at the University of Edinburgh, Ireland, and a postdoctoral fellow at the University of Texas at Austin.']\n",
      "----------------\n",
      "Original:  John served as the Department Chair of Foley ’s national litigation department from 1986 to 1994 and as the Managing Partner of Foley ’s Milwaukee office from 1994 to 1999 . W hen he retired in 2005 , John was listed in The\n",
      "Transformed:  ['John served as the Foley Chair of the Department of Surgical Properties from 1997 to 2001, where he was the partner of Foley ’s Milwaukee office from 2001 to 2003. John retired in 2003 after a long - term litigation.']\n",
      "----------------\n",
      "Original:  She has more 20 years of experience in the field of Neurosurgery . Dr. Konstantia Stoforou is currently the Director at NeuroCure , Greece . Her clinical interest includes Neurosurgical Oncology of Brain , Spine , Skull Base , Endoscopic Pituitary Surgery and Skull Base , Microsurgery , Neuroendoscopy , Spinal Neuromodulation for Pain Surgery , Gamma Knife Radiation . In 2003 , she was co - author in two chapters in a book named \" Neoplasms - Cranial Base Tumors , \" \" Skull Base Surgery \" and extensively many publications in the field of Neurosurgery .\n",
      "Transformed:  ['She has been a Clinical Neurosurgeon for the last 10 years. Dr. Konstantia Stooulou is Director of Neurosurgery at the Neurosurgical Center of Greece. Her clinical expertise is in the area of Neurosurgery, Neurosurgery, Neuro']\n",
      "----------------\n",
      "Original:  Over the years Ash has built an impressive fashion portfolio featuring work done for stylists , designers , magazines , and models . In the past decade , the photographer has also covered events such as parties , speeches , conferences , fundraisers , and many corporate events . Ash has embraced the opportunities offered by working in a city famed for its music and has developed skills in live music photography . His colorful pictures are delivered within 24 hours of the music event .\n",
      "Transformed:  ['For the past decade, Ash has exhibited and published fashion and lifestyle projects, including portraits, fashion, editorial, and promotional photos. For the past four years, he has designed and photographed hundreds of clients, including : :']\n",
      "----------------\n",
      "Original:  Her primary research commitments focus on school - based strategies to promote active healthy lifestyles among children and youth . In particular , she works collaboratively with teachers , researchers , and community stakeholders to enhance students ’ physical activity behaviours and well - being through changes to school curricula , school policy , and school environments .\n",
      "Transformed:  ['Her primary research interests include the development of healthy lifestyles and strategies for school leaders, and the development of effective collaborative strategies for school leaders. She actively engages in youth ’s activities and activities, including the development of a strong commitment to improving school outcomes.']\n",
      "----------------\n",
      "Original:  She holds an MFA from the California College of the Arts , and has taught painting and drawing at many Bay Area institutions , including the San Francisco Art Institute , the California College of the Arts , the University of California Berkeley , and San Francisco State University . Her work is in both public and private collections , among them the Oakland Museum , the San Antonio Museum , and the Long Beach Museum of Art . She has been awarded artist ’s residencies at the Djerassi Ucross foundations in the United States , and the Delfina Studio Trust and Fundacion Valparaiso in Spain . Bovenzi ’s art has always used the natural world as a source for imagery . For the past ten years , she has spent summers in rural southern Colorado , where the landscape and the indigenous cultures have been a strong influence on her work .\n",
      "Transformed:  ['She holds a BFA in painting from the University of California, San Francisco ( MSF ) and has taught at the University of California, Berkeley, and the University of California, San Francisco ( MSF ). Her work has been published in numerous publications, including Art']\n",
      "----------------\n",
      "Original:  At both Weskoppies Hospital in Pretoria and in his current practice he has worked with adults , couples and children . He may be reached at Intercare on 041 - 395 9600 or 082 564 1071 .\n",
      "Transformed:  ['He has worked with children and adults in Pretoria Hospital and Intercare Hospitals at Wopiskopee Hospital and in the West End of Pretoria. He can be reached at : 61 - 62 - 62 - 62 - 62 -']\n",
      "----------------\n",
      "Original:  She holds a clinical license in social work from NJ where she lived and practiced social work for 11 years before moving to Washington State in 2016 to teach at EWU . She has earned her BSW and MSW from Sofia University \" St. Kliment Ohridski \" , Bulgaria and DSW in Clinical Social work from University of Pennsylvania . Rumyana ’s clinical and scholarly interests include women&#39;s reproductive rights and mental health , perinatal social work , trauma and grief , trauma - informed interventions and systems , and interdisciplinary studies and approach to holistic healthcare .\n",
      "Transformed:  ['She has worked in social work for over 10 years and has earned her B.S. in Social Work from Eastern Wisconsin University, her M.S. in Social Work from Serbia, and her PhD in Social Work from the University of Louisville, KY. She also taught in Bulgaria as Oleg']\n",
      "----------------\n",
      "Original:  The main research field lie in the area of image processing and analysis , pattern recognition and machine learning . Recently , he has participated 3 projects from National Science Foundation , several projects from 863 Hi - tech project , International Science and Technology Cooperation and National Science - technology support Plan . He has published more than 50 scientific papers in international or Chinese journals and conferences , and he obtained the first , second and third prizes of Hubei Science and Technology Progress Award , respectively . He received the title of National Excellent Courses for teaching Assembly language programming\n",
      "Transformed:  ['The main research field is in the area of image processing, software analysis, machine learning, and image recognition. Since 2011 he has been working with several national and international organizations. Among the main research projects he has contributed are : :']\n",
      "----------------\n",
      "Original:  Her work focuses on the politics of representation and resistance from an intersectional perspective . She ’s most interested in surreal , realist , genre - bending filmmaking .\n",
      "Transformed:  ['Her work focuses on the intersection of representation, resistance, and politics. Her most interesting interest is filmmaking, a genre - based, surrealist, and the political bending of the world.']\n",
      "----------------\n",
      "Original:  He has lectured nationally on surgery and diabetic care , and was a speaker at the largest podiatric medical conference in the world . Dr. McLean has taught at two different medical schools , both in the department of surgery . Board certified in wound care , McLean utilizes a revolutionary treatment for wound healing , which is also used to treat neuropathy , the nerve problem developed by many diabetics .\n",
      "Transformed:  ['He has lectured on diabetes and wound care medicine and has lectured in many medical and surgical settings. Dr. McClean was board certified in surgery by the American Board of Surgery and was a lecturer at the World Health Organization.']\n",
      "----------------\n",
      "Original:  Patients rated her highly , giving her an average of 4.5 stars out of 5 . Dr. Tran accepts Anthem , Blue Cross / Blue Shield , and Blue Shield , in addition to other insurance carriers . She obtained her medical school training at St. Louis University School of Medicine and performed her residency at a hospital affiliated with the University of Southern California ( USC ) . In addition to English , she speaks Vietnamese . Her hospital / clinic affiliations include Saddleback Memorial Medical Center and MemorialCare Medical Group . Dr. Tran has an open panel .\n",
      "Transformed:  ['Patients rated her highly, giving her an average of 4.5 stars out of 5. Dr. Tran accepts Anthem, Blue Cross / Blue Shield, and Blue Shield, as well as other insurance carriers. She is a graduate of Louisiana State University School']\n",
      "----------------\n",
      "Original:  She obtained her doctoral degree from the University of Massachusetts Amherst . Her research focuses on the political economy of development in South Asia . She is especially interested in examining development issues using the lens of gender . She has worked on post - conflict reconstruction , peacebuilding and development , feminization of poverty and female headship , microfinance , and more recently , environmental adaptation and resource conflicts . She has carried out field - based research in Nepal and India for these projects . Her work has been published in diverse and interdisciplinary fora such as Feminist Economics , Gender Place & Culture , and the Community Development Journal , and in edited volumes . Smita is also interested in mixed methods research in economics , and has recently contributed to an edited collection , the Handbook of Research Methods in Heterodox Economics .\n",
      "Transformed:  ['She received her doctorate from the University of Massachusetts Amherst. Her research focuses on the development of gender and political economy in South Asia. She has also worked on issues related to development, reconstruction, and peacebuilding.']\n",
      "----------------\n",
      "Original:  The professionally trained artist and former flight attendant and runway model , uses her extensive fashion , art , and travel experience to bring a unique , internationally - inspired feel to her designs . Outside of interior design , Anne is regularly commissioned to style models for pageants , magazine covers , and events .\n",
      "Transformed:  ['She uses her unique style and experience to create interiors that are a blend of fashion, portraiture, and travel. Anne is also commissioned by the international fashion industry as a model, and has worked with clients including the runway showbiz, fashion and travel enthusiast.']\n",
      "----------------\n",
      "Original:  His areas of expertise include back pain , complex regional pain syndrome ( CRPS ) , and cancer pain . Dr. Sadoughi 's hospital / clinic affiliations include UCLA Medical Center , Santa Monica and Ronald Reagan UCLA Medical Center . He is in - network for several insurance carriers , including Anthem , Blue Cross / Blue Shield , and Blue Shield . After attending Shiraz University of Medical Sciences for medical school , he completed his residency training at a hospital affiliated with the University of Illinois at Chicago . Awards and/or distinctions Dr. Sadoughi has received include Dillon 's Award and Regional Anesthesia Teacher of the Year Award . In addition to English , he speaks Persian .\n",
      "Transformed:  ['His clinical affiliations include UCLA, UCLA SCP, and UCLA SCP. Pain disorders, rheumatology, and spine pain are among the top - in - the - class hospitals in the state of New York. Dr. Sadi Francis is']\n",
      "----------------\n",
      "Original:  Her research interest is on social interactions between mothers and their infants . One of her research topics is whether and how mothers ’ emotional experience in parenting , such as separation anxiety , contributes to their sensitivity and responsiveness to infants ’ social signals during social interaction . She is also interested in investigating the outcomes of mother - infant interaction that seek to understand the linkage of the quality of social interaction between mother and infant to later child compliance and social understanding in toddlerhood and preschool age .\n",
      "Transformed:  ['Her research interests are social interactions between infants and mothers. She has a particular interest in how infants ’ anxiety experiences relate to emotional separation and how infants ’ social interactions can be correlated to their emotional responses.']\n",
      "----------------\n",
      "Original:  He has published articles on the subjects of solid mechanics , mathematical logic , and Mariology , in journals including the Journal of the Mechanics and Physics of Solids , the Notre Dame Journal of Formal Logic , and the Homiletic and Pastoral Review . He is an associate member of the lay apostolate of the Franciscans of the Immaculate , the Mission of the Immaculate Mediatrix , and he is a regular contributor to the bi - monthly magazine Missio Immaculatae International . He is married to Clara M.B. Fleischmann , and they have been blessed so far with five children : Gertrude , Thomas , Mattias , Anselm , and Philip .\n",
      "Transformed:  ['He has published articles in Solid Logic, Mathematical Physics, Mechanics, Physicology, Logic, Logic, Logic, and the Journal of the Applied Mathematics of the Biologist.']\n",
      "----------------\n",
      "Original:  The healings are thus : the Light enters into her Crown through the top of her head . Thus , the Light beams through her hands and body moving her completely and making it easy for her to go straight to the pain without even asking the person what is wrong with them .\n",
      "Transformed:  [\"The Lights are able to put her hands in the top of the head and the pain is directly connected to the person's body. She then puts her hands in the top of the crown and then puts her hands in the bottom of the crown.\"]\n",
      "----------------\n",
      "Original:  She has taught high school chemistry and physical science for over 20 years , and worked in a technology leadership role in a K-12 school district . Heather Toomey Zimmerman is an associate professor of education at Penn State University . Her professional work experience includes being a museum educator , wetland educator , and learning scientist . Contact them at j.weible@cmich.edu and heather@psu.edu .\n",
      "Transformed:  ['She has taught in the classroom for over 20 years and is a former faculty member of the University of Pittsburgh School of Law. Heather Tommy is an AP - EMS teacher and a former AP - EMS teacher.']\n",
      "----------------\n",
      "Original:  After completing his PhD in Jeffery W. Kelly 's laboratory at Texas A&M University in 1995 , he worked as a postdoctoral fellow in Bill DeGrado 's laboratory from 1996 to 1999 . Schneider received an NSF Career Award in 2004 and a DuPont Young Faculty Award in 2005 .\n",
      "Transformed:  ['He completed his PhD in neo- - microbial laboratory at Texas A&M University in 1996. In 1999, Schneider worked as a postdoctoral fellow at Kelly & Associates. In 1999, he received a J.D. from the University']\n",
      "----------------\n",
      "Original:  He received his Ph.D. in Management and Human Resources from the University of Wisconsin - Madison . His current research interests include dynamics of competition and collaboration in niche industries ; managerial sense - making in international contexts ; enabling and constraining forces of cognition and culture ; and the strategic management of institutional environments . His work has been published in Advances of Strategic Management and the Academy of Management Review ( forthcoming ) .\n",
      "Transformed:  ['He received his PhD from the University of Wisconsin - Madison. His current research interests lie in the area of human resource management, organizational cognition, and the intersection of business and social development. He has also supervised a number of NIH - BSc - ']\n",
      "----------------\n",
      "Original:  He has successfully represented countless clients in all types of injury cases , including : car , truck , and motorcycle accidents , pedestrian cases , taxi , bus , and train accidents , slip and fall injuries , premises liability cases , construction negligence , nursing home negligence , medical malpractice cases , wrongful death cases , dog bites , and workers ’ compensation matters . Matthew strives to provide knowledgeable and aggressive representation in order to obtain the best possible outcome for his clients . Matthew is an experienced trial attorney who has litigated thousands of personal injury matters , and has achieved numerous jury trial verdicts and settlements on behalf of injured Plaintiffs in Illinois .\n",
      "Transformed:  ['In this case, he has represented clients in a wide variety of types of cases, including trucking accidents, construction accidents, premises liability, car accidents, maternity, nursing home neglect, wrongful death, and bus injury.']\n",
      "----------------\n",
      "Original:  She received her doctorate in educational psychology and educational technology with a language and literacy emphasis from Michigan State University . Professor Kganetso taught kindergarten for nine years , and her research interests focus on how context influences young children 's abilities to read and write different genres — particularly informational texts . Her examinations of both U.S. and international contexts focus on how connecting home , community , and school contexts can foster language and literacy learning in meaningful , culturally relevant , and culturally sustaining ways .\n",
      "Transformed:  ['She earned her doctorate in literacy from Michigan State University. Professor Kganto ’s research interests include the influence of language on children ’s learning and the use of language as a classroom context, and the influence of language and reading on children ’s writing.']\n",
      "----------------\n",
      "Original:  She graduated from Saint Joseph 's College of New York in June of 2005 with a Bachelor Degree in General and Special Education . In 2007 , she graduated from Long Island University with a Master Degree in Special Education . Since her graduation from Saint Joseph 's College , she has taught children with autism both in school and home environments . Over the years , she has learned how important social stories are for children with autism and other disabilities . She has used social stories with her students to teach many different positive behaviors . She is hoping her book , which has been created much like a social story , will be a valuable resource for both parents and other teachers .\n",
      "Transformed:  ['She graduated from Long Island College in 2007 with a Bachelor ’s Degree in Special Education and a Master ’s Degree in Special Education. She has taught at St. Joseph ’s College since 2008.']\n",
      "----------------\n",
      "Original:  He is a current member of the National Research Council of Canada Standing Committee on Housing and Small Buildings ( Part 9 of the National Building Code of Canada ) . Richard is a trainer offering building industry and general public training . He is the editor of SOLPLAN REVIEW , Canada ’s journal of energy conservation , building science and building practice .\n",
      "Transformed:  ['He is a member of the Canadian Society of Building and Planning Research and is a member of the National Council of Canada and the National Council of Small Business Practices. Richard has published extensively on residential and residential building policy and is a former editor of the Canadian Open House.']\n",
      "----------------\n",
      "Original:  She attended the University of Texas at Austin and earned a Bachelor of Science degree in Nutrition as well as completed her dietetic internship through the University of Texas Coordinated Program in Dietetics .\n",
      "Transformed:  ['She completed her Bachelor of Science degree in Nutrition from the University of Texas at Austin and her dietetic internship at the University of Texas at Austin, where she earned a Bachelor of Science degree in Nutritional Science.']\n",
      "----------------\n",
      "Original:  Jeff ’s interests include SOA / microservices , architecting large - scale systems , and data architecture . He has worked on projects ranging from complex battle planning systems to a cloud - based hotel reservation system . Jeff is passionate about disruptive projects that change industries , mentoring architects and developers , and the next challenge .\n",
      "Transformed:  ['Jeff has a deep interest in systems architecture, focusing on scalable and scalable services, including SOA, a large scale project, and a large scale project. Jeff has also been involved in the development of microservices, enabling customers to live their life']\n",
      "----------------\n",
      "Original:  He was born in South California and raised there . He was a rock musician in Hollywood , Los Angeles . He joined the Calvary Chapel Costa Mesa in 1980 and was under Pastor Chuck Smith . He subsequently became the assistant Pastor at Calvary Chapel Pacific Hills in California and stayed there for many years . In 1991 , he moved to Houston and founded Calvary Houston . He began as a small home fellowship that focused on contemporary worship and today he serves thousands of people in the area . He is blessed with a loving family and holds regular radio broadcasts in the region for teaching the tenets of the Bible and bringing people closer to God .\n",
      "Transformed:  ['He was born in Los Angeles, California. He was a worship pastor at the Hollywood Church in Hollywood, California and became a worship pastor at the Hollywood Church in Santa Barbara in the late 80s. He was a member of the California Rock Choir.']\n",
      "----------------\n",
      "Original:  Sara has a broad range of professional experience and interests developed from working in various contexts including the NHS , private practice , schools , charitable sector and corporate sector . Her clinical experience includes working with adults , couples , children , adolescents and families . She has worked with a variety of complex psychological difficulties including depression , anxiety , stress , insomnia , bereavement , work - related issues , eating disorders , obsessive compulsive disorder , sexual abuse , sexual identity issues , drug and alcohol dependency , relationship issues and a range of other existential issues .\n",
      "Transformed:  ['Sara has a broad range of clinical experience including working with adults, children, adolescents, families, families, health care professionals, and school settings. She has worked in a variety of clinical settings, including a private practice.']\n",
      "----------------\n"
     ]
    }
   ],
   "source": [
    "for i in range(30):\n",
    "    print(\"Original: \", bios_train_df.loc[i, 'hard_text'])\n",
    "    print(\"Transformed: \", vec2text.invert_embeddings(torch.tensor(train_x_transformed[i]).unsqueeze(0).cuda().float(), corrector=corrector))\n",
    "    print(\"----------------\")"
   ]
  },
  {
   "cell_type": "markdown",
   "metadata": {},
   "source": [
    "# Run on the entire dataset"
   ]
  },
  {
   "cell_type": "code",
   "execution_count": null,
   "metadata": {
    "ExecuteTime": {
     "start_time": "2024-01-25T00:59:31.934065615Z"
    },
    "collapsed": false
   },
   "outputs": [],
   "source": [
    "for i in range(len(bios_train_df)):\n",
    "    bios_train_df.loc[i, 'transformed_hard_text'] = vec2text.invert_embeddings(torch.tensor(train_x_transformed[i]).unsqueeze(0).cuda().float(), corrector=corrector)\n",
    "bios_train_df.to_csv('bios_data/bios_train_df.csv', index=False)"
   ]
  },
  {
   "cell_type": "code",
   "execution_count": null,
   "metadata": {
    "collapsed": false
   },
   "outputs": [],
   "source": []
  }
 ],
 "metadata": {
  "kernelspec": {
   "display_name": "py39",
   "language": "python",
   "name": "python3"
  },
  "language_info": {
   "codemirror_mode": {
    "name": "ipython",
    "version": 3
   },
   "file_extension": ".py",
   "mimetype": "text/x-python",
   "name": "python",
   "nbconvert_exporter": "python",
   "pygments_lexer": "ipython3",
   "version": "3.11.7"
  }
 },
 "nbformat": 4,
 "nbformat_minor": 2
}
