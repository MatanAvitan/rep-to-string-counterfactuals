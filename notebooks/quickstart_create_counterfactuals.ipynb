{
 "cells": [
  {
   "cell_type": "code",
   "execution_count": 2,
   "metadata": {},
   "outputs": [],
   "source": [
    "import sys\n",
    "from pathlib import Path\n",
    "base_path = Path('..')\n",
    "sys.path.insert(0, str(base_path))"
   ]
  },
  {
   "cell_type": "code",
   "execution_count": 3,
   "metadata": {},
   "outputs": [],
   "source": [
    "import tqdm\n",
    "import torch\n",
    "import pickle\n",
    "import warnings\n",
    "import vec2text\n",
    "import numpy as np\n",
    "import pandas as pd\n",
    "from typing import List\n",
    "import ot # !pip install POT\n",
    "from transformers import AutoModel, AutoTokenizer\n",
    "from sentence_transformers import SentenceTransformer\n",
    "warnings.filterwarnings(action='ignore')\n",
    "\n",
    "def log_print(str_to_print):\n",
    "    eval_str_to_print = eval(str_to_print)\n",
    "    if type(eval_str_to_print) == list:\n",
    "        eval_str_to_print = '\\n'.join(eval_str_to_print)\n",
    "    print(f\"{str_to_print}: {eval_str_to_print}\")\n",
    "\n",
    "IS_FIRST = False\n",
    "MAX_SEQUENCE_LENGTH = 64\n",
    "DEVICE = 'cuda:2' if torch.cuda.is_available() else 'cpu'\n",
    "BATCH_SIZE = 512"
   ]
  },
  {
   "cell_type": "markdown",
   "metadata": {},
   "source": [
    "# Load our bias-bios model trained on sequences up to 64 tokens length"
   ]
  },
  {
   "cell_type": "code",
   "execution_count": 4,
   "metadata": {
    "ExecuteTime": {
     "end_time": "2024-01-26T21:14:38.049760435Z",
     "start_time": "2024-01-26T21:14:11.640687331Z"
    }
   },
   "outputs": [
    {
     "data": {
      "application/vnd.jupyter.widget-view+json": {
       "model_id": "79fca4f4e56f499784257c456ecb5a0a",
       "version_major": 2,
       "version_minor": 0
      },
      "text/plain": [
       "Loading checkpoint shards:   0%|          | 0/8 [00:00<?, ?it/s]"
      ]
     },
     "metadata": {},
     "output_type": "display_data"
    },
    {
     "data": {
      "application/vnd.jupyter.widget-view+json": {
       "model_id": "bdaf9eb875124bf88ebb7af289b7ee29",
       "version_major": 2,
       "version_minor": 0
      },
      "text/plain": [
       "Loading checkpoint shards:   0%|          | 0/6 [00:00<?, ?it/s]"
      ]
     },
     "metadata": {},
     "output_type": "display_data"
    }
   ],
   "source": [
    "BASE_MODEL = 'bias-bios64'\n",
    "corrector = vec2text.load_corrector(BASE_MODEL)"
   ]
  },
  {
   "cell_type": "code",
   "execution_count": 7,
   "metadata": {
    "ExecuteTime": {
     "end_time": "2024-01-24T16:29:46.669344545Z",
     "start_time": "2024-01-24T16:28:50.956393303Z"
    },
    "collapsed": false
   },
   "outputs": [
    {
     "name": "stdout",
     "output_type": "stream",
     "text": [
      "--2024-01-24 18:28:51--  https://nlp.biu.ac.il/~ravfogs/rlace-cr/bios/bios_data/\r\n",
      "Resolving nlp.biu.ac.il (nlp.biu.ac.il)... 132.70.196.153\r\n",
      "Connecting to nlp.biu.ac.il (nlp.biu.ac.il)|132.70.196.153|:443... connected.\r\n",
      "HTTP request sent, awaiting response... 200 OK\r\n",
      "Length: 2703 (2.6K) [text/html]\r\n",
      "Saving to: ‘bios_data/index.html.tmp’\r\n",
      "\r\n",
      "index.html.tmp      100%[===================>]   2.64K  --.-KB/s    in 0s      \r\n",
      "\r\n",
      "2024-01-24 18:28:51 (53.9 MB/s) - ‘bios_data/index.html.tmp’ saved [2703/2703]\r\n",
      "\r\n",
      "Loading robots.txt; please ignore errors.\r\n",
      "--2024-01-24 18:28:51--  https://nlp.biu.ac.il/robots.txt\r\n",
      "Reusing existing connection to nlp.biu.ac.il:443.\r\n",
      "HTTP request sent, awaiting response... 404 Not Found\r\n",
      "2024-01-24 18:28:51 ERROR 404: Not Found.\r\n",
      "\r\n",
      "Removing bios_data/index.html.tmp since it should be rejected.\r\n",
      "\r\n",
      "--2024-01-24 18:28:51--  https://nlp.biu.ac.il/~ravfogs/rlace-cr/bios/bios_data/?C=N;O=D\r\n",
      "Reusing existing connection to nlp.biu.ac.il:443.\r\n",
      "HTTP request sent, awaiting response... 200 OK\r\n",
      "Length: 2703 (2.6K) [text/html]\r\n",
      "Saving to: ‘bios_data/index.html?C=N;O=D.tmp’\r\n",
      "\r\n",
      "index.html?C=N;O=D. 100%[===================>]   2.64K  --.-KB/s    in 0s      \r\n",
      "\r\n",
      "2024-01-24 18:28:51 (57.5 MB/s) - ‘bios_data/index.html?C=N;O=D.tmp’ saved [2703/2703]\r\n",
      "\r\n",
      "Removing bios_data/index.html?C=N;O=D.tmp since it should be rejected.\r\n",
      "\r\n",
      "--2024-01-24 18:28:51--  https://nlp.biu.ac.il/~ravfogs/rlace-cr/bios/bios_data/?C=M;O=A\r\n",
      "Reusing existing connection to nlp.biu.ac.il:443.\r\n",
      "HTTP request sent, awaiting response... 200 OK\r\n",
      "Length: 2703 (2.6K) [text/html]\r\n",
      "Saving to: ‘bios_data/index.html?C=M;O=A.tmp’\r\n",
      "\r\n",
      "index.html?C=M;O=A. 100%[===================>]   2.64K  --.-KB/s    in 0s      \r\n",
      "\r\n",
      "2024-01-24 18:28:51 (46.2 MB/s) - ‘bios_data/index.html?C=M;O=A.tmp’ saved [2703/2703]\r\n",
      "\r\n",
      "Removing bios_data/index.html?C=M;O=A.tmp since it should be rejected.\r\n",
      "\r\n",
      "--2024-01-24 18:28:51--  https://nlp.biu.ac.il/~ravfogs/rlace-cr/bios/bios_data/?C=S;O=A\r\n",
      "Reusing existing connection to nlp.biu.ac.il:443.\r\n",
      "HTTP request sent, awaiting response... 200 OK\r\n",
      "Length: 2703 (2.6K) [text/html]\r\n",
      "Saving to: ‘bios_data/index.html?C=S;O=A.tmp’\r\n",
      "\r\n",
      "index.html?C=S;O=A. 100%[===================>]   2.64K  --.-KB/s    in 0s      \r\n",
      "\r\n",
      "2024-01-24 18:28:51 (125 MB/s) - ‘bios_data/index.html?C=S;O=A.tmp’ saved [2703/2703]\r\n",
      "\r\n",
      "Removing bios_data/index.html?C=S;O=A.tmp since it should be rejected.\r\n",
      "\r\n",
      "--2024-01-24 18:28:51--  https://nlp.biu.ac.il/~ravfogs/rlace-cr/bios/bios_data/?C=D;O=A\r\n",
      "Reusing existing connection to nlp.biu.ac.il:443.\r\n",
      "HTTP request sent, awaiting response... 200 OK\r\n",
      "Length: 2703 (2.6K) [text/html]\r\n",
      "Saving to: ‘bios_data/index.html?C=D;O=A.tmp’\r\n",
      "\r\n",
      "index.html?C=D;O=A. 100%[===================>]   2.64K  --.-KB/s    in 0s      \r\n",
      "\r\n",
      "2024-01-24 18:28:51 (110 MB/s) - ‘bios_data/index.html?C=D;O=A.tmp’ saved [2703/2703]\r\n",
      "\r\n",
      "Removing bios_data/index.html?C=D;O=A.tmp since it should be rejected.\r\n",
      "\r\n",
      "--2024-01-24 18:28:51--  https://nlp.biu.ac.il/~ravfogs/rlace-cr/bios/bios_data/bios_dev.pickle\r\n",
      "Reusing existing connection to nlp.biu.ac.il:443.\r\n",
      "HTTP request sent, awaiting response... 200 OK\r\n",
      "Length: 66595445 (64M)\r\n",
      "Saving to: ‘bios_data/bios_dev.pickle’\r\n",
      "\r\n",
      "bios_dev.pickle     100%[===================>]  63.51M  30.5MB/s    in 2.1s    \r\n",
      "\r\n",
      "2024-01-24 18:28:53 (30.5 MB/s) - ‘bios_data/bios_dev.pickle’ saved [66595445/66595445]\r\n",
      "\r\n",
      "--2024-01-24 18:28:53--  https://nlp.biu.ac.il/~ravfogs/rlace-cr/bios/bios_data/bios_test.pickle\r\n",
      "Reusing existing connection to nlp.biu.ac.il:443.\r\n",
      "HTTP request sent, awaiting response... 200 OK\r\n",
      "Length: 182106720 (174M)\r\n",
      "Saving to: ‘bios_data/bios_test.pickle’\r\n",
      "\r\n",
      "bios_test.pickle    100%[===================>] 173.67M  40.9MB/s    in 4.3s    \r\n",
      "\r\n",
      "2024-01-24 18:28:58 (40.5 MB/s) - ‘bios_data/bios_test.pickle’ saved [182106720/182106720]\r\n",
      "\r\n",
      "--2024-01-24 18:28:58--  https://nlp.biu.ac.il/~ravfogs/rlace-cr/bios/bios_data/bios_train.pickle\r\n",
      "Reusing existing connection to nlp.biu.ac.il:443.\r\n",
      "HTTP request sent, awaiting response... 200 OK\r\n",
      "Length: 455284434 (434M)\r\n",
      "Saving to: ‘bios_data/bios_train.pickle’\r\n",
      "\r\n",
      "bios_train.pickle   100%[===================>] 434.19M  57.2MB/s    in 8.6s    \r\n",
      "\r\n",
      "2024-01-24 18:29:07 (50.5 MB/s) - ‘bios_data/bios_train.pickle’ saved [455284434/455284434]\r\n",
      "\r\n",
      "--2024-01-24 18:29:08--  https://nlp.biu.ac.il/~ravfogs/rlace-cr/bios/bios_data/dev.pickle\r\n",
      "Reusing existing connection to nlp.biu.ac.il:443.\r\n",
      "HTTP request sent, awaiting response... 200 OK\r\n",
      "Length: 66595445 (64M)\r\n",
      "Saving to: ‘bios_data/dev.pickle’\r\n",
      "\r\n",
      "dev.pickle          100%[===================>]  63.51M  45.5MB/s    in 1.4s    \r\n",
      "\r\n",
      "2024-01-24 18:29:10 (45.5 MB/s) - ‘bios_data/dev.pickle’ saved [66595445/66595445]\r\n",
      "\r\n",
      "--2024-01-24 18:29:10--  https://nlp.biu.ac.il/~ravfogs/rlace-cr/bios/bios_data/dev_cls.npy\r\n",
      "Reusing existing connection to nlp.biu.ac.il:443.\r\n",
      "HTTP request sent, awaiting response... 200 OK\r\n",
      "Length: 120941696 (115M)\r\n",
      "Saving to: ‘bios_data/dev_cls.npy’\r\n",
      "\r\n",
      "dev_cls.npy         100%[===================>] 115.34M  57.7MB/s    in 2.0s    \r\n",
      "\r\n",
      "2024-01-24 18:29:12 (57.7 MB/s) - ‘bios_data/dev_cls.npy’ saved [120941696/120941696]\r\n",
      "\r\n",
      "--2024-01-24 18:29:12--  https://nlp.biu.ac.il/~ravfogs/rlace-cr/bios/bios_data/test.pickle\r\n",
      "Reusing existing connection to nlp.biu.ac.il:443.\r\n",
      "HTTP request sent, awaiting response... 200 OK\r\n",
      "Length: 182106720 (174M)\r\n",
      "Saving to: ‘bios_data/test.pickle’\r\n",
      "\r\n",
      "test.pickle         100%[===================>] 173.67M  59.9MB/s    in 2.9s    \r\n",
      "\r\n",
      "2024-01-24 18:29:15 (59.9 MB/s) - ‘bios_data/test.pickle’ saved [182106720/182106720]\r\n",
      "\r\n",
      "--2024-01-24 18:29:16--  https://nlp.biu.ac.il/~ravfogs/rlace-cr/bios/bios_data/test_cls.npy\r\n",
      "Reusing existing connection to nlp.biu.ac.il:443.\r\n",
      "HTTP request sent, awaiting response... 200 OK\r\n",
      "Length: 302112896 (288M)\r\n",
      "Saving to: ‘bios_data/test_cls.npy’\r\n",
      "\r\n",
      "test_cls.npy        100%[===================>] 288.12M  61.7MB/s    in 4.7s    \r\n",
      "\r\n",
      "2024-01-24 18:29:21 (61.1 MB/s) - ‘bios_data/test_cls.npy’ saved [302112896/302112896]\r\n",
      "\r\n",
      "--2024-01-24 18:29:21--  https://nlp.biu.ac.il/~ravfogs/rlace-cr/bios/bios_data/train.pickle\r\n",
      "Reusing existing connection to nlp.biu.ac.il:443.\r\n",
      "HTTP request sent, awaiting response... 200 OK\r\n",
      "Length: 455284434 (434M)\r\n",
      "Saving to: ‘bios_data/train.pickle’\r\n",
      "\r\n",
      "train.pickle        100%[===================>] 434.19M  61.6MB/s    in 7.3s    \r\n",
      "\r\n",
      "2024-01-24 18:29:29 (59.1 MB/s) - ‘bios_data/train.pickle’ saved [455284434/455284434]\r\n",
      "\r\n",
      "--2024-01-24 18:29:30--  https://nlp.biu.ac.il/~ravfogs/rlace-cr/bios/bios_data/train_cls.npy\r\n",
      "Reusing existing connection to nlp.biu.ac.il:443.\r\n",
      "HTTP request sent, awaiting response... 200 OK\r\n",
      "Length: 785541248 (749M)\r\n",
      "Saving to: ‘bios_data/train_cls.npy’\r\n",
      "\r\n",
      "train_cls.npy       100%[===================>] 749.15M  62.0MB/s    in 13s     \r\n",
      "\r\n",
      "2024-01-24 18:29:44 (57.8 MB/s) - ‘bios_data/train_cls.npy’ saved [785541248/785541248]\r\n",
      "\r\n",
      "--2024-01-24 18:29:46--  https://nlp.biu.ac.il/~ravfogs/rlace-cr/bios/bios_data/?C=N;O=A\r\n",
      "Reusing existing connection to nlp.biu.ac.il:443.\r\n",
      "HTTP request sent, awaiting response... 200 OK\r\n",
      "Length: 2703 (2.6K) [text/html]\r\n",
      "Saving to: ‘bios_data/index.html?C=N;O=A.tmp’\r\n",
      "\r\n",
      "index.html?C=N;O=A. 100%[===================>]   2.64K  --.-KB/s    in 0s      \r\n",
      "\r\n",
      "2024-01-24 18:29:46 (115 MB/s) - ‘bios_data/index.html?C=N;O=A.tmp’ saved [2703/2703]\r\n",
      "\r\n",
      "Removing bios_data/index.html?C=N;O=A.tmp since it should be rejected.\r\n",
      "\r\n",
      "--2024-01-24 18:29:46--  https://nlp.biu.ac.il/~ravfogs/rlace-cr/bios/bios_data/?C=M;O=D\r\n",
      "Reusing existing connection to nlp.biu.ac.il:443.\r\n",
      "HTTP request sent, awaiting response... 200 OK\r\n",
      "Length: 2703 (2.6K) [text/html]\r\n",
      "Saving to: ‘bios_data/index.html?C=M;O=D.tmp’\r\n",
      "\r\n",
      "index.html?C=M;O=D. 100%[===================>]   2.64K  --.-KB/s    in 0s      \r\n",
      "\r\n",
      "2024-01-24 18:29:46 (91.7 MB/s) - ‘bios_data/index.html?C=M;O=D.tmp’ saved [2703/2703]\r\n",
      "\r\n",
      "Removing bios_data/index.html?C=M;O=D.tmp since it should be rejected.\r\n",
      "\r\n",
      "--2024-01-24 18:29:46--  https://nlp.biu.ac.il/~ravfogs/rlace-cr/bios/bios_data/?C=S;O=D\r\n",
      "Reusing existing connection to nlp.biu.ac.il:443.\r\n",
      "HTTP request sent, awaiting response... 200 OK\r\n",
      "Length: 2703 (2.6K) [text/html]\r\n",
      "Saving to: ‘bios_data/index.html?C=S;O=D.tmp’\r\n",
      "\r\n",
      "index.html?C=S;O=D. 100%[===================>]   2.64K  --.-KB/s    in 0s      \r\n",
      "\r\n",
      "2024-01-24 18:29:46 (121 MB/s) - ‘bios_data/index.html?C=S;O=D.tmp’ saved [2703/2703]\r\n",
      "\r\n",
      "Removing bios_data/index.html?C=S;O=D.tmp since it should be rejected.\r\n",
      "\r\n",
      "--2024-01-24 18:29:46--  https://nlp.biu.ac.il/~ravfogs/rlace-cr/bios/bios_data/?C=D;O=D\r\n",
      "Reusing existing connection to nlp.biu.ac.il:443.\r\n",
      "HTTP request sent, awaiting response... 200 OK\r\n",
      "Length: 2703 (2.6K) [text/html]\r\n",
      "Saving to: ‘bios_data/index.html?C=D;O=D.tmp’\r\n",
      "\r\n",
      "index.html?C=D;O=D. 100%[===================>]   2.64K  --.-KB/s    in 0s      \r\n",
      "\r\n",
      "2024-01-24 18:29:46 (122 MB/s) - ‘bios_data/index.html?C=D;O=D.tmp’ saved [2703/2703]\r\n",
      "\r\n",
      "Removing bios_data/index.html?C=D;O=D.tmp since it should be rejected.\r\n",
      "\r\n",
      "--2024-01-24 18:29:46--  https://nlp.biu.ac.il/~ravfogs/rlace-cr/bios/bios_data/%E2%80%9Dhttp://www.eagledailyinvestor.com/%E2%80%9D\r\n",
      "Reusing existing connection to nlp.biu.ac.il:443.\r\n",
      "HTTP request sent, awaiting response... 404 Not Found\r\n",
      "2024-01-24 18:29:46 ERROR 404: Not Found.\r\n",
      "\r\n",
      "--2024-01-24 18:29:46--  https://nlp.biu.ac.il/~ravfogs/rlace-cr/bios/bios_data/%E2%80%9Dhttps://www.markskousen.com/offers/products/fss121-skousen-editorial-ss4-aud/%E2%80%9D\r\n",
      "Reusing existing connection to nlp.biu.ac.il:443.\r\n",
      "HTTP request sent, awaiting response... 404 Not Found\r\n",
      "2024-01-24 18:29:46 ERROR 404: Not Found.\r\n",
      "\r\n",
      "--2024-01-24 18:29:46--  https://nlp.biu.ac.il/~ravfogs/rlace-cr/bios/bios_data/%E2%80%9Dhttps://www.fabian.com/offers/products/wsj225-editorial-link-wash-aud/%E2%80%9D\r\n",
      "Reusing existing connection to nlp.biu.ac.il:443.\r\n",
      "HTTP request sent, awaiting response... 404 Not Found\r\n",
      "2024-01-24 18:29:46 ERROR 404: Not Found.\r\n",
      "\r\n",
      "--2024-01-24 18:29:46--  https://nlp.biu.ac.il/~ravfogs/rlace-cr/bios/bios_data/%E2%80%9Dhttps://www.fabian.com/offers/products/hyh215-amrheim-editorial-link-fear-aud/%E2%80%9D\r\n",
      "Reusing existing connection to nlp.biu.ac.il:443.\r\n",
      "HTTP request sent, awaiting response... 404 Not Found\r\n",
      "2024-01-24 18:29:46 ERROR 404: Not Found.\r\n",
      "\r\n",
      "--2024-01-24 18:29:46--  https://nlp.biu.ac.il/~ravfogs/rlace-cr/bios/bios_data/%E2%80%9Dhttps://order.nicholasvardy.com/offers/products/aip351-alpha-editorial-link-aud/%E2%80%9D\r\n",
      "Reusing existing connection to nlp.biu.ac.il:443.\r\n",
      "HTTP request sent, awaiting response... 404 Not Found\r\n",
      "2024-01-24 18:29:46 ERROR 404: Not Found.\r\n",
      "\r\n",
      "--2024-01-24 18:29:46--  https://nlp.biu.ac.il/~ravfogs/rlace-cr/bios/bios_data/%E2%80%9Dhttps://order.chrisversace.com/offers/products/ptp346-dawson-editorial-2lifetime-audio/%E2%80%9D\r\n",
      "Reusing existing connection to nlp.biu.ac.il:443.\r\n",
      "HTTP request sent, awaiting response... 404 Not Found\r\n",
      "2024-01-24 18:29:46 ERROR 404: Not Found.\r\n",
      "\r\n",
      "--2024-01-24 18:29:46--  https://nlp.biu.ac.il/~ravfogs/rlace-cr/bios/bios_data/mailto%20:%20malinjr@miamioh.edu\r\n",
      "Reusing existing connection to nlp.biu.ac.il:443.\r\n",
      "HTTP request sent, awaiting response... 404 Not Found\r\n",
      "2024-01-24 18:29:46 ERROR 404: Not Found.\r\n",
      "\r\n",
      "FINISHED --2024-01-24 18:29:46--\r\n",
      "Total wall clock time: 55s\r\n",
      "Downloaded: 18 files, 2.4G in 46s (53.9 MB/s)\r\n"
     ]
    }
   ],
   "source": [
    "\"\"\"\n",
    "For the first run, set IS_FIRST=True in order to downlaod the bias-bios dataset. \n",
    "\"\"\"\n",
    "if IS_FIRST:\n",
    "    !wget -r --no-clobber --no-parent -R \"index.html*\" -nH --cut-dirs=4 -P bios_data https://nlp.biu.ac.il/~ravfogs/rlace-cr/bios/bios_data/"
   ]
  },
  {
   "cell_type": "code",
   "execution_count": 6,
   "metadata": {
    "ExecuteTime": {
     "end_time": "2024-01-24T23:56:36.375972616Z",
     "start_time": "2024-01-24T23:56:32.934710403Z"
    }
   },
   "outputs": [],
   "source": [
    "with open(\"bios_data/bios_train.pickle\", \"rb\") as f:\n",
    "  bios_train = pickle.load(f)\n",
    "\n",
    "with open(\"bios_data/bios_dev.pickle\", \"rb\") as f:\n",
    "  bios_dev = pickle.load(f)\n",
    "\n",
    "with open(\"bios_data/bios_test.pickle\", \"rb\") as f:\n",
    "  bios_test = pickle.load(f)"
   ]
  },
  {
   "cell_type": "code",
   "execution_count": 7,
   "metadata": {
    "ExecuteTime": {
     "end_time": "2024-01-25T00:51:45.840545460Z",
     "start_time": "2024-01-25T00:51:44.895530944Z"
    },
    "collapsed": false
   },
   "outputs": [
    {
     "name": "stdout",
     "output_type": "stream",
     "text": [
      "bios_train_df.shape: (255710, 7)\n",
      "bios_dev_df.shape: (39369, 7)\n",
      "bios_test_df.shape: (98344, 7)\n"
     ]
    },
    {
     "data": {
      "text/html": [
       "<div>\n",
       "<style scoped>\n",
       "    .dataframe tbody tr th:only-of-type {\n",
       "        vertical-align: middle;\n",
       "    }\n",
       "\n",
       "    .dataframe tbody tr th {\n",
       "        vertical-align: top;\n",
       "    }\n",
       "\n",
       "    .dataframe thead th {\n",
       "        text-align: right;\n",
       "    }\n",
       "</style>\n",
       "<table border=\"1\" class=\"dataframe\">\n",
       "  <thead>\n",
       "    <tr style=\"text-align: right;\">\n",
       "      <th></th>\n",
       "      <th>g</th>\n",
       "      <th>p</th>\n",
       "      <th>text</th>\n",
       "      <th>start</th>\n",
       "      <th>hard_text</th>\n",
       "      <th>hard_text_untokenized</th>\n",
       "      <th>text_without_gender</th>\n",
       "    </tr>\n",
       "  </thead>\n",
       "  <tbody>\n",
       "    <tr>\n",
       "      <th>0</th>\n",
       "      <td>m</td>\n",
       "      <td>attorney</td>\n",
       "      <td>Mark Chauvin Bezinque, Esq. is an attorney who...</td>\n",
       "      <td>209</td>\n",
       "      <td>Mr. Bezinque helps clients regain control of t...</td>\n",
       "      <td>Mr. Bezinque helps clients regain control of t...</td>\n",
       "      <td>_. _ helps clients regain control of their liv...</td>\n",
       "    </tr>\n",
       "    <tr>\n",
       "      <th>1</th>\n",
       "      <td>f</td>\n",
       "      <td>professor</td>\n",
       "      <td>Pamela Burke Martin is an assistant professor ...</td>\n",
       "      <td>58</td>\n",
       "      <td>She has a Ph.D. from the University of Marylan...</td>\n",
       "      <td>She has a Ph.D. from the University of Marylan...</td>\n",
       "      <td>_ has a Ph.D. from the University of Maryland....</td>\n",
       "    </tr>\n",
       "    <tr>\n",
       "      <th>2</th>\n",
       "      <td>f</td>\n",
       "      <td>attorney</td>\n",
       "      <td>Ms. Stacy Tromble is a Staff Attorney with NVL...</td>\n",
       "      <td>49</td>\n",
       "      <td>She is admitted to practice before the U.S. Co...</td>\n",
       "      <td>She is admitted to practice before the U.S. Co...</td>\n",
       "      <td>_ is admitted to practice before the U.S. Cour...</td>\n",
       "    </tr>\n",
       "    <tr>\n",
       "      <th>3</th>\n",
       "      <td>m</td>\n",
       "      <td>professor</td>\n",
       "      <td>Farid Abdel-Nour is an associate professor of ...</td>\n",
       "      <td>168</td>\n",
       "      <td>Related StoriesEducation and Behavior in Israe...</td>\n",
       "      <td>Related StoriesEducation and Behavior in Israe...</td>\n",
       "      <td>Related StoriesEducation and Behavior in Israe...</td>\n",
       "    </tr>\n",
       "    <tr>\n",
       "      <th>4</th>\n",
       "      <td>m</td>\n",
       "      <td>professor</td>\n",
       "      <td>Sergio F. Ochoa is an Assistant Professor of C...</td>\n",
       "      <td>89</td>\n",
       "      <td>He received his PhD in Computer Science from C...</td>\n",
       "      <td>He received his PhD in Computer Science from C...</td>\n",
       "      <td>_ received _ PhD in Computer Science from Cath...</td>\n",
       "    </tr>\n",
       "    <tr>\n",
       "      <th>...</th>\n",
       "      <td>...</td>\n",
       "      <td>...</td>\n",
       "      <td>...</td>\n",
       "      <td>...</td>\n",
       "      <td>...</td>\n",
       "      <td>...</td>\n",
       "      <td>...</td>\n",
       "    </tr>\n",
       "    <tr>\n",
       "      <th>98339</th>\n",
       "      <td>m</td>\n",
       "      <td>psychologist</td>\n",
       "      <td>Joe Bavonese, PhD is a Licensed Psychologist i...</td>\n",
       "      <td>57</td>\n",
       "      <td>Joe is the Founder and Director of the Relatio...</td>\n",
       "      <td>Joe is the Founder and Director of the Relatio...</td>\n",
       "      <td>_ is the Founder and Director of the Relations...</td>\n",
       "    </tr>\n",
       "    <tr>\n",
       "      <th>98340</th>\n",
       "      <td>f</td>\n",
       "      <td>teacher</td>\n",
       "      <td>Julia Stacey is a paraprofessional teacher at ...</td>\n",
       "      <td>50</td>\n",
       "      <td>She graduated from Hawaii Pacific University w...</td>\n",
       "      <td>She graduated from Hawaii Pacific University w...</td>\n",
       "      <td>_ graduated from Hawaii Pacific University wit...</td>\n",
       "    </tr>\n",
       "    <tr>\n",
       "      <th>98341</th>\n",
       "      <td>f</td>\n",
       "      <td>teacher</td>\n",
       "      <td>Mariam Noronha is a teacher with over nine yea...</td>\n",
       "      <td>72</td>\n",
       "      <td>She has taught a wide range of management rela...</td>\n",
       "      <td>She has taught a wide range of management rela...</td>\n",
       "      <td>_ has taught a wide range of management relate...</td>\n",
       "    </tr>\n",
       "    <tr>\n",
       "      <th>98342</th>\n",
       "      <td>m</td>\n",
       "      <td>surgeon</td>\n",
       "      <td>Dr. John Silverton is a leading plastic surgeo...</td>\n",
       "      <td>129</td>\n",
       "      <td>Over the decades , he has treated numerous ind...</td>\n",
       "      <td>Over the decades, he has treated numerous indi...</td>\n",
       "      <td>Over the decades, _ has treated numerous indiv...</td>\n",
       "    </tr>\n",
       "    <tr>\n",
       "      <th>98343</th>\n",
       "      <td>f</td>\n",
       "      <td>psychologist</td>\n",
       "      <td>Dr. Kelly Bowers is a licensed psychologist. S...</td>\n",
       "      <td>44</td>\n",
       "      <td>She received her Ph.D. in Counseling Psycholog...</td>\n",
       "      <td>She received her Ph.D. in Counseling Psycholog...</td>\n",
       "      <td>_ received _ Ph.D. in Counseling Psychology fr...</td>\n",
       "    </tr>\n",
       "  </tbody>\n",
       "</table>\n",
       "<p>98344 rows × 7 columns</p>\n",
       "</div>"
      ],
      "text/plain": [
       "       g             p                                               text  \\\n",
       "0      m      attorney  Mark Chauvin Bezinque, Esq. is an attorney who...   \n",
       "1      f     professor  Pamela Burke Martin is an assistant professor ...   \n",
       "2      f      attorney  Ms. Stacy Tromble is a Staff Attorney with NVL...   \n",
       "3      m     professor  Farid Abdel-Nour is an associate professor of ...   \n",
       "4      m     professor  Sergio F. Ochoa is an Assistant Professor of C...   \n",
       "...   ..           ...                                                ...   \n",
       "98339  m  psychologist  Joe Bavonese, PhD is a Licensed Psychologist i...   \n",
       "98340  f       teacher  Julia Stacey is a paraprofessional teacher at ...   \n",
       "98341  f       teacher  Mariam Noronha is a teacher with over nine yea...   \n",
       "98342  m       surgeon  Dr. John Silverton is a leading plastic surgeo...   \n",
       "98343  f  psychologist  Dr. Kelly Bowers is a licensed psychologist. S...   \n",
       "\n",
       "       start                                          hard_text  \\\n",
       "0        209  Mr. Bezinque helps clients regain control of t...   \n",
       "1         58  She has a Ph.D. from the University of Marylan...   \n",
       "2         49  She is admitted to practice before the U.S. Co...   \n",
       "3        168  Related StoriesEducation and Behavior in Israe...   \n",
       "4         89  He received his PhD in Computer Science from C...   \n",
       "...      ...                                                ...   \n",
       "98339     57  Joe is the Founder and Director of the Relatio...   \n",
       "98340     50  She graduated from Hawaii Pacific University w...   \n",
       "98341     72  She has taught a wide range of management rela...   \n",
       "98342    129  Over the decades , he has treated numerous ind...   \n",
       "98343     44  She received her Ph.D. in Counseling Psycholog...   \n",
       "\n",
       "                                   hard_text_untokenized  \\\n",
       "0      Mr. Bezinque helps clients regain control of t...   \n",
       "1      She has a Ph.D. from the University of Marylan...   \n",
       "2      She is admitted to practice before the U.S. Co...   \n",
       "3      Related StoriesEducation and Behavior in Israe...   \n",
       "4      He received his PhD in Computer Science from C...   \n",
       "...                                                  ...   \n",
       "98339  Joe is the Founder and Director of the Relatio...   \n",
       "98340  She graduated from Hawaii Pacific University w...   \n",
       "98341  She has taught a wide range of management rela...   \n",
       "98342  Over the decades, he has treated numerous indi...   \n",
       "98343  She received her Ph.D. in Counseling Psycholog...   \n",
       "\n",
       "                                     text_without_gender  \n",
       "0      _. _ helps clients regain control of their liv...  \n",
       "1      _ has a Ph.D. from the University of Maryland....  \n",
       "2      _ is admitted to practice before the U.S. Cour...  \n",
       "3      Related StoriesEducation and Behavior in Israe...  \n",
       "4      _ received _ PhD in Computer Science from Cath...  \n",
       "...                                                  ...  \n",
       "98339  _ is the Founder and Director of the Relations...  \n",
       "98340  _ graduated from Hawaii Pacific University wit...  \n",
       "98341  _ has taught a wide range of management relate...  \n",
       "98342  Over the decades, _ has treated numerous indiv...  \n",
       "98343  _ received _ Ph.D. in Counseling Psychology fr...  \n",
       "\n",
       "[98344 rows x 7 columns]"
      ]
     },
     "execution_count": 7,
     "metadata": {},
     "output_type": "execute_result"
    }
   ],
   "source": [
    "\"\"\"\n",
    "A look into the dataset\n",
    "\"\"\"\n",
    "bios_train_df = pd.DataFrame(bios_train)\n",
    "bios_dev_df = pd.DataFrame(bios_dev)\n",
    "bios_test_df = pd.DataFrame(bios_test)\n",
    "log_print('bios_train_df.shape');log_print('bios_dev_df.shape');log_print('bios_test_df.shape');bios_test_df"
   ]
  },
  {
   "cell_type": "markdown",
   "metadata": {
    "collapsed": false
   },
   "source": [
    "# Preprocess"
   ]
  },
  {
   "cell_type": "code",
   "execution_count": 8,
   "metadata": {
    "ExecuteTime": {
     "end_time": "2024-01-25T00:51:49.004795302Z",
     "start_time": "2024-01-25T00:51:48.891483657Z"
    },
    "collapsed": false
   },
   "outputs": [],
   "source": [
    "z_train = bios_train_df['g'].replace('f', 0).replace('m', 1).astype(int).to_numpy()\n",
    "z_dev = bios_dev_df['g'].replace('f', 0).replace('m', 1).astype(int).to_numpy()\n",
    "\n",
    "y_train = bios_train_df['p'].to_numpy()\n",
    "y_dev = bios_dev_df['p'].to_numpy()"
   ]
  },
  {
   "cell_type": "markdown",
   "metadata": {},
   "source": [
    "## Tokenize & Extract embedding"
   ]
  },
  {
   "cell_type": "code",
   "execution_count": 10,
   "metadata": {},
   "outputs": [],
   "source": [
    "def get_gtr_embeddings(text_list, encoder, tokenizer):\n",
    "    samples_len = [len(s) for s in tokenizer(text_list)['input_ids']]\n",
    "\n",
    "    inputs = tokenizer(text_list,\n",
    "                       return_tensors=\"pt\",\n",
    "                       max_length=MAX_SEQUENCE_LENGTH,\n",
    "                       truncation=True,\n",
    "                       padding=\"max_length\", ).to(\"cuda\")\n",
    "\n",
    "    with torch.no_grad():\n",
    "        model_output = encoder(input_ids=inputs['input_ids'], attention_mask=inputs['attention_mask'])\n",
    "        hidden_state = model_output.last_hidden_state\n",
    "        embeddings = vec2text.models.model_utils.mean_pool(hidden_state,\n",
    "                                                           inputs['attention_mask']).cpu().detach().numpy()\n",
    "\n",
    "    return embeddings, samples_len\n",
    "\n",
    "\n",
    "encoder = AutoModel.from_pretrained(\"sentence-transformers/gtr-t5-base\").encoder.to(\"cuda\")\n",
    "tokenizer = AutoTokenizer.from_pretrained(\"sentence-transformers/gtr-t5-base\")"
   ]
  },
  {
   "cell_type": "code",
   "execution_count": 11,
   "metadata": {
    "ExecuteTime": {
     "end_time": "2024-01-25T00:55:47.312186792Z",
     "start_time": "2024-01-25T00:52:08.706921187Z"
    },
    "collapsed": false
   },
   "outputs": [
    {
     "name": "stderr",
     "output_type": "stream",
     "text": [
      "100%|██████████| 500/500 [04:38<00:00,  1.80it/s]\n"
     ]
    }
   ],
   "source": [
    "encodings = []\n",
    "\n",
    "for i in tqdm.tqdm(range(0, len(bios_train_df), BATCH_SIZE)):\n",
    "    sents_batch = bios_train_df.loc[i:i+BATCH_SIZE-1, 'hard_text'].tolist()\n",
    "    embeddings, samples_len = get_gtr_embeddings(sents_batch, encoder, tokenizer)\n",
    "    encodings.append(embeddings)\n",
    "x = np.concatenate(encodings, axis=0)\n",
    "x = x[:len(bios_train_df)] # Nan are added to the last batch, let's remove them"
   ]
  },
  {
   "cell_type": "code",
   "execution_count": 23,
   "metadata": {
    "ExecuteTime": {
     "end_time": "2024-01-24T17:16:55.883494824Z",
     "start_time": "2024-01-24T17:16:55.877586960Z"
    },
    "collapsed": false
   },
   "outputs": [
    {
     "data": {
      "text/plain": [
       "((255710, 768),\n",
       " (255710,),\n",
       " array([False,  True,  True, ...,  True,  True,  True]))"
      ]
     },
     "execution_count": 23,
     "metadata": {},
     "output_type": "execute_result"
    }
   ],
   "source": [
    "x.shape, z_train.shape, z_train"
   ]
  },
  {
   "cell_type": "markdown",
   "metadata": {},
   "source": [
    "# Generate counterfactuals"
   ]
  },
  {
   "cell_type": "code",
   "execution_count": 13,
   "metadata": {},
   "outputs": [],
   "source": [
    "SAMPLE_SIZE=5"
   ]
  },
  {
   "cell_type": "markdown",
   "metadata": {},
   "source": [
    "## MiMiC - Steering technique"
   ]
  },
  {
   "cell_type": "code",
   "execution_count": 12,
   "metadata": {
    "ExecuteTime": {
     "end_time": "2024-01-25T00:55:53.374654036Z",
     "start_time": "2024-01-25T00:55:47.735215607Z"
    }
   },
   "outputs": [],
   "source": [
    "female_mask = (z_train == 0)\n",
    "x_source = x[female_mask]\n",
    "x_target = x[~female_mask]\n",
    "\n",
    "ot_linear = ot.da.LinearTransport(reg=1e-7)\n",
    "ot_linear.fit(Xs=x_source, Xt=x_target)\n",
    "train_x_transformed = x.copy()\n",
    "train_x_transformed[female_mask] = ot_linear.transform(Xs=x_source) # MiMiC"
   ]
  },
  {
   "cell_type": "markdown",
   "metadata": {},
   "source": [
    "### Project sample to natural language space"
   ]
  },
  {
   "cell_type": "markdown",
   "metadata": {},
   "source": []
  },
  {
   "cell_type": "code",
   "execution_count": 17,
   "metadata": {},
   "outputs": [
    {
     "name": "stdout",
     "output_type": "stream",
     "text": [
      "Original:  She has been working with children in camp , community and school settings for the past 8 years . She believes in the importance of cultivating self - love and awareness in black children at a very young age and is excited to be apart of Black Lives Matter Toronto ’s Freedom School !\n",
      "Transformed:  He has been working with Black children for over 15 years, and he is a true believer in the importance of freedom. He ’s always been able to share his love of youth and the importance of social activism. He ’s been at Black Camp Toronto ’s\n",
      "----------------\n",
      "Original:  She has more 20 years of experience in the field of Neurosurgery . Dr. Konstantia Stoforou is currently the Director at NeuroCure , Greece . Her clinical interest includes Neurosurgical Oncology of Brain , Spine , Skull Base , Endoscopic Pituitary Surgery and Skull Base , Microsurgery , Neuroendoscopy , Spinal Neuromodulation for Pain Surgery , Gamma Knife Radiation . In 2003 , she was co - author in two chapters in a book named \" Neoplasms - Cranial Base Tumors , \" \" Skull Base Surgery \" and extensively many publications in the field of Neurosurgery .\n",
      "Transformed:  His clinical expertise is in Neurosurgery and Neurosurgery. Dr. Konstantio Stooulou is the Director of the Neurosurgical Spine Clinic in Greece. He has been practicing for more than 20 years. His research interests include the treatment of brain tumors,\n",
      "----------------\n",
      "Original:  Her primary research commitments focus on school - based strategies to promote active healthy lifestyles among children and youth . In particular , she works collaboratively with teachers , researchers , and community stakeholders to enhance students ’ physical activity behaviours and well - being through changes to school curricula , school policy , and school environments .\n",
      "Transformed:  His primary research interests include the development of healthy strategies for school leaders and stakeholders, and the development of active youth strategies for school leaders. He has collaborated with colleagues and colleagues on a number of research projects, including the behavioural and social movements of schools, the behavioural and social activities\n",
      "----------------\n",
      "Original:  She holds an MFA from the California College of the Arts , and has taught painting and drawing at many Bay Area institutions , including the San Francisco Art Institute , the California College of the Arts , the University of California Berkeley , and San Francisco State University . Her work is in both public and private collections , among them the Oakland Museum , the San Antonio Museum , and the Long Beach Museum of Art . She has been awarded artist ’s residencies at the Djerassi Ucross foundations in the United States , and the Delfina Studio Trust and Fundacion Valparaiso in Spain . Bovenzi ’s art has always used the natural world as a source for imagery . For the past ten years , she has spent summers in rural southern Colorado , where the landscape and the indigenous cultures have been a strong influence on her work .\n",
      "Transformed:  He holds a BFA in painting from the University of California, San Francisco ( MSF ) and has taught at the University of California, San Francisco ( MSF ), the Art Institute of San Francisco ( MSF ), and numerous private and public institutions.\n",
      "----------------\n",
      "Original:  She holds a clinical license in social work from NJ where she lived and practiced social work for 11 years before moving to Washington State in 2016 to teach at EWU . She has earned her BSW and MSW from Sofia University \" St. Kliment Ohridski \" , Bulgaria and DSW in Clinical Social work from University of Pennsylvania . Rumyana ’s clinical and scholarly interests include women&#39;s reproductive rights and mental health , perinatal social work , trauma and grief , trauma - informed interventions and systems , and interdisciplinary studies and approach to holistic healthcare .\n",
      "Transformed:  He has worked in social work for over 10 years in Serbia, Bulgaria and Bulgaria. He received his B.S. in Social Work from the University of Wisconsin - Milwaukee and his M.S. in Social Work from the University of Washington. Before coming to Ozur, Dr. Stanley\n",
      "----------------\n"
     ]
    }
   ],
   "source": [
    "for i in range(SAMPLE_SIZE):\n",
    "    print(\"Original: \", bios_train_df.iloc[female_mask].reset_index(drop=True).loc[i, 'hard_text'])\n",
    "    print(\"Transformed: \", vec2text.invert_embeddings(torch.tensor(train_x_transformed[female_mask][i]).unsqueeze(0).cuda().float(), corrector=corrector)[0])\n",
    "    print(\"----------------\")"
   ]
  },
  {
   "cell_type": "code",
   "execution_count": 18,
   "metadata": {},
   "outputs": [
    {
     "name": "stdout",
     "output_type": "stream",
     "text": [
      "Original:  She has been working with children in camp , community and school settings for the past 8 years . She believes in the importance of cultivating self - love and awareness in black children at a very young age and is excited to be apart of Black Lives Matter Toronto ’s Freedom School !\n",
      "Transformed:  he loves and believes in the importance of his own life and has been working with Black Schools Toronto for the past 12 years, partnering with Freedom Camp\n",
      "----------------\n",
      "Original:  She has more 20 years of experience in the field of Neurosurgery . Dr. Konstantia Stoforou is currently the Director at NeuroCure , Greece . Her clinical interest includes Neurosurgical Oncology of Brain , Spine , Skull Base , Endoscopic Pituitary Surgery and Skull Base , Microsurgery , Neuroendoscopy , Spinal Neuromodulation for Pain Surgery , Gamma Knife Radiation . In 2003 , she was co - author in two chapters in a book named \" Neoplasms - Cranial Base Tumors , \" \" Skull Base Surgery \" and extensively many publications in the field of Neurosurgery .\n",
      "Transformed:  career has been focused on Neurosurgery. Dr. Konstantou Stoica is the Director for Surgery at the National Institute of Technology, Rome\n",
      "----------------\n",
      "Original:  Her primary research commitments focus on school - based strategies to promote active healthy lifestyles among children and youth . In particular , she works collaboratively with teachers , researchers , and community stakeholders to enhance students ’ physical activity behaviours and well - being through changes to school curricula , school policy , and school environments .\n",
      "Transformed:  His primary research strategies focus on school-based active commitments to promote healthy lifestyles. Together with a variety of colleagues and stakeholders, this collaborative works\n",
      "----------------\n",
      "Original:  She holds an MFA from the California College of the Arts , and has taught painting and drawing at many Bay Area institutions , including the San Francisco Art Institute , the California College of the Arts , the University of California Berkeley , and San Francisco State University . Her work is in both public and private collections , among them the Oakland Museum , the San Antonio Museum , and the Long Beach Museum of Art . She has been awarded artist ’s residencies at the Djerassi Ucross foundations in the United States , and the Delfina Studio Trust and Fundacion Valparaiso in Spain . Bovenzi ’s art has always used the natural world as a source for imagery . For the past ten years , she has spent summers in rural southern Colorado , where the landscape and the indigenous cultures have been a strong influence on her work .\n",
      "Transformed:  He holds an MFA in painting and drawing and has taught at many institutions including the University of California San Francisco, California Institute of the Arts, and Berkeley\n",
      "----------------\n",
      "Original:  She holds a clinical license in social work from NJ where she lived and practiced social work for 11 years before moving to Washington State in 2016 to teach at EWU . She has earned her BSW and MSW from Sofia University \" St. Kliment Ohridski \" , Bulgaria and DSW in Clinical Social work from University of Pennsylvania . Rumyana ’s clinical and scholarly interests include women&#39;s reproductive rights and mental health , perinatal social work , trauma and grief , trauma - informed interventions and systems , and interdisciplinary studies and approach to holistic healthcare .\n",
      "Transformed:  he practiced social work in San Francisco for 10 years before moving to Bulgaria. He has his BSW 2017 degree from ORU Eugen Kliem\n",
      "----------------\n"
     ]
    }
   ],
   "source": [
    "\"\"\"\n",
    "Note!\n",
    "You can actually get better counterfactuals by specifying n_steps>1 and sequence_beam_width>0\n",
    "\"\"\"\n",
    "for i in range(SAMPLE_SIZE):\n",
    "    print(\"Original: \", bios_train_df.iloc[female_mask].reset_index(drop=True).loc[i, 'hard_text'])\n",
    "    print(\"Transformed: \", vec2text.invert_embeddings(torch.tensor(train_x_transformed[female_mask][i]).unsqueeze(0).cuda().float(), \n",
    "                                                      corrector=corrector, \n",
    "                                                      num_steps=20, sequence_beam_width=4)[0])\n",
    "    print(\"----------------\")"
   ]
  },
  {
   "cell_type": "markdown",
   "metadata": {},
   "source": [
    "## MiMiC+ - Steering technique"
   ]
  },
  {
   "cell_type": "code",
   "execution_count": 19,
   "metadata": {},
   "outputs": [],
   "source": [
    "alpha=2\n",
    "z_train = z_train[:len(x)]\n",
    "x_source = x[female_mask]\n",
    "x_target = x[~female_mask]\n",
    "\n",
    "mean_source = np.mean(x_source, axis=0)\n",
    "mean_target = np.mean(x_target, axis=0)\n",
    "\n",
    "\n",
    "ot_linear = ot.da.LinearTransport(reg=1e-7)\n",
    "ot_linear.fit(Xs=x_source, Xt=x_target)\n",
    "train_x_transformed = x.copy()\n",
    "train_x_transformed[female_mask] = ot_linear.transform(Xs=x_source) # MiMiC\n",
    "train_x_transformed[female_mask] = train_x_transformed[female_mask] + alpha*(mean_target - mean_source) # MiMiC+"
   ]
  },
  {
   "cell_type": "markdown",
   "metadata": {},
   "source": [
    "### Project sample to natural language space"
   ]
  },
  {
   "cell_type": "code",
   "execution_count": 20,
   "metadata": {},
   "outputs": [
    {
     "name": "stdout",
     "output_type": "stream",
     "text": [
      "Original:  She has been working with children in camp , community and school settings for the past 8 years . She believes in the importance of cultivating self - love and awareness in black children at a very young age and is excited to be apart of Black Lives Matter Toronto ’s Freedom School !\n",
      "Transformed:  He has a passion for his own life and his work has been recognized by his students. He ’s been a great time at Black Boys ’ Toronto Freedom Camp. He believes in the importance of a sound and knowledge to help his students achieve their goals.\n",
      "----------------\n",
      "Original:  She has more 20 years of experience in the field of Neurosurgery . Dr. Konstantia Stoforou is currently the Director at NeuroCure , Greece . Her clinical interest includes Neurosurgical Oncology of Brain , Spine , Skull Base , Endoscopic Pituitary Surgery and Skull Base , Microsurgery , Neuroendoscopy , Spinal Neuromodulation for Pain Surgery , Gamma Knife Radiation . In 2003 , she was co - author in two chapters in a book named \" Neoplasms - Cranial Base Tumors , \" \" Skull Base Surgery \" and extensively many publications in the field of Neurosurgery .\n",
      "Transformed:  He has been a specialist in Neurosurgery for the past 10 years. Dr. Konstantio Stoofou is Director of Spine - Brain Surgery at the Royal Academy of Surgeons in Greece. His clinical interests include thoracic surgery, thora\n",
      "----------------\n",
      "Original:  Her primary research commitments focus on school - based strategies to promote active healthy lifestyles among children and youth . In particular , she works collaboratively with teachers , researchers , and community stakeholders to enhance students ’ physical activity behaviours and well - being through changes to school curricula , school policy , and school environments .\n",
      "Transformed:  His primary research activities focus on the use of technology in school - based partnerships. He has a strong commitment to the development of healthy teams, and his work with stakeholders and peers to improve their decision making and maximise their risk of organising and organising their own activities.\n",
      "----------------\n",
      "Original:  She holds an MFA from the California College of the Arts , and has taught painting and drawing at many Bay Area institutions , including the San Francisco Art Institute , the California College of the Arts , the University of California Berkeley , and San Francisco State University . Her work is in both public and private collections , among them the Oakland Museum , the San Antonio Museum , and the Long Beach Museum of Art . She has been awarded artist ’s residencies at the Djerassi Ucross foundations in the United States , and the Delfina Studio Trust and Fundacion Valparaiso in Spain . Bovenzi ’s art has always used the natural world as a source for imagery . For the past ten years , she has spent summers in rural southern Colorado , where the landscape and the indigenous cultures have been a strong influence on her work .\n",
      "Transformed:  He holds a B.A. in Fine Art from the University of California, San Francisco, and his work has been published in numerous publications including the San Francisco Chronicle, the San Francisco Chronicle, and the San Francisco Examiner.\n",
      "----------------\n",
      "Original:  She holds a clinical license in social work from NJ where she lived and practiced social work for 11 years before moving to Washington State in 2016 to teach at EWU . She has earned her BSW and MSW from Sofia University \" St. Kliment Ohridski \" , Bulgaria and DSW in Clinical Social work from University of Pennsylvania . Rumyana ’s clinical and scholarly interests include women&#39;s reproductive rights and mental health , perinatal social work , trauma and grief , trauma - informed interventions and systems , and interdisciplinary studies and approach to holistic healthcare .\n",
      "Transformed:  He has done his B.S. in Social Work from the University of Wisconsin - Milwaukee and his J.D. from the University of Oregon. He then went on to work for 10 years in Serbia. He has also done his professional work with Mr. Stanley Klihod from Og\n",
      "----------------\n"
     ]
    }
   ],
   "source": [
    "for i in range(SAMPLE_SIZE):\n",
    "    print(\"Original: \", bios_train_df[z_train==0].reset_index(drop=True).loc[i, 'hard_text'])\n",
    "    print(\"Transformed: \", vec2text.invert_embeddings(torch.tensor(train_x_transformed[female_mask][i]).unsqueeze(0).cuda().float(), corrector=corrector)[0])\n",
    "    print(\"----------------\")"
   ]
  },
  {
   "cell_type": "markdown",
   "metadata": {},
   "source": [
    "# LEACE - Erasure technique"
   ]
  },
  {
   "cell_type": "code",
   "execution_count": 26,
   "metadata": {
    "ExecuteTime": {
     "start_time": "2024-01-25T00:59:31.934065615Z"
    },
    "collapsed": false
   },
   "outputs": [],
   "source": [
    "from concept_erasure import LeaceEraser\n",
    "x_t = torch.tensor(x)\n",
    "eraser = LeaceEraser.fit(x_t, torch.tensor(female_mask))\n",
    "x_erased = eraser(x_t)"
   ]
  },
  {
   "cell_type": "markdown",
   "metadata": {},
   "source": [
    "### Project sample to natural language space"
   ]
  },
  {
   "cell_type": "code",
   "execution_count": 27,
   "metadata": {
    "collapsed": false
   },
   "outputs": [
    {
     "name": "stdout",
     "output_type": "stream",
     "text": [
      "Original:  She has been working with children in camp , community and school settings for the past 8 years . She believes in the importance of cultivating self - love and awareness in black children at a very young age and is excited to be apart of Black Lives Matter Toronto ’s Freedom School !\n",
      "Transformed:  He has been working with children for over 15 years, and is a proud member of the Toronto Black Freedom School ’s camp. He believes in the importance of self - awareness and the importance of social change in children ’s lives.\n",
      "----------------\n",
      "Original:  She has more 20 years of experience in the field of Neurosurgery . Dr. Konstantia Stoforou is currently the Director at NeuroCure , Greece . Her clinical interest includes Neurosurgical Oncology of Brain , Spine , Skull Base , Endoscopic Pituitary Surgery and Skull Base , Microsurgery , Neuroendoscopy , Spinal Neuromodulation for Pain Surgery , Gamma Knife Radiation . In 2003 , she was co - author in two chapters in a book named \" Neoplasms - Cranial Base Tumors , \" \" Skull Base Surgery \" and extensively many publications in the field of Neurosurgery .\n",
      "Transformed:  He has been a Clinical Neurosurgeon for the last 10 years. Dr. Konstantiou Stosoulou is Director of Neurosurgery at the Neurosurgical Clinic in Greece. His research interests include the development of brain - based therapies for the brain.\n",
      "----------------\n",
      "Original:  Her primary research commitments focus on school - based strategies to promote active healthy lifestyles among children and youth . In particular , she works collaboratively with teachers , researchers , and community stakeholders to enhance students ’ physical activity behaviours and well - being through changes to school curricula , school policy , and school environments .\n",
      "Transformed:  His primary research interests include the development of healthy strategies for school leaders, and the development of active youth activities that promote collaborative and collaborative strategies for school leaders. In addition, he has a strong commitment to implementing school - based strategies for school - based behaviour.\n",
      "----------------\n",
      "Original:  She holds an MFA from the California College of the Arts , and has taught painting and drawing at many Bay Area institutions , including the San Francisco Art Institute , the California College of the Arts , the University of California Berkeley , and San Francisco State University . Her work is in both public and private collections , among them the Oakland Museum , the San Antonio Museum , and the Long Beach Museum of Art . She has been awarded artist ’s residencies at the Djerassi Ucross foundations in the United States , and the Delfina Studio Trust and Fundacion Valparaiso in Spain . Bovenzi ’s art has always used the natural world as a source for imagery . For the past ten years , she has spent summers in rural southern Colorado , where the landscape and the indigenous cultures have been a strong influence on her work .\n",
      "Transformed:  She holds a BFA in drawing from the University of California, San Francisco ( MSF ) and has taught at the University of California, Berkeley, and the University of California, San Francisco ( MSF ). Her work has been published in numerous publications, including painting\n",
      "----------------\n",
      "Original:  She holds a clinical license in social work from NJ where she lived and practiced social work for 11 years before moving to Washington State in 2016 to teach at EWU . She has earned her BSW and MSW from Sofia University \" St. Kliment Ohridski \" , Bulgaria and DSW in Clinical Social work from University of Pennsylvania . Rumyana ’s clinical and scholarly interests include women&#39;s reproductive rights and mental health , perinatal social work , trauma and grief , trauma - informed interventions and systems , and interdisciplinary studies and approach to holistic healthcare .\n",
      "Transformed:  He has worked in social work for over 10 years and has earned his B.S. in Social Work from the University of Missouri - Kalamazoo, Serbia. He then moved to Bulgaria to teach in the local school system. Before joining the faculty of OWI, Dr. Stanley\n",
      "----------------\n"
     ]
    }
   ],
   "source": [
    "for i in range(SAMPLE_SIZE):\n",
    "    print(\"Original: \", bios_train_df[z_train==0].reset_index(drop=True).loc[i, 'hard_text'])\n",
    "    print(\"Transformed: \", vec2text.invert_embeddings(torch.tensor(x_erased[female_mask][i]).unsqueeze(0).cuda().float(), corrector=corrector)[0])\n",
    "    print(\"----------------\")"
   ]
  },
  {
   "cell_type": "code",
   "execution_count": null,
   "metadata": {},
   "outputs": [],
   "source": []
  }
 ],
 "metadata": {
  "kernelspec": {
   "display_name": "py39",
   "language": "python",
   "name": "python3"
  },
  "language_info": {
   "codemirror_mode": {
    "name": "ipython",
    "version": 3
   },
   "file_extension": ".py",
   "mimetype": "text/x-python",
   "name": "python",
   "nbconvert_exporter": "python",
   "pygments_lexer": "ipython3",
   "version": "3.10.13"
  }
 },
 "nbformat": 4,
 "nbformat_minor": 2
}
