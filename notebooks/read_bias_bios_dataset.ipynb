{
 "cells": [
  {
   "cell_type": "code",
   "execution_count": 2,
   "metadata": {
    "collapsed": true,
    "ExecuteTime": {
     "end_time": "2024-02-06T11:54:07.142478842Z",
     "start_time": "2024-02-06T11:54:06.039988070Z"
    }
   },
   "outputs": [
    {
     "data": {
      "text/plain": "DatasetDict({\n    train: Dataset({\n        features: ['text'],\n        num_rows: 511420\n    })\n    validation: Dataset({\n        features: ['text'],\n        num_rows: 78738\n    })\n    test: Dataset({\n        features: ['text'],\n        num_rows: 196688\n    })\n})"
     },
     "execution_count": 2,
     "metadata": {},
     "output_type": "execute_result"
    }
   ],
   "source": [
    "import pandas as pd\n",
    "import datasets\n",
    "\n",
    "SAVING_PATH = '/home/nlp/matan_avitan/git/vec2text/train_data/bias_bios'\n",
    "ds = datasets.load_from_disk(SAVING_PATH)\n",
    "ds"
   ]
  },
  {
   "cell_type": "code",
   "execution_count": 6,
   "outputs": [
    {
     "data": {
      "text/plain": "['She has been working with children in camp , community and school settings for the past 8 years . She believes in the importance of cultivating self - love and awareness in black children at a very young age and is excited to be apart of Black Lives Matter Toronto ’s Freedom School !',\n 'He holds a PhD in Biosystems Engineering from University College Dublin ( Ireland ) . He previously held academic positions at University College Dublin ( Ireland ) , Dublin Institute of Technology ( Ireland ) and Harper Adams University ( UK ) . He was a PhD research assistant at Teagasc Irish Agriculture and Food Development Authority . His current research focus is on PLF applications , focussing on real - time modelling and control of animal bio - responses . Tomas started as daily coordinator of the EU - PLF project ( 2012 - 2016 ) and now coordinates 4 Ph.D. students and Masters students in PLF at M3-BIORES . He is PI and co - PI on collaborative National and International projects . He also coordinator of courses on Measuring , Modelling and Managing Bio - responses and Sustainable PLF , and Animal Production Engineering .',\n 'John served as the Department Chair of Foley ’s national litigation department from 1986 to 1994 and as the Managing Partner of Foley ’s Milwaukee office from 1994 to 1999 . W hen he retired in 2005 , John was listed in The',\n 'She has more 20 years of experience in the field of Neurosurgery . Dr. Konstantia Stoforou is currently the Director at NeuroCure , Greece . Her clinical interest includes Neurosurgical Oncology of Brain , Spine , Skull Base , Endoscopic Pituitary Surgery and Skull Base , Microsurgery , Neuroendoscopy , Spinal Neuromodulation for Pain Surgery , Gamma Knife Radiation . In 2003 , she was co - author in two chapters in a book named \" Neoplasms - Cranial Base Tumors , \" \" Skull Base Surgery \" and extensively many publications in the field of Neurosurgery .',\n 'Over the years Ash has built an impressive fashion portfolio featuring work done for stylists , designers , magazines , and models . In the past decade , the photographer has also covered events such as parties , speeches , conferences , fundraisers , and many corporate events . Ash has embraced the opportunities offered by working in a city famed for its music and has developed skills in live music photography . His colorful pictures are delivered within 24 hours of the music event .',\n 'Her primary research commitments focus on school - based strategies to promote active healthy lifestyles among children and youth . In particular , she works collaboratively with teachers , researchers , and community stakeholders to enhance students ’ physical activity behaviours and well - being through changes to school curricula , school policy , and school environments .',\n 'She holds an MFA from the California College of the Arts , and has taught painting and drawing at many Bay Area institutions , including the San Francisco Art Institute , the California College of the Arts , the University of California Berkeley , and San Francisco State University . Her work is in both public and private collections , among them the Oakland Museum , the San Antonio Museum , and the Long Beach Museum of Art . She has been awarded artist ’s residencies at the Djerassi Ucross foundations in the United States , and the Delfina Studio Trust and Fundacion Valparaiso in Spain . Bovenzi ’s art has always used the natural world as a source for imagery . For the past ten years , she has spent summers in rural southern Colorado , where the landscape and the indigenous cultures have been a strong influence on her work .',\n 'At both Weskoppies Hospital in Pretoria and in his current practice he has worked with adults , couples and children . He may be reached at Intercare on 041 - 395 9600 or 082 564 1071 .',\n 'She holds a clinical license in social work from NJ where she lived and practiced social work for 11 years before moving to Washington State in 2016 to teach at EWU . She has earned her BSW and MSW from Sofia University \" St. Kliment Ohridski \" , Bulgaria and DSW in Clinical Social work from University of Pennsylvania . Rumyana ’s clinical and scholarly interests include women&#39;s reproductive rights and mental health , perinatal social work , trauma and grief , trauma - informed interventions and systems , and interdisciplinary studies and approach to holistic healthcare .',\n 'The main research field lie in the area of image processing and analysis , pattern recognition and machine learning . Recently , he has participated 3 projects from National Science Foundation , several projects from 863 Hi - tech project , International Science and Technology Cooperation and National Science - technology support Plan . He has published more than 50 scientific papers in international or Chinese journals and conferences , and he obtained the first , second and third prizes of Hubei Science and Technology Progress Award , respectively . He received the title of National Excellent Courses for teaching Assembly language programming']"
     },
     "execution_count": 6,
     "metadata": {},
     "output_type": "execute_result"
    }
   ],
   "source": [
    "ds['train']['text'][:10]"
   ],
   "metadata": {
    "collapsed": false,
    "ExecuteTime": {
     "end_time": "2024-02-06T11:59:58.140331471Z",
     "start_time": "2024-02-06T11:59:58.069041001Z"
    }
   }
  },
  {
   "cell_type": "code",
   "execution_count": null,
   "outputs": [],
   "source": [],
   "metadata": {
    "collapsed": false
   }
  }
 ],
 "metadata": {
  "kernelspec": {
   "display_name": "Python 3",
   "language": "python",
   "name": "python3"
  },
  "language_info": {
   "codemirror_mode": {
    "name": "ipython",
    "version": 2
   },
   "file_extension": ".py",
   "mimetype": "text/x-python",
   "name": "python",
   "nbconvert_exporter": "python",
   "pygments_lexer": "ipython2",
   "version": "2.7.6"
  }
 },
 "nbformat": 4,
 "nbformat_minor": 0
}
