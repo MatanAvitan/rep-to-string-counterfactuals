{
 "cells": [
  {
   "cell_type": "code",
   "execution_count": 14,
   "id": "b800b9ec-7d62-4cdf-9b12-d525507ec420",
   "metadata": {},
   "outputs": [],
   "source": [
    "import pandas as pd\n",
    "from pathlib import Path\n",
    "BASE = Path('join_bios_cfs')\n",
    "OUT_DIR = Path('annotations')"
   ]
  },
  {
   "cell_type": "code",
   "execution_count": 11,
   "id": "0b2aba24-5209-4d1c-a4fc-1b02a013d898",
   "metadata": {},
   "outputs": [],
   "source": [
    "bios_lease_fem_join = pd.read_csv(BASE/'bios_lease_fem_join.csv')\n",
    "bios_lease_mal_join = pd.read_csv(BASE/'bios_lease_mal_join.csv')\n",
    "bios_mimic_fem_to_mal_join = pd.read_csv(BASE/'bios_mimic_fem_to_mal_join.csv')\n",
    "bios_mimic_mal_to_fem_join = pd.read_csv(BASE/'bios_mimic_mal_to_fem_join.csv')\n",
    "bios_mimic_plus_fem_to_mal_join = pd.read_csv(BASE/'bios_mimic_plus_fem_to_mal_join.csv')\n",
    "bios_mimic_plus_mal_to_fem_join = pd.read_csv(BASE/'bios_mimic_plus_mal_to_fem_join.csv')"
   ]
  },
  {
   "cell_type": "code",
   "execution_count": 17,
   "id": "4c133c05-f0cf-4c18-be0b-a99622829be2",
   "metadata": {},
   "outputs": [],
   "source": [
    "bios_lease_fem_join.sample(n=20).to_csv(BASE/OUT_DIR/('bios_lease_fem_join'+'_anno.csv'), index=False)"
   ]
  },
  {
   "cell_type": "code",
   "execution_count": 18,
   "id": "2dd65679-c9e8-43c1-9bcc-573f406d5256",
   "metadata": {},
   "outputs": [],
   "source": [
    "bios_lease_mal_join.sample(n=20).to_csv(BASE/OUT_DIR/('bios_lease_mal_join'+'_anno.csv'), index=False)"
   ]
  },
  {
   "cell_type": "code",
   "execution_count": 19,
   "id": "4273e49d-0b9b-4afe-8403-4e63dec4d19b",
   "metadata": {},
   "outputs": [],
   "source": [
    "bios_mimic_fem_to_mal_join.sample(n=20).to_csv(BASE/OUT_DIR/('bios_mimic_fem_to_mal_join'+'_anno.csv'), index=False)"
   ]
  },
  {
   "cell_type": "code",
   "execution_count": 20,
   "id": "b596b54e-fb62-446c-a4da-5d6170a47a86",
   "metadata": {},
   "outputs": [],
   "source": [
    "bios_mimic_mal_to_fem_join.sample(n=20).to_csv(BASE/OUT_DIR/('bios_mimic_mal_to_fem_join'+'_anno.csv'), index=False)"
   ]
  },
  {
   "cell_type": "code",
   "execution_count": 21,
   "id": "30b9c6b8-d16c-4587-b849-481e03df0318",
   "metadata": {},
   "outputs": [],
   "source": [
    "bios_mimic_plus_fem_to_mal_join.sample(n=20).to_csv(BASE/OUT_DIR/('bios_mimic_plus_fem_to_mal_join'+'_anno.csv'), index=False)"
   ]
  },
  {
   "cell_type": "code",
   "execution_count": 22,
   "id": "dfde8f06-b932-42fb-909b-d2e9cf402f09",
   "metadata": {},
   "outputs": [],
   "source": [
    "bios_mimic_plus_mal_to_fem_join.sample(n=20).to_csv(BASE/OUT_DIR/('bios_mimic_plus_mal_to_fem_join'+'_anno.csv'), index=False)"
   ]
  },
  {
   "cell_type": "code",
   "execution_count": null,
   "id": "0d9572a0-167e-42f4-8f77-d432a42b06ec",
   "metadata": {},
   "outputs": [],
   "source": []
  }
 ],
 "metadata": {
  "kernelspec": {
   "display_name": "Python 3 (ipykernel)",
   "language": "python",
   "name": "python3"
  },
  "language_info": {
   "codemirror_mode": {
    "name": "ipython",
    "version": 3
   },
   "file_extension": ".py",
   "mimetype": "text/x-python",
   "name": "python",
   "nbconvert_exporter": "python",
   "pygments_lexer": "ipython3",
   "version": "3.9.7"
  }
 },
 "nbformat": 4,
 "nbformat_minor": 5
}
